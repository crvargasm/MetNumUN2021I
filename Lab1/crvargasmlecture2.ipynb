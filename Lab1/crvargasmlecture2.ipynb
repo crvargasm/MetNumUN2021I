{
  "nbformat": 4,
  "nbformat_minor": 0,
  "metadata": {
    "kernelspec": {
      "name": "python3",
      "display_name": "Python 3"
    },
    "colab": {
      "name": "Lecture 2: Introduction to Python.ipynb",
      "provenance": [],
      "collapsed_sections": []
    }
  },
  "cells": [
    {
      "cell_type": "markdown",
      "metadata": {
        "id": "cdguOsEwDsbi"
      },
      "source": [
        "# Introduction to Python\n",
        "by Maxwell Margenot\n",
        "\n",
        "Part of the Quantopian Lecture Series:\n",
        "\n",
        "* [www.quantopian.com/lectures](https://www.quantopian.com/lectures)\n",
        "* [github.com/quantopian/research_public](https://github.com/quantopian/research_public)\n",
        "\n",
        "\n",
        "---\n",
        "\n",
        "All of the coding that you will do on the Quantopian platform will be in Python. It is also just a good, jack-of-all-trades language to know! Here we will provide you with the basics so that you can feel confident going through our other lectures and understanding what is happening."
      ]
    },
    {
      "cell_type": "markdown",
      "metadata": {
        "id": "LjyEhxx5Dsbp"
      },
      "source": [
        "## Code Comments\n",
        "\n",
        "A comment is a note made by a programmer in the source code of a program. Its purpose is to clarify the source code and make it easier for people to follow along with what is happening. Anything in a comment is generally ignored when the code is actually run, making comments useful for including explanations and reasoning as well as removing specific lines of code that you may be unsure about. Comments in Python are created by using the pound symbol (`# Insert Text Here`). Including a `#` in a line of code will comment out anything that follows it."
      ]
    },
    {
      "cell_type": "code",
      "metadata": {
        "id": "EOZllDmjDsbq"
      },
      "source": [
        "# This is a comment\n",
        "# These lines of code will not change any values\n",
        "# Anything following the first # is not run as code"
      ],
      "execution_count": 2,
      "outputs": []
    },
    {
      "cell_type": "code",
      "metadata": {
        "id": "a2FHWWDmA8nA"
      },
      "source": [
        "#This is a test\r\n",
        "#Annoteher form to coment\r\n",
        "#The comments on code"
      ],
      "execution_count": 1,
      "outputs": []
    },
    {
      "cell_type": "markdown",
      "metadata": {
        "id": "53-3sbyyDsbq"
      },
      "source": [
        "You may hear text enclosed in triple quotes (`\"\"\" Insert Text Here \"\"\"`) referred to as multi-line comments, but this is not entirely accurate. This is a special type of `string` (a data type we will cover), called a `docstring`, used to explain the purpose of a function."
      ]
    },
    {
      "cell_type": "code",
      "metadata": {
        "id": "Uh_7eq4oDsbr",
        "colab": {
          "base_uri": "https://localhost:8080/",
          "height": 35
        },
        "outputId": "26f4a0d0-2aa2-4dd9-9e1d-40a5ef52e517"
      },
      "source": [
        "\"\"\" This is a special string \"\"\""
      ],
      "execution_count": 3,
      "outputs": [
        {
          "output_type": "execute_result",
          "data": {
            "application/vnd.google.colaboratory.intrinsic+json": {
              "type": "string"
            },
            "text/plain": [
              "' This is a special string '"
            ]
          },
          "metadata": {
            "tags": []
          },
          "execution_count": 3
        }
      ]
    },
    {
      "cell_type": "code",
      "metadata": {
        "colab": {
          "base_uri": "https://localhost:8080/",
          "height": 35
        },
        "id": "qrm3uuzoBFyu",
        "outputId": "c7cd9919-c803-46d8-9973-86f6a7dc6b55"
      },
      "source": [
        "\"\"\" Is like a title \"\"\""
      ],
      "execution_count": 4,
      "outputs": [
        {
          "output_type": "execute_result",
          "data": {
            "application/vnd.google.colaboratory.intrinsic+json": {
              "type": "string"
            },
            "text/plain": [
              "' Is like a title '"
            ]
          },
          "metadata": {
            "tags": []
          },
          "execution_count": 4
        }
      ]
    },
    {
      "cell_type": "markdown",
      "metadata": {
        "id": "7hzd5cz1Dsbr"
      },
      "source": [
        "Make sure you read the comments within each code cell (if they are there). They will provide more real-time explanations of what is going on as you look at each line of code."
      ]
    },
    {
      "cell_type": "markdown",
      "metadata": {
        "id": "CxhjVdt0Dsbr"
      },
      "source": [
        "## Variables\n",
        "\n",
        "Variables provide names for values in programming. If you want to save a value for later or repeated use, you give the value a name, storing the contents in a variable. Variables in programming work in a fundamentally similar way to variables in algebra, but in Python they can take on various different data types.\n",
        "\n",
        "The basic variable types that we will cover in this section are `integers`, `floating point numbers`, `booleans`, and `strings`. \n",
        "\n",
        "An `integer` in programming is the same as in mathematics, a round number with no values after the decimal point. We use the built-in `print` function here to display the values of our variables as well as their types!"
      ]
    },
    {
      "cell_type": "code",
      "metadata": {
        "id": "gqM2vEOzDsbs",
        "colab": {
          "base_uri": "https://localhost:8080/"
        },
        "outputId": "7386cdfd-ae5f-468c-a21e-2438f3c5c93a"
      },
      "source": [
        "my_integer = 50\n",
        "print (my_integer, type(my_integer))"
      ],
      "execution_count": 6,
      "outputs": [
        {
          "output_type": "stream",
          "text": [
            "50 <class 'int'>\n"
          ],
          "name": "stdout"
        }
      ]
    },
    {
      "cell_type": "code",
      "metadata": {
        "colab": {
          "base_uri": "https://localhost:8080/"
        },
        "id": "HpM0IDAQBMrB",
        "outputId": "301d4d80-172a-451f-c058-151b1580a3cd"
      },
      "source": [
        "my_string = \"hello\"\r\n",
        "print (my_string, type(my_string))"
      ],
      "execution_count": 7,
      "outputs": [
        {
          "output_type": "stream",
          "text": [
            "hello <class 'str'>\n"
          ],
          "name": "stdout"
        }
      ]
    },
    {
      "cell_type": "markdown",
      "metadata": {
        "id": "wsbWIqKKDsbs"
      },
      "source": [
        "Variables, regardless of type, are assigned by using a single equals sign (`=`). Variables are case-sensitive so any changes in variation in the capitals of a variable name will reference a different variable entirely."
      ]
    },
    {
      "cell_type": "code",
      "metadata": {
        "id": "nWaRxcwsDsbs",
        "colab": {
          "base_uri": "https://localhost:8080/",
          "height": 180
        },
        "outputId": "5fb1a9d5-ccdd-454e-c53e-25d00f88d91c"
      },
      "source": [
        "one = 1\n",
        "print (One)"
      ],
      "execution_count": 9,
      "outputs": [
        {
          "output_type": "error",
          "ename": "NameError",
          "evalue": "ignored",
          "traceback": [
            "\u001b[0;31m---------------------------------------------------------------------------\u001b[0m",
            "\u001b[0;31mNameError\u001b[0m                                 Traceback (most recent call last)",
            "\u001b[0;32m<ipython-input-9-c2f76e4889d3>\u001b[0m in \u001b[0;36m<module>\u001b[0;34m()\u001b[0m\n\u001b[1;32m      1\u001b[0m \u001b[0mone\u001b[0m \u001b[0;34m=\u001b[0m \u001b[0;36m1\u001b[0m\u001b[0;34m\u001b[0m\u001b[0;34m\u001b[0m\u001b[0m\n\u001b[0;32m----> 2\u001b[0;31m \u001b[0mprint\u001b[0m \u001b[0;34m(\u001b[0m\u001b[0mOne\u001b[0m\u001b[0;34m)\u001b[0m\u001b[0;34m\u001b[0m\u001b[0;34m\u001b[0m\u001b[0m\n\u001b[0m",
            "\u001b[0;31mNameError\u001b[0m: name 'One' is not defined"
          ]
        }
      ]
    },
    {
      "cell_type": "code",
      "metadata": {
        "colab": {
          "base_uri": "https://localhost:8080/",
          "height": 180
        },
        "id": "1iiUCeHSBXWQ",
        "outputId": "468e9a55-45e9-4d84-9297-8424d4e753d7"
      },
      "source": [
        "test = \"test\"\r\n",
        "print (Test)"
      ],
      "execution_count": 10,
      "outputs": [
        {
          "output_type": "error",
          "ename": "NameError",
          "evalue": "ignored",
          "traceback": [
            "\u001b[0;31m---------------------------------------------------------------------------\u001b[0m",
            "\u001b[0;31mNameError\u001b[0m                                 Traceback (most recent call last)",
            "\u001b[0;32m<ipython-input-10-5e90507b7c75>\u001b[0m in \u001b[0;36m<module>\u001b[0;34m()\u001b[0m\n\u001b[1;32m      1\u001b[0m \u001b[0mtest\u001b[0m \u001b[0;34m=\u001b[0m \u001b[0;34m\"test\"\u001b[0m\u001b[0;34m\u001b[0m\u001b[0;34m\u001b[0m\u001b[0m\n\u001b[0;32m----> 2\u001b[0;31m \u001b[0mprint\u001b[0m \u001b[0;34m(\u001b[0m\u001b[0mTest\u001b[0m\u001b[0;34m)\u001b[0m\u001b[0;34m\u001b[0m\u001b[0;34m\u001b[0m\u001b[0m\n\u001b[0m",
            "\u001b[0;31mNameError\u001b[0m: name 'Test' is not defined"
          ]
        }
      ]
    },
    {
      "cell_type": "markdown",
      "metadata": {
        "id": "qlTjDvtlDsbs"
      },
      "source": [
        "A `floating point` number, or a `float` is a fancy name for a real number (again as in mathematics). To define a `float`, we need to either include a decimal point or specify that the value is a float."
      ]
    },
    {
      "cell_type": "code",
      "metadata": {
        "scrolled": true,
        "id": "me88E6UtDsbt",
        "colab": {
          "base_uri": "https://localhost:8080/"
        },
        "outputId": "e7a9d4c7-965b-443e-8bf1-2e52550b6561"
      },
      "source": [
        "my_float = 1.0\n",
        "print (my_float, type(my_float))\n",
        "my_float = float(1)\n",
        "print (my_float, type(my_float))"
      ],
      "execution_count": 11,
      "outputs": [
        {
          "output_type": "stream",
          "text": [
            "1.0 <class 'float'>\n",
            "1.0 <class 'float'>\n"
          ],
          "name": "stdout"
        }
      ]
    },
    {
      "cell_type": "code",
      "metadata": {
        "colab": {
          "base_uri": "https://localhost:8080/"
        },
        "id": "nz8_VWibCMPe",
        "outputId": "63ff41bc-87a9-4ece-dacc-93d4e2f53483"
      },
      "source": [
        "the_float = 4.0\r\n",
        "print (the_float, type(the_float))\r\n",
        "the_float = float(4)\r\n",
        "print (the_float, type(the_float))"
      ],
      "execution_count": 13,
      "outputs": [
        {
          "output_type": "stream",
          "text": [
            "4.0 <class 'float'>\n",
            "4.0 <class 'float'>\n"
          ],
          "name": "stdout"
        }
      ]
    },
    {
      "cell_type": "markdown",
      "metadata": {
        "id": "RSVvMJzaDsbt"
      },
      "source": [
        "A variable of type `float` will not round the number that you store in it, while a variable of type `integer` will. This makes `floats` more suitable for mathematical calculations where you want more than just integers.\n",
        "\n",
        "Note that as we used the `float()` function to force an number to be considered a `float`, we can use the `int()` function to force a number to be considered an `int`."
      ]
    },
    {
      "cell_type": "code",
      "metadata": {
        "id": "qt1UGUJbDsbt",
        "colab": {
          "base_uri": "https://localhost:8080/"
        },
        "outputId": "3697bf13-8190-4d3f-f3d4-dd256f99d60b"
      },
      "source": [
        "my_int = int(3.14159)\n",
        "print (my_int, type(my_int))"
      ],
      "execution_count": 14,
      "outputs": [
        {
          "output_type": "stream",
          "text": [
            "3 <class 'int'>\n"
          ],
          "name": "stdout"
        }
      ]
    },
    {
      "cell_type": "code",
      "metadata": {
        "colab": {
          "base_uri": "https://localhost:8080/"
        },
        "id": "yHkCSO0aCZIz",
        "outputId": "d422521a-3cac-4bda-b26f-efabb5806484"
      },
      "source": [
        "the_int = int(2.7182)\r\n",
        "print (the_int, type(the_int))"
      ],
      "execution_count": 24,
      "outputs": [
        {
          "output_type": "stream",
          "text": [
            "2 <class 'int'>\n"
          ],
          "name": "stdout"
        }
      ]
    },
    {
      "cell_type": "markdown",
      "metadata": {
        "id": "d8YGBI49Dsbt"
      },
      "source": [
        "The `int()` function will also truncate any digits that a number may have after the decimal point!\n",
        "\n",
        "Strings allow you to include text as a variable to operate on. They are defined using either single quotes ('') or double quotes (\"\")."
      ]
    },
    {
      "cell_type": "code",
      "metadata": {
        "id": "bQwM2qVHDsbu",
        "colab": {
          "base_uri": "https://localhost:8080/"
        },
        "outputId": "94cfb5ba-a95f-42ed-8568-b8a60b206f04"
      },
      "source": [
        "my_string = 'This is a string with single quotes'\n",
        "print (my_string)\n",
        "my_string = \"This is a string with double quotes\"\n",
        "print (my_string)"
      ],
      "execution_count": 26,
      "outputs": [
        {
          "output_type": "stream",
          "text": [
            "This is a string with single quotes\n",
            "This is a string with double quotes\n"
          ],
          "name": "stdout"
        }
      ]
    },
    {
      "cell_type": "code",
      "metadata": {
        "colab": {
          "base_uri": "https://localhost:8080/"
        },
        "id": "WRAc8I57C_CY",
        "outputId": "e4da73d9-de91-4613-bcb5-a86240c8ec6b"
      },
      "source": [
        "the_string = 'comillas simples'\r\n",
        "print (the_string)\r\n",
        "the_string = \"dobles comillas\"\r\n",
        "print (the_string)"
      ],
      "execution_count": 27,
      "outputs": [
        {
          "output_type": "stream",
          "text": [
            "comillas simples\n",
            "dobles comillas\n"
          ],
          "name": "stdout"
        }
      ]
    },
    {
      "cell_type": "markdown",
      "metadata": {
        "id": "19Cn8TrqDsbu"
      },
      "source": [
        "Both are allowed so that we can include apostrophes or quotation marks in a string if we so choose."
      ]
    },
    {
      "cell_type": "code",
      "metadata": {
        "id": "UKY4ePa2Dsbu",
        "colab": {
          "base_uri": "https://localhost:8080/"
        },
        "outputId": "fb40336f-4457-48bf-c0e7-872af84f23f2"
      },
      "source": [
        "my_string = '\"Jabberwocky\", by Lewis Carroll'\n",
        "print (my_string)\n",
        "my_string = \"'Twas brillig, and the slithy toves / Did gyre and gimble in the wabe;\"\n",
        "print (my_string)"
      ],
      "execution_count": 28,
      "outputs": [
        {
          "output_type": "stream",
          "text": [
            "\"Jabberwocky\", by Lewis Carroll\n",
            "'Twas brillig, and the slithy toves / Did gyre and gimble in the wabe;\n"
          ],
          "name": "stdout"
        }
      ]
    },
    {
      "cell_type": "code",
      "metadata": {
        "colab": {
          "base_uri": "https://localhost:8080/"
        },
        "id": "qUdHhUfGDJKm",
        "outputId": "f3398d23-54c7-4690-8016-3eefee75f819"
      },
      "source": [
        "the_string = '\"Batman\", by DC Comics'\r\n",
        "print (the_string)\r\n",
        "the_string = \"'Fue algo impresionante / Puede que se pueda repetir;\"\r\n",
        "print (the_string)"
      ],
      "execution_count": 29,
      "outputs": [
        {
          "output_type": "stream",
          "text": [
            "\"Batman\", by DC Comics\n",
            "'Fue algo impresionante / Puede que se pueda repetir;\n"
          ],
          "name": "stdout"
        }
      ]
    },
    {
      "cell_type": "markdown",
      "metadata": {
        "id": "BBci5PwNDsbu"
      },
      "source": [
        "Booleans, or `bools` are binary variable types. A `bool` can only take on one of two values, these being `True` or `False`. There is much more to this idea of truth values when it comes to programming, which we cover later in the [Logical Operators](#id-section5) of this notebook."
      ]
    },
    {
      "cell_type": "code",
      "metadata": {
        "id": "wUKngko5Dsbv",
        "colab": {
          "base_uri": "https://localhost:8080/"
        },
        "outputId": "cf33cb4e-25ec-49b3-a8ab-1a4ef44c2f4e"
      },
      "source": [
        "my_bool = True\n",
        "print (my_bool, type(my_bool))"
      ],
      "execution_count": 31,
      "outputs": [
        {
          "output_type": "stream",
          "text": [
            "True <class 'bool'>\n"
          ],
          "name": "stdout"
        }
      ]
    },
    {
      "cell_type": "code",
      "metadata": {
        "colab": {
          "base_uri": "https://localhost:8080/"
        },
        "id": "qlP30V_BDiBN",
        "outputId": "1000de32-e4b4-4d0b-f00e-993c41aedea2"
      },
      "source": [
        "the_bool = False\r\n",
        "print (the_bool, type(the_bool))"
      ],
      "execution_count": 32,
      "outputs": [
        {
          "output_type": "stream",
          "text": [
            "False <class 'bool'>\n"
          ],
          "name": "stdout"
        }
      ]
    },
    {
      "cell_type": "markdown",
      "metadata": {
        "id": "niWYJwzwDsbv"
      },
      "source": [
        "There are many more data types that you can assign as variables in Python, but these are the basic ones! We will cover a few more later as we move through this tutorial."
      ]
    },
    {
      "cell_type": "markdown",
      "metadata": {
        "id": "LwhwEMXxDsbv"
      },
      "source": [
        "## Basic Math\n",
        "\n",
        "Python has a number of built-in math functions. These can be extended even further by importing the **math** package or by including any number of other calculation-based packages.\n",
        "\n",
        "All of the basic arithmetic operations are supported: `+`, `-`, `/`, and `*`. You can create exponents by using `**` and modular arithmetic is introduced with the mod operator, `%`."
      ]
    },
    {
      "cell_type": "code",
      "metadata": {
        "id": "Dd1P2ttSDsbv",
        "colab": {
          "base_uri": "https://localhost:8080/"
        },
        "outputId": "1666f587-f4e0-4f11-f881-49cf455e94c4"
      },
      "source": [
        "print ('Addition: ', 2 + 2)\n",
        "print ('Subtraction: ', 7 - 4)\n",
        "print ('Multiplication: ', 2 * 5)\n",
        "print ('Division: ', 10 / 2)\n",
        "print ('Exponentiation: ', 3**2)"
      ],
      "execution_count": 33,
      "outputs": [
        {
          "output_type": "stream",
          "text": [
            "Addition:  4\n",
            "Subtraction:  3\n",
            "Multiplication:  10\n",
            "Division:  5.0\n",
            "Exponentiation:  9\n"
          ],
          "name": "stdout"
        }
      ]
    },
    {
      "cell_type": "code",
      "metadata": {
        "colab": {
          "base_uri": "https://localhost:8080/"
        },
        "id": "bhR6bB2WDs3l",
        "outputId": "7edb391c-8e3b-4953-d042-6ccb2f77e216"
      },
      "source": [
        "print ('Addition: ', 3 + 3)\r\n",
        "print ('Subtraction: ', 8 - 5)\r\n",
        "print ('Multiplication: ', 4 * 6)\r\n",
        "print ('Division: ', 60 / 5)\r\n",
        "print ('Exponentiation: ', 2**7)"
      ],
      "execution_count": 34,
      "outputs": [
        {
          "output_type": "stream",
          "text": [
            "Addition:  6\n",
            "Subtraction:  3\n",
            "Multiplication:  24\n",
            "Division:  12.0\n",
            "Exponentiation:  128\n"
          ],
          "name": "stdout"
        }
      ]
    },
    {
      "cell_type": "markdown",
      "metadata": {
        "id": "5yxFp6i3Dsbv"
      },
      "source": [
        "If you are not familiar with the the mod operator, it operates like a remainder function. If we type $15 \\ \\% \\ 4$, it will return the remainder after dividing $15$ by $4$."
      ]
    },
    {
      "cell_type": "code",
      "metadata": {
        "id": "lG7HuKmgDsbw",
        "colab": {
          "base_uri": "https://localhost:8080/"
        },
        "outputId": "73db73fd-5c27-4c08-e636-884c9c813144"
      },
      "source": [
        "print ('Modulo: ', 15 % 4)"
      ],
      "execution_count": 35,
      "outputs": [
        {
          "output_type": "stream",
          "text": [
            "Modulo:  3\n"
          ],
          "name": "stdout"
        }
      ]
    },
    {
      "cell_type": "code",
      "metadata": {
        "colab": {
          "base_uri": "https://localhost:8080/"
        },
        "id": "BQIjuUrUD6RL",
        "outputId": "6f8e0d13-ad4a-4c4a-f1a7-2bb55bdb08c2"
      },
      "source": [
        "print ('Modulo: ', 135 % 7)"
      ],
      "execution_count": 36,
      "outputs": [
        {
          "output_type": "stream",
          "text": [
            "Modulo:  2\n"
          ],
          "name": "stdout"
        }
      ]
    },
    {
      "cell_type": "markdown",
      "metadata": {
        "id": "cjKISbUxDsbw"
      },
      "source": [
        "Mathematical functions also work on variables!"
      ]
    },
    {
      "cell_type": "code",
      "metadata": {
        "scrolled": true,
        "id": "urAnb1V4Dsbw",
        "colab": {
          "base_uri": "https://localhost:8080/"
        },
        "outputId": "f1f0b687-9158-4cc9-c050-a50a368231f8"
      },
      "source": [
        "first_integer = 4\n",
        "second_integer = 5\n",
        "print (first_integer * second_integer)"
      ],
      "execution_count": 38,
      "outputs": [
        {
          "output_type": "stream",
          "text": [
            "20\n"
          ],
          "name": "stdout"
        }
      ]
    },
    {
      "cell_type": "code",
      "metadata": {
        "colab": {
          "base_uri": "https://localhost:8080/"
        },
        "id": "89fn4lCnEAtT",
        "outputId": "206e300c-bd60-4b28-a441-f62630e2f97e"
      },
      "source": [
        "a = 12\r\n",
        "b = 54\r\n",
        "print (a * b)"
      ],
      "execution_count": 39,
      "outputs": [
        {
          "output_type": "stream",
          "text": [
            "648\n"
          ],
          "name": "stdout"
        }
      ]
    },
    {
      "cell_type": "markdown",
      "metadata": {
        "id": "QLDJZFr1Dsbw"
      },
      "source": [
        "Make sure that your variables are floats if you want to have decimal points in your answer. If you perform math exclusively with integers, you get an integer. Including any float in the calculation will make the result a float."
      ]
    },
    {
      "cell_type": "code",
      "metadata": {
        "id": "iBBFsLT2Dsbw",
        "colab": {
          "base_uri": "https://localhost:8080/"
        },
        "outputId": "a4121b27-db6a-4d9f-d2f0-f8e992301d5d"
      },
      "source": [
        "first_integer = 11\n",
        "second_integer = 3\n",
        "print (first_integer / second_integer)"
      ],
      "execution_count": 41,
      "outputs": [
        {
          "output_type": "stream",
          "text": [
            "3.6666666666666665\n"
          ],
          "name": "stdout"
        }
      ]
    },
    {
      "cell_type": "code",
      "metadata": {
        "colab": {
          "base_uri": "https://localhost:8080/"
        },
        "id": "XGSURekcEMMF",
        "outputId": "1774ea5b-eb4a-40b3-92f0-46d199abdf0b"
      },
      "source": [
        "a = 14\r\n",
        "b = 3\r\n",
        "print (a / b)"
      ],
      "execution_count": 42,
      "outputs": [
        {
          "output_type": "stream",
          "text": [
            "4.666666666666667\n"
          ],
          "name": "stdout"
        }
      ]
    },
    {
      "cell_type": "code",
      "metadata": {
        "colab": {
          "base_uri": "https://localhost:8080/"
        },
        "id": "S-5y20_fEcO0",
        "outputId": "8bf850b2-ca2a-4f50-f05c-e61f41be06f8"
      },
      "source": [
        "first_integer = 11.0\r\n",
        "second_integer = 3.0\r\n",
        "print (first_integer / second_integer)"
      ],
      "execution_count": 44,
      "outputs": [
        {
          "output_type": "stream",
          "text": [
            "3.6666666666666665\n"
          ],
          "name": "stdout"
        }
      ]
    },
    {
      "cell_type": "code",
      "metadata": {
        "id": "2fVACwXhDsbx",
        "colab": {
          "base_uri": "https://localhost:8080/"
        },
        "outputId": "d48a7e63-607a-49de-ba5e-ce9e1f8d5115"
      },
      "source": [
        "a = 14.0\n",
        "b = 3.0\n",
        "print (a / b)"
      ],
      "execution_count": 43,
      "outputs": [
        {
          "output_type": "stream",
          "text": [
            "4.666666666666667\n"
          ],
          "name": "stdout"
        }
      ]
    },
    {
      "cell_type": "markdown",
      "metadata": {
        "id": "PzwmzqUSDsbx"
      },
      "source": [
        "Python has a few built-in math functions. The most notable of these are:\n",
        "\n",
        "* `abs()`\n",
        "* `round()`\n",
        "* `max()`\n",
        "* `min()`\n",
        "* `sum()`\n",
        "\n",
        "These functions all act as you would expect, given their names. Calling `abs()` on a number will return its absolute value. The `round()` function will round a number to a specified number of the decimal points (the default is $0$). Calling `max()` or `min()` on a collection of numbers will return, respectively, the maximum or minimum value in the collection. Calling `sum()` on a collection of numbers will add them all up. If you're not familiar with how collections of values in Python work, don't worry! We will cover collections in-depth in the next section. \n",
        "\n",
        "Additional math functionality can be added in with the `math` package."
      ]
    },
    {
      "cell_type": "code",
      "metadata": {
        "id": "d8s7jifZDsby"
      },
      "source": [
        "import math"
      ],
      "execution_count": 46,
      "outputs": []
    },
    {
      "cell_type": "code",
      "metadata": {
        "id": "UCS_LnbKEhkx"
      },
      "source": [
        "import math"
      ],
      "execution_count": 45,
      "outputs": []
    },
    {
      "cell_type": "markdown",
      "metadata": {
        "id": "rtl3TwEjDsby"
      },
      "source": [
        "The math library adds a long list of new mathematical functions to Python. Feel free to check out the [documentation](https://docs.python.org/2/library/math.html) for the full list and details. It concludes some mathematical constants"
      ]
    },
    {
      "cell_type": "code",
      "metadata": {
        "id": "NC7Q3TdsDsby",
        "colab": {
          "base_uri": "https://localhost:8080/"
        },
        "outputId": "9aaba2b4-bab3-40f7-f726-ff249c18b153"
      },
      "source": [
        "print ('Pi: ', math.pi)\n",
        "print (\"Euler's Constant: \", math.e)"
      ],
      "execution_count": 47,
      "outputs": [
        {
          "output_type": "stream",
          "text": [
            "Pi:  3.141592653589793\n",
            "Euler's Constant:  2.718281828459045\n"
          ],
          "name": "stdout"
        }
      ]
    },
    {
      "cell_type": "code",
      "metadata": {
        "colab": {
          "base_uri": "https://localhost:8080/"
        },
        "id": "ANXHlkAZEmDA",
        "outputId": "257a9712-3381-48b9-ae76-cf53eefd59cc"
      },
      "source": [
        "print ('Tau: ',math.tau)\r\n",
        "print ('root(2): ', math.sqrt(2))"
      ],
      "execution_count": 50,
      "outputs": [
        {
          "output_type": "stream",
          "text": [
            "Tau:  6.283185307179586\n",
            "root(2):  1.4142135623730951\n"
          ],
          "name": "stdout"
        }
      ]
    },
    {
      "cell_type": "markdown",
      "metadata": {
        "id": "RYhqOI2eDsby"
      },
      "source": [
        "As well as some commonly used math functions"
      ]
    },
    {
      "cell_type": "code",
      "metadata": {
        "id": "v3eJNj14Dsby",
        "colab": {
          "base_uri": "https://localhost:8080/"
        },
        "outputId": "9a464f7a-9d8e-455c-afb2-6517bbcb521b"
      },
      "source": [
        "print ('Cosine of pi: ', math.cos(math.pi))"
      ],
      "execution_count": 51,
      "outputs": [
        {
          "output_type": "stream",
          "text": [
            "Cosine of pi:  -1.0\n"
          ],
          "name": "stdout"
        }
      ]
    },
    {
      "cell_type": "code",
      "metadata": {
        "colab": {
          "base_uri": "https://localhost:8080/"
        },
        "id": "S66SPHVrFa6R",
        "outputId": "1625d77b-5b4e-401f-80dc-a7d1a55137e2"
      },
      "source": [
        "print ('Sine of tau: ', math.sin(math.tau))"
      ],
      "execution_count": 52,
      "outputs": [
        {
          "output_type": "stream",
          "text": [
            "Sine of tau:  -2.4492935982947064e-16\n"
          ],
          "name": "stdout"
        }
      ]
    },
    {
      "cell_type": "markdown",
      "metadata": {
        "id": "YWwsPZFUDsb0"
      },
      "source": [
        "## Collections\n",
        "### Lists\n",
        "\n",
        "A `list` in Python is an ordered collection of objects that can contain any data type. We define a `list` using brackets (`[]`)."
      ]
    },
    {
      "cell_type": "code",
      "metadata": {
        "id": "ZimURALdDsb0",
        "colab": {
          "base_uri": "https://localhost:8080/"
        },
        "outputId": "92778389-f6db-4387-f880-b952f9186286"
      },
      "source": [
        "my_list = [1, 2, 3]\n",
        "print (my_list)"
      ],
      "execution_count": 53,
      "outputs": [
        {
          "output_type": "stream",
          "text": [
            "[1, 2, 3]\n"
          ],
          "name": "stdout"
        }
      ]
    },
    {
      "cell_type": "code",
      "metadata": {
        "colab": {
          "base_uri": "https://localhost:8080/"
        },
        "id": "Lr4PqqIUF0i7",
        "outputId": "62545aa1-2b9b-4e26-9c70-aa84fdc8cacb"
      },
      "source": [
        "the_list = [4, 5, 6]\r\n",
        "print (the_list)"
      ],
      "execution_count": 54,
      "outputs": [
        {
          "output_type": "stream",
          "text": [
            "[4, 5, 6]\n"
          ],
          "name": "stdout"
        }
      ]
    },
    {
      "cell_type": "markdown",
      "metadata": {
        "id": "tvRf4VQXDsb0"
      },
      "source": [
        "We can access and index the list by using brackets as well. In order to select an individual element, simply type the list name followed by the index of the item you are looking for in braces."
      ]
    },
    {
      "cell_type": "code",
      "metadata": {
        "id": "i4dnKwqfDsb1",
        "colab": {
          "base_uri": "https://localhost:8080/"
        },
        "outputId": "3cfdbd0e-ffd8-4d00-8b24-52538ec32e2e"
      },
      "source": [
        "print (my_list[0])\n",
        "print (my_list[2])"
      ],
      "execution_count": 56,
      "outputs": [
        {
          "output_type": "stream",
          "text": [
            "1\n",
            "3\n"
          ],
          "name": "stdout"
        }
      ]
    },
    {
      "cell_type": "code",
      "metadata": {
        "colab": {
          "base_uri": "https://localhost:8080/"
        },
        "id": "WkCoF2aLF7Vy",
        "outputId": "59fb4de0-6f79-43fd-828e-728699e3f866"
      },
      "source": [
        "print (the_list[0])\r\n",
        "print (the_list[2])"
      ],
      "execution_count": 57,
      "outputs": [
        {
          "output_type": "stream",
          "text": [
            "4\n",
            "6\n"
          ],
          "name": "stdout"
        }
      ]
    },
    {
      "cell_type": "markdown",
      "metadata": {
        "id": "BSPeT0t0Dsb1"
      },
      "source": [
        "Indexing in Python starts from $0$. If you have a list of length $n$, the first element of the list is at index $0$, the second element is at index $1$, and so on and so forth. The final element of the list will be at index $n-1$. Be careful! Trying to access a non-existent index will cause an error."
      ]
    },
    {
      "cell_type": "code",
      "metadata": {
        "id": "dzOIl8BODsb1",
        "colab": {
          "base_uri": "https://localhost:8080/",
          "height": 197
        },
        "outputId": "ea943353-cd28-41a7-c6b3-3cace0160323"
      },
      "source": [
        "print ('The first, second, and third list elements: ', my_list[0], my_list[1], my_list[2])\n",
        "print ('Accessing outside the list bounds causes an error: ', my_list[3])"
      ],
      "execution_count": 58,
      "outputs": [
        {
          "output_type": "stream",
          "text": [
            "The first, second, and third list elements:  1 2 3\n"
          ],
          "name": "stdout"
        },
        {
          "output_type": "error",
          "ename": "IndexError",
          "evalue": "ignored",
          "traceback": [
            "\u001b[0;31m---------------------------------------------------------------------------\u001b[0m",
            "\u001b[0;31mIndexError\u001b[0m                                Traceback (most recent call last)",
            "\u001b[0;32m<ipython-input-58-71889cb02960>\u001b[0m in \u001b[0;36m<module>\u001b[0;34m()\u001b[0m\n\u001b[1;32m      1\u001b[0m \u001b[0mprint\u001b[0m \u001b[0;34m(\u001b[0m\u001b[0;34m'The first, second, and third list elements: '\u001b[0m\u001b[0;34m,\u001b[0m \u001b[0mmy_list\u001b[0m\u001b[0;34m[\u001b[0m\u001b[0;36m0\u001b[0m\u001b[0;34m]\u001b[0m\u001b[0;34m,\u001b[0m \u001b[0mmy_list\u001b[0m\u001b[0;34m[\u001b[0m\u001b[0;36m1\u001b[0m\u001b[0;34m]\u001b[0m\u001b[0;34m,\u001b[0m \u001b[0mmy_list\u001b[0m\u001b[0;34m[\u001b[0m\u001b[0;36m2\u001b[0m\u001b[0;34m]\u001b[0m\u001b[0;34m)\u001b[0m\u001b[0;34m\u001b[0m\u001b[0;34m\u001b[0m\u001b[0m\n\u001b[0;32m----> 2\u001b[0;31m \u001b[0mprint\u001b[0m \u001b[0;34m(\u001b[0m\u001b[0;34m'Accessing outside the list bounds causes an error: '\u001b[0m\u001b[0;34m,\u001b[0m \u001b[0mmy_list\u001b[0m\u001b[0;34m[\u001b[0m\u001b[0;36m3\u001b[0m\u001b[0;34m]\u001b[0m\u001b[0;34m)\u001b[0m\u001b[0;34m\u001b[0m\u001b[0;34m\u001b[0m\u001b[0m\n\u001b[0m",
            "\u001b[0;31mIndexError\u001b[0m: list index out of range"
          ]
        }
      ]
    },
    {
      "cell_type": "code",
      "metadata": {
        "colab": {
          "base_uri": "https://localhost:8080/",
          "height": 197
        },
        "id": "zEvTtsdyGCTG",
        "outputId": "3b74d899-e464-4d08-a32c-d511d2ece682"
      },
      "source": [
        "print ('The first, second, and third list elements: ', the_list[0], the_list[1], the_list[2])\r\n",
        "print ('Accessing outside the list bounds causes an error: ', the_list[3])"
      ],
      "execution_count": 59,
      "outputs": [
        {
          "output_type": "stream",
          "text": [
            "The first, second, and third list elements:  4 5 6\n"
          ],
          "name": "stdout"
        },
        {
          "output_type": "error",
          "ename": "IndexError",
          "evalue": "ignored",
          "traceback": [
            "\u001b[0;31m---------------------------------------------------------------------------\u001b[0m",
            "\u001b[0;31mIndexError\u001b[0m                                Traceback (most recent call last)",
            "\u001b[0;32m<ipython-input-59-5f4f895ac903>\u001b[0m in \u001b[0;36m<module>\u001b[0;34m()\u001b[0m\n\u001b[1;32m      1\u001b[0m \u001b[0mprint\u001b[0m \u001b[0;34m(\u001b[0m\u001b[0;34m'The first, second, and third list elements: '\u001b[0m\u001b[0;34m,\u001b[0m \u001b[0mthe_list\u001b[0m\u001b[0;34m[\u001b[0m\u001b[0;36m0\u001b[0m\u001b[0;34m]\u001b[0m\u001b[0;34m,\u001b[0m \u001b[0mthe_list\u001b[0m\u001b[0;34m[\u001b[0m\u001b[0;36m1\u001b[0m\u001b[0;34m]\u001b[0m\u001b[0;34m,\u001b[0m \u001b[0mthe_list\u001b[0m\u001b[0;34m[\u001b[0m\u001b[0;36m2\u001b[0m\u001b[0;34m]\u001b[0m\u001b[0;34m)\u001b[0m\u001b[0;34m\u001b[0m\u001b[0;34m\u001b[0m\u001b[0m\n\u001b[0;32m----> 2\u001b[0;31m \u001b[0mprint\u001b[0m \u001b[0;34m(\u001b[0m\u001b[0;34m'Accessing outside the list bounds causes an error: '\u001b[0m\u001b[0;34m,\u001b[0m \u001b[0mthe_list\u001b[0m\u001b[0;34m[\u001b[0m\u001b[0;36m3\u001b[0m\u001b[0;34m]\u001b[0m\u001b[0;34m)\u001b[0m\u001b[0;34m\u001b[0m\u001b[0;34m\u001b[0m\u001b[0m\n\u001b[0m",
            "\u001b[0;31mIndexError\u001b[0m: list index out of range"
          ]
        }
      ]
    },
    {
      "cell_type": "markdown",
      "metadata": {
        "id": "K4qQdgtyDsb1"
      },
      "source": [
        "We can see the number of elements in a list by calling the `len()` function."
      ]
    },
    {
      "cell_type": "code",
      "metadata": {
        "id": "cSXezNbQDsb1",
        "colab": {
          "base_uri": "https://localhost:8080/"
        },
        "outputId": "8b0066e6-77d6-4960-f824-5330339886c2"
      },
      "source": [
        "print (len(my_list))"
      ],
      "execution_count": 60,
      "outputs": [
        {
          "output_type": "stream",
          "text": [
            "3\n"
          ],
          "name": "stdout"
        }
      ]
    },
    {
      "cell_type": "code",
      "metadata": {
        "colab": {
          "base_uri": "https://localhost:8080/"
        },
        "id": "DXDbeSHgGKkn",
        "outputId": "965541a3-e82d-4e56-88cf-5fbb267df48c"
      },
      "source": [
        "print (len(the_list))"
      ],
      "execution_count": 61,
      "outputs": [
        {
          "output_type": "stream",
          "text": [
            "3\n"
          ],
          "name": "stdout"
        }
      ]
    },
    {
      "cell_type": "markdown",
      "metadata": {
        "id": "1VkEmabLDsb1"
      },
      "source": [
        "We can update and change a list by accessing an index and assigning new value."
      ]
    },
    {
      "cell_type": "code",
      "metadata": {
        "id": "Cm-yVPIRDsb2",
        "colab": {
          "base_uri": "https://localhost:8080/"
        },
        "outputId": "413510ef-3892-4142-ec4d-81716ea634fe"
      },
      "source": [
        "print (my_list)\n",
        "my_list[0] = 42\n",
        "print (my_list)"
      ],
      "execution_count": 66,
      "outputs": [
        {
          "output_type": "stream",
          "text": [
            "[1, 2, 3]\n",
            "[42, 2, 3]\n"
          ],
          "name": "stdout"
        }
      ]
    },
    {
      "cell_type": "code",
      "metadata": {
        "colab": {
          "base_uri": "https://localhost:8080/"
        },
        "id": "KV-IHpd3HCgt",
        "outputId": "45b83fd6-b82d-4f5d-bd42-45587a687a7c"
      },
      "source": [
        "print (the_list)\r\n",
        "the_list[0] = 1\r\n",
        "print (the_list)"
      ],
      "execution_count": 67,
      "outputs": [
        {
          "output_type": "stream",
          "text": [
            "[4, 5, 6]\n",
            "[1, 5, 6]\n"
          ],
          "name": "stdout"
        }
      ]
    },
    {
      "cell_type": "markdown",
      "metadata": {
        "id": "21Dz_-JaDsb2"
      },
      "source": [
        "This is fundamentally different from how strings are handled. A `list` is mutable, meaning that you can change a `list`'s elements without changing the list itself. Some data types, like `strings`, are immutable, meaning you cannot change them at all. Once a `string` or other immutable data type has been created, it cannot be directly modified without creating an entirely new object."
      ]
    },
    {
      "cell_type": "code",
      "metadata": {
        "id": "xrFkl-FsDsb2",
        "colab": {
          "base_uri": "https://localhost:8080/",
          "height": 180
        },
        "outputId": "4660b79b-6a4b-4e1d-8949-782a074cddb4"
      },
      "source": [
        "my_string = \"Strings never change\"\n",
        "my_string[0] = 'Z'"
      ],
      "execution_count": 68,
      "outputs": [
        {
          "output_type": "error",
          "ename": "TypeError",
          "evalue": "ignored",
          "traceback": [
            "\u001b[0;31m---------------------------------------------------------------------------\u001b[0m",
            "\u001b[0;31mTypeError\u001b[0m                                 Traceback (most recent call last)",
            "\u001b[0;32m<ipython-input-68-85065ecd61ab>\u001b[0m in \u001b[0;36m<module>\u001b[0;34m()\u001b[0m\n\u001b[1;32m      1\u001b[0m \u001b[0mmy_string\u001b[0m \u001b[0;34m=\u001b[0m \u001b[0;34m\"Strings never change\"\u001b[0m\u001b[0;34m\u001b[0m\u001b[0;34m\u001b[0m\u001b[0m\n\u001b[0;32m----> 2\u001b[0;31m \u001b[0mmy_string\u001b[0m\u001b[0;34m[\u001b[0m\u001b[0;36m0\u001b[0m\u001b[0;34m]\u001b[0m \u001b[0;34m=\u001b[0m \u001b[0;34m'Z'\u001b[0m\u001b[0;34m\u001b[0m\u001b[0;34m\u001b[0m\u001b[0m\n\u001b[0m",
            "\u001b[0;31mTypeError\u001b[0m: 'str' object does not support item assignment"
          ]
        }
      ]
    },
    {
      "cell_type": "code",
      "metadata": {
        "colab": {
          "base_uri": "https://localhost:8080/",
          "height": 180
        },
        "id": "x3Sptf8GHOaf",
        "outputId": "334cc535-2841-41d7-8a41-5869d18e12a4"
      },
      "source": [
        "the_string = \"Prueba\"\r\n",
        "the_string[0] = 'W'"
      ],
      "execution_count": 69,
      "outputs": [
        {
          "output_type": "error",
          "ename": "TypeError",
          "evalue": "ignored",
          "traceback": [
            "\u001b[0;31m---------------------------------------------------------------------------\u001b[0m",
            "\u001b[0;31mTypeError\u001b[0m                                 Traceback (most recent call last)",
            "\u001b[0;32m<ipython-input-69-251092b7975c>\u001b[0m in \u001b[0;36m<module>\u001b[0;34m()\u001b[0m\n\u001b[1;32m      1\u001b[0m \u001b[0mthe_string\u001b[0m \u001b[0;34m=\u001b[0m \u001b[0;34m\"Prueba\"\u001b[0m\u001b[0;34m\u001b[0m\u001b[0;34m\u001b[0m\u001b[0m\n\u001b[0;32m----> 2\u001b[0;31m \u001b[0mthe_string\u001b[0m\u001b[0;34m[\u001b[0m\u001b[0;36m0\u001b[0m\u001b[0;34m]\u001b[0m \u001b[0;34m=\u001b[0m \u001b[0;34m'W'\u001b[0m\u001b[0;34m\u001b[0m\u001b[0;34m\u001b[0m\u001b[0m\n\u001b[0m",
            "\u001b[0;31mTypeError\u001b[0m: 'str' object does not support item assignment"
          ]
        }
      ]
    },
    {
      "cell_type": "markdown",
      "metadata": {
        "id": "yXlJKArwDsb2"
      },
      "source": [
        "As we stated before, a list can contain any data type. Thus, lists can also contain strings."
      ]
    },
    {
      "cell_type": "code",
      "metadata": {
        "id": "Vx9scfwrDsb2",
        "colab": {
          "base_uri": "https://localhost:8080/"
        },
        "outputId": "74305489-3570-4b06-b8cf-5ee9211aa1e2"
      },
      "source": [
        "my_list_2 = ['one', 'two', 'three']\n",
        "print (my_list_2)"
      ],
      "execution_count": 70,
      "outputs": [
        {
          "output_type": "stream",
          "text": [
            "['one', 'two', 'three']\n"
          ],
          "name": "stdout"
        }
      ]
    },
    {
      "cell_type": "code",
      "metadata": {
        "colab": {
          "base_uri": "https://localhost:8080/"
        },
        "id": "QqZ13m2DHWxI",
        "outputId": "9dac67e4-1f01-48be-f718-9b98ae2de14b"
      },
      "source": [
        "the_list_2 = ['a', 'be', 'ce']\r\n",
        "print (the_list_2)"
      ],
      "execution_count": 71,
      "outputs": [
        {
          "output_type": "stream",
          "text": [
            "['a', 'be', 'ce']\n"
          ],
          "name": "stdout"
        }
      ]
    },
    {
      "cell_type": "markdown",
      "metadata": {
        "id": "t5O4islODsb3"
      },
      "source": [
        "Lists can also contain multiple different data types at once!"
      ]
    },
    {
      "cell_type": "code",
      "metadata": {
        "id": "Ja_xuVLVDsb3"
      },
      "source": [
        "my_list_3 = [True, 'False', 42]"
      ],
      "execution_count": 72,
      "outputs": []
    },
    {
      "cell_type": "code",
      "metadata": {
        "id": "K2LYpml0HdkQ"
      },
      "source": [
        "the_list_3 = [False, 'True', 24]"
      ],
      "execution_count": 73,
      "outputs": []
    },
    {
      "cell_type": "markdown",
      "metadata": {
        "id": "qKvyCK9IDsb3"
      },
      "source": [
        "If you want to put two lists together, they can be combined with a `+` symbol."
      ]
    },
    {
      "cell_type": "code",
      "metadata": {
        "id": "lojR4dYSDsb3",
        "colab": {
          "base_uri": "https://localhost:8080/"
        },
        "outputId": "14c96b84-47c4-459b-b957-a2518e5b1751"
      },
      "source": [
        "my_list_4 = my_list + my_list_2 + my_list_3\n",
        "print (my_list_4)"
      ],
      "execution_count": 75,
      "outputs": [
        {
          "output_type": "stream",
          "text": [
            "[42, 2, 3, 'one', 'two', 'three', True, 'False', 42]\n"
          ],
          "name": "stdout"
        }
      ]
    },
    {
      "cell_type": "code",
      "metadata": {
        "colab": {
          "base_uri": "https://localhost:8080/"
        },
        "id": "IWIzlFCTHiwU",
        "outputId": "ec2a7f57-bccc-4d0d-cf27-30cb9a9a6fd4"
      },
      "source": [
        "the_list_4 = the_list + the_list_2 + the_list_3\r\n",
        "print (the_list_4)"
      ],
      "execution_count": 74,
      "outputs": [
        {
          "output_type": "stream",
          "text": [
            "[1, 5, 6, 'a', 'be', 'ce', False, 'True', 24]\n"
          ],
          "name": "stdout"
        }
      ]
    },
    {
      "cell_type": "markdown",
      "metadata": {
        "id": "xNYlSKhMDsb3"
      },
      "source": [
        "In addition to accessing individual elements of a list, we can access groups of elements through slicing."
      ]
    },
    {
      "cell_type": "code",
      "metadata": {
        "id": "i2bDGMkBDsb4"
      },
      "source": [
        "my_list = ['friends', 'romans', 'countrymen', 'lend', 'me', 'your', 'ears']"
      ],
      "execution_count": 76,
      "outputs": []
    },
    {
      "cell_type": "code",
      "metadata": {
        "id": "mI95r2NJHwaN"
      },
      "source": [
        "the_list = ['amigos', 'romanos', 'compatriota', 'prestar', 'yo', 'tu', 'oidos']"
      ],
      "execution_count": 77,
      "outputs": []
    },
    {
      "cell_type": "markdown",
      "metadata": {
        "id": "Glum3erxDsb4"
      },
      "source": [
        "#### Slicing\n",
        "\n",
        "We use the colon (`:`) to slice lists. "
      ]
    },
    {
      "cell_type": "code",
      "metadata": {
        "scrolled": true,
        "id": "_6h3fKPdDsb4",
        "colab": {
          "base_uri": "https://localhost:8080/"
        },
        "outputId": "0f8539b2-3e05-4a75-90aa-a51fc1e881db"
      },
      "source": [
        "print (my_list[2:4])"
      ],
      "execution_count": 78,
      "outputs": [
        {
          "output_type": "stream",
          "text": [
            "['countrymen', 'lend']\n"
          ],
          "name": "stdout"
        }
      ]
    },
    {
      "cell_type": "code",
      "metadata": {
        "colab": {
          "base_uri": "https://localhost:8080/"
        },
        "id": "C52Ma8I4IhUx",
        "outputId": "fa5a2fc1-2873-40b3-c427-136d21d7e965"
      },
      "source": [
        "print (the_list[2:4])"
      ],
      "execution_count": 79,
      "outputs": [
        {
          "output_type": "stream",
          "text": [
            "['compatriota', 'prestar']\n"
          ],
          "name": "stdout"
        }
      ]
    },
    {
      "cell_type": "markdown",
      "metadata": {
        "id": "0B3BhmkjDsb4"
      },
      "source": [
        "Using `:` we can select a group of elements in the list starting from the first element indicated and going up to  (but not including) the last element indicated.\n",
        "\n",
        "We can also select everything after a certain point"
      ]
    },
    {
      "cell_type": "code",
      "metadata": {
        "scrolled": true,
        "id": "LkGQEMP4Dsb4",
        "colab": {
          "base_uri": "https://localhost:8080/"
        },
        "outputId": "620091b5-7b01-4ee9-fda5-03e71f284835"
      },
      "source": [
        "print (my_list[1:])"
      ],
      "execution_count": 80,
      "outputs": [
        {
          "output_type": "stream",
          "text": [
            "['romans', 'countrymen', 'lend', 'me', 'your', 'ears']\n"
          ],
          "name": "stdout"
        }
      ]
    },
    {
      "cell_type": "code",
      "metadata": {
        "colab": {
          "base_uri": "https://localhost:8080/"
        },
        "id": "ZK8hBt32IkXc",
        "outputId": "eb9b62d9-d143-4d27-ec81-9f088d7d693b"
      },
      "source": [
        "print (the_list[1:])"
      ],
      "execution_count": 81,
      "outputs": [
        {
          "output_type": "stream",
          "text": [
            "['romanos', 'compatriota', 'prestar', 'yo', 'tu', 'oidos']\n"
          ],
          "name": "stdout"
        }
      ]
    },
    {
      "cell_type": "markdown",
      "metadata": {
        "id": "2aw_5HL7Dsb5"
      },
      "source": [
        "And everything before a certain point"
      ]
    },
    {
      "cell_type": "code",
      "metadata": {
        "scrolled": true,
        "id": "CiA-B0HwDsb5",
        "colab": {
          "base_uri": "https://localhost:8080/"
        },
        "outputId": "f1f0a539-74c0-4227-efc5-24ef269d172e"
      },
      "source": [
        "print (my_list[:4])"
      ],
      "execution_count": 83,
      "outputs": [
        {
          "output_type": "stream",
          "text": [
            "['friends', 'romans', 'countrymen', 'lend']\n"
          ],
          "name": "stdout"
        }
      ]
    },
    {
      "cell_type": "code",
      "metadata": {
        "colab": {
          "base_uri": "https://localhost:8080/"
        },
        "id": "vFidvt8TIpuD",
        "outputId": "b6f87f62-2faa-42c3-c269-85d45b545b71"
      },
      "source": [
        "print (the_list[:4])"
      ],
      "execution_count": 82,
      "outputs": [
        {
          "output_type": "stream",
          "text": [
            "['amigos', 'romanos', 'compatriota', 'prestar']\n"
          ],
          "name": "stdout"
        }
      ]
    },
    {
      "cell_type": "markdown",
      "metadata": {
        "id": "R57s1NnODsb5"
      },
      "source": [
        "Using negative numbers will count from the end of the indices instead of from the beginning. For example, an index of `-1` indicates the last element of the list."
      ]
    },
    {
      "cell_type": "code",
      "metadata": {
        "id": "x90d96bDDsb5",
        "colab": {
          "base_uri": "https://localhost:8080/"
        },
        "outputId": "b900fca7-536e-43bd-adfa-d28c4e339e70"
      },
      "source": [
        "print (my_list[-1])"
      ],
      "execution_count": 85,
      "outputs": [
        {
          "output_type": "stream",
          "text": [
            "ears\n"
          ],
          "name": "stdout"
        }
      ]
    },
    {
      "cell_type": "code",
      "metadata": {
        "colab": {
          "base_uri": "https://localhost:8080/"
        },
        "id": "vqmlP9p6JGLv",
        "outputId": "62d6ab4f-1302-4a8c-df9e-e60fadf91519"
      },
      "source": [
        "print (the_list[-1])"
      ],
      "execution_count": 84,
      "outputs": [
        {
          "output_type": "stream",
          "text": [
            "oidos\n"
          ],
          "name": "stdout"
        }
      ]
    },
    {
      "cell_type": "markdown",
      "metadata": {
        "id": "rqTOUi6FDsb5"
      },
      "source": [
        "You can also add a third component to slicing. Instead of simply indicating the first and final parts of your slice, you can specify the step size that you want to take. So instead of taking every single element, you can take every other element."
      ]
    },
    {
      "cell_type": "code",
      "metadata": {
        "id": "-9QpzuGxDsb5",
        "colab": {
          "base_uri": "https://localhost:8080/"
        },
        "outputId": "4ff62d0e-a4cb-4fe2-ebd5-66f382dab2a6"
      },
      "source": [
        "print (my_list[0:7:2])"
      ],
      "execution_count": 87,
      "outputs": [
        {
          "output_type": "stream",
          "text": [
            "['friends', 'countrymen', 'me', 'ears']\n"
          ],
          "name": "stdout"
        }
      ]
    },
    {
      "cell_type": "code",
      "metadata": {
        "colab": {
          "base_uri": "https://localhost:8080/"
        },
        "id": "ngHeNXB5JM56",
        "outputId": "8083bc11-f7eb-48e2-c6ac-653a3d6610fa"
      },
      "source": [
        "print (the_list[0:7:2])"
      ],
      "execution_count": 88,
      "outputs": [
        {
          "output_type": "stream",
          "text": [
            "['amigos', 'compatriota', 'yo', 'oidos']\n"
          ],
          "name": "stdout"
        }
      ]
    },
    {
      "cell_type": "markdown",
      "metadata": {
        "id": "zCoISF2FDsb6"
      },
      "source": [
        "Here we have selected the entire list (because `0:7` will yield elements `0` through `6`) and we have selected a step size of `2`. So this will spit out element `0` , element `2`, element `4`, and so on through the list element selected. We can skip indicated the beginning and end of our slice, only indicating the step, if we like."
      ]
    },
    {
      "cell_type": "code",
      "metadata": {
        "id": "aB2S3eioDsb6",
        "colab": {
          "base_uri": "https://localhost:8080/"
        },
        "outputId": "5395b8de-5b02-4282-be1b-749b915efd7e"
      },
      "source": [
        "print (my_list[::2])"
      ],
      "execution_count": 89,
      "outputs": [
        {
          "output_type": "stream",
          "text": [
            "['friends', 'countrymen', 'me', 'ears']\n"
          ],
          "name": "stdout"
        }
      ]
    },
    {
      "cell_type": "code",
      "metadata": {
        "colab": {
          "base_uri": "https://localhost:8080/"
        },
        "id": "7iBNamycJP74",
        "outputId": "106ce453-bdec-4efa-9cb7-5d0c03bd916b"
      },
      "source": [
        "print (the_list[::2])"
      ],
      "execution_count": 90,
      "outputs": [
        {
          "output_type": "stream",
          "text": [
            "['amigos', 'compatriota', 'yo', 'oidos']\n"
          ],
          "name": "stdout"
        }
      ]
    },
    {
      "cell_type": "markdown",
      "metadata": {
        "id": "v0ATmdOCDsb6"
      },
      "source": [
        "Lists implictly select the beginning and end of the list when not otherwise specified."
      ]
    },
    {
      "cell_type": "code",
      "metadata": {
        "id": "B6s7gPQiDsb6",
        "colab": {
          "base_uri": "https://localhost:8080/"
        },
        "outputId": "55761dbd-7aa5-4899-8d12-98a54101f985"
      },
      "source": [
        "print (my_list[:])"
      ],
      "execution_count": 91,
      "outputs": [
        {
          "output_type": "stream",
          "text": [
            "['friends', 'romans', 'countrymen', 'lend', 'me', 'your', 'ears']\n"
          ],
          "name": "stdout"
        }
      ]
    },
    {
      "cell_type": "code",
      "metadata": {
        "colab": {
          "base_uri": "https://localhost:8080/"
        },
        "id": "nQBu21TuJWOy",
        "outputId": "bcc3f0cd-0182-4cb9-ce09-f12f892399fc"
      },
      "source": [
        "print (the_list[:])"
      ],
      "execution_count": 92,
      "outputs": [
        {
          "output_type": "stream",
          "text": [
            "['amigos', 'romanos', 'compatriota', 'prestar', 'yo', 'tu', 'oidos']\n"
          ],
          "name": "stdout"
        }
      ]
    },
    {
      "cell_type": "markdown",
      "metadata": {
        "id": "rSwbySKiDsb6"
      },
      "source": [
        "With a negative step size we can even reverse the list!"
      ]
    },
    {
      "cell_type": "code",
      "metadata": {
        "id": "lqiy-YvQDsb6",
        "colab": {
          "base_uri": "https://localhost:8080/"
        },
        "outputId": "2bd75cb5-2ebf-404b-d1ee-bd4ea2b57322"
      },
      "source": [
        "print (my_list[::-1])"
      ],
      "execution_count": 93,
      "outputs": [
        {
          "output_type": "stream",
          "text": [
            "['ears', 'your', 'me', 'lend', 'countrymen', 'romans', 'friends']\n"
          ],
          "name": "stdout"
        }
      ]
    },
    {
      "cell_type": "code",
      "metadata": {
        "colab": {
          "base_uri": "https://localhost:8080/"
        },
        "id": "t3NIEe-oJZn8",
        "outputId": "d04723bd-29ca-4584-a12b-707c74b8e65a"
      },
      "source": [
        "print (the_list[::-1])"
      ],
      "execution_count": 94,
      "outputs": [
        {
          "output_type": "stream",
          "text": [
            "['oidos', 'tu', 'yo', 'prestar', 'compatriota', 'romanos', 'amigos']\n"
          ],
          "name": "stdout"
        }
      ]
    },
    {
      "cell_type": "markdown",
      "metadata": {
        "id": "gEBzjATgDsb7"
      },
      "source": [
        "Python does not have native matrices, but with lists we can produce a working fascimile. Other packages, such as `numpy`, add matrices as a separate data type, but in base Python the best way to create a matrix is to use a list of lists."
      ]
    },
    {
      "cell_type": "markdown",
      "metadata": {
        "id": "tW_mmMheDsb7"
      },
      "source": [
        "We can also use built-in functions to generate lists. In particular we will look at `range()` (because we will be using it later!). Range can take several different inputs and will return a list."
      ]
    },
    {
      "cell_type": "code",
      "metadata": {
        "id": "SvoaIPVDDsb7",
        "colab": {
          "base_uri": "https://localhost:8080/"
        },
        "outputId": "a64beef1-ba3a-4bbd-f958-1849f1c7eb7e"
      },
      "source": [
        "b = 10\n",
        "my_list = range(b)\n",
        "print (my_list)"
      ],
      "execution_count": 97,
      "outputs": [
        {
          "output_type": "stream",
          "text": [
            "range(0, 10)\n"
          ],
          "name": "stdout"
        }
      ]
    },
    {
      "cell_type": "code",
      "metadata": {
        "colab": {
          "base_uri": "https://localhost:8080/"
        },
        "id": "pYwQl5J5JdHE",
        "outputId": "f963274d-2a1d-4299-8254-c283735eac3f"
      },
      "source": [
        "a = 12\r\n",
        "the_list = range(a)\r\n",
        "print (the_list)"
      ],
      "execution_count": 98,
      "outputs": [
        {
          "output_type": "stream",
          "text": [
            "range(0, 12)\n"
          ],
          "name": "stdout"
        }
      ]
    },
    {
      "cell_type": "markdown",
      "metadata": {
        "id": "13YDfiF4Dsb7"
      },
      "source": [
        "Similar to our list-slicing methods from before, we can define both a start and an end for our range. This will return a list that is includes the start and excludes the end, just like a slice."
      ]
    },
    {
      "cell_type": "code",
      "metadata": {
        "id": "1_j3n5KeDsb7",
        "colab": {
          "base_uri": "https://localhost:8080/"
        },
        "outputId": "a687e4de-d38d-42d4-8186-f7456d8b59f7"
      },
      "source": [
        "a = 0\n",
        "b = 10\n",
        "my_list = range(a, b)\n",
        "print (my_list)"
      ],
      "execution_count": 99,
      "outputs": [
        {
          "output_type": "stream",
          "text": [
            "range(0, 10)\n"
          ],
          "name": "stdout"
        }
      ]
    },
    {
      "cell_type": "code",
      "metadata": {
        "colab": {
          "base_uri": "https://localhost:8080/"
        },
        "id": "w9jKy33BJo0e",
        "outputId": "6c3e2260-9cd4-47cd-e0bb-21b426530076"
      },
      "source": [
        "a = 0\r\n",
        "b = 7\r\n",
        "the_list = range(a, b)\r\n",
        "print (the_list)"
      ],
      "execution_count": 100,
      "outputs": [
        {
          "output_type": "stream",
          "text": [
            "range(0, 7)\n"
          ],
          "name": "stdout"
        }
      ]
    },
    {
      "cell_type": "markdown",
      "metadata": {
        "id": "sTyhtBnRDsb7"
      },
      "source": [
        "We can also specify a step size. This again has the same behavior as a slice."
      ]
    },
    {
      "cell_type": "code",
      "metadata": {
        "scrolled": true,
        "id": "BDfGdfwjDsb8",
        "colab": {
          "base_uri": "https://localhost:8080/"
        },
        "outputId": "8f3f164b-dc38-4431-c1ec-3c561ed08907"
      },
      "source": [
        "a = 0\n",
        "b = 10\n",
        "step = 2\n",
        "my_list = range(a, b, step)\n",
        "print (my_list)"
      ],
      "execution_count": 102,
      "outputs": [
        {
          "output_type": "stream",
          "text": [
            "range(0, 10, 2)\n"
          ],
          "name": "stdout"
        }
      ]
    },
    {
      "cell_type": "code",
      "metadata": {
        "colab": {
          "base_uri": "https://localhost:8080/"
        },
        "id": "5vibdGwQJxUM",
        "outputId": "7f686887-c869-4e3e-8147-24199d7ea1e1"
      },
      "source": [
        "a = 0\r\n",
        "b = 15\r\n",
        "step = 3\r\n",
        "the_list = range(a, b, step)\r\n",
        "print (the_list)"
      ],
      "execution_count": 101,
      "outputs": [
        {
          "output_type": "stream",
          "text": [
            "range(0, 15, 3)\n"
          ],
          "name": "stdout"
        }
      ]
    },
    {
      "cell_type": "markdown",
      "metadata": {
        "id": "Mx5bHTKSDsb8"
      },
      "source": [
        "### Tuples\n",
        "\n",
        "A `tuple` is a data type similar to a list in that it can hold different kinds of data types. The key difference here is that a `tuple` is immutable. We define a `tuple` by separating the elements we want to include by commas. It is conventional to surround a `tuple` with parentheses."
      ]
    },
    {
      "cell_type": "code",
      "metadata": {
        "id": "sPmWy1nSDsb8",
        "colab": {
          "base_uri": "https://localhost:8080/"
        },
        "outputId": "8ad243c4-0758-49f2-92a7-1f69ca994f86"
      },
      "source": [
        "my_tuple = 'I', 'have', 30, 'cats'\n",
        "print (my_tuple)"
      ],
      "execution_count": 103,
      "outputs": [
        {
          "output_type": "stream",
          "text": [
            "('I', 'have', 30, 'cats')\n"
          ],
          "name": "stdout"
        }
      ]
    },
    {
      "cell_type": "code",
      "metadata": {
        "colab": {
          "base_uri": "https://localhost:8080/"
        },
        "id": "HhFnI8ngKGzI",
        "outputId": "dc551d64-e020-4a81-ac87-71c610694cdb"
      },
      "source": [
        "the_tuple = 'Yo', 'tengo', 20, 'perros'\r\n",
        "print (the_tuple)"
      ],
      "execution_count": 104,
      "outputs": [
        {
          "output_type": "stream",
          "text": [
            "('Yo', 'tengo', 20, 'perros')\n"
          ],
          "name": "stdout"
        }
      ]
    },
    {
      "cell_type": "code",
      "metadata": {
        "id": "jlcGRl5CDsb8",
        "colab": {
          "base_uri": "https://localhost:8080/"
        },
        "outputId": "4d808158-f911-4a55-9145-46e139da2e18"
      },
      "source": [
        "my_tuple = ('I', 'have', 30, 'cats')\n",
        "print (my_tuple)"
      ],
      "execution_count": 105,
      "outputs": [
        {
          "output_type": "stream",
          "text": [
            "('I', 'have', 30, 'cats')\n"
          ],
          "name": "stdout"
        }
      ]
    },
    {
      "cell_type": "code",
      "metadata": {
        "colab": {
          "base_uri": "https://localhost:8080/"
        },
        "id": "M1Hsuq1zKTCq",
        "outputId": "0433f014-c230-456d-9321-561db283033e"
      },
      "source": [
        "the_tuple = ('Yo', 'tengo', 20, 'perros')\r\n",
        "print (the_tuple)"
      ],
      "execution_count": 106,
      "outputs": [
        {
          "output_type": "stream",
          "text": [
            "('Yo', 'tengo', 20, 'perros')\n"
          ],
          "name": "stdout"
        }
      ]
    },
    {
      "cell_type": "markdown",
      "metadata": {
        "id": "KjinK2DWDsb8"
      },
      "source": [
        "As mentioned before, tuples are immutable. You can't change any part of them without defining a new tuple."
      ]
    },
    {
      "cell_type": "code",
      "metadata": {
        "id": "U8ma0GGcDsb8",
        "colab": {
          "base_uri": "https://localhost:8080/",
          "height": 163
        },
        "outputId": "86e07f4a-149c-4609-d3b8-73d1392b0f0c"
      },
      "source": [
        "my_tuple[3] = 'dogs' # Attempts to change the 'cats' value stored in the the tuple to 'dogs'"
      ],
      "execution_count": 107,
      "outputs": [
        {
          "output_type": "error",
          "ename": "TypeError",
          "evalue": "ignored",
          "traceback": [
            "\u001b[0;31m---------------------------------------------------------------------------\u001b[0m",
            "\u001b[0;31mTypeError\u001b[0m                                 Traceback (most recent call last)",
            "\u001b[0;32m<ipython-input-107-c821a6bdb1a6>\u001b[0m in \u001b[0;36m<module>\u001b[0;34m()\u001b[0m\n\u001b[0;32m----> 1\u001b[0;31m \u001b[0mmy_tuple\u001b[0m\u001b[0;34m[\u001b[0m\u001b[0;36m3\u001b[0m\u001b[0;34m]\u001b[0m \u001b[0;34m=\u001b[0m \u001b[0;34m'dogs'\u001b[0m \u001b[0;31m# Attempts to change the 'cats' value stored in the the tuple to 'dogs'\u001b[0m\u001b[0;34m\u001b[0m\u001b[0;34m\u001b[0m\u001b[0m\n\u001b[0m",
            "\u001b[0;31mTypeError\u001b[0m: 'tuple' object does not support item assignment"
          ]
        }
      ]
    },
    {
      "cell_type": "code",
      "metadata": {
        "colab": {
          "base_uri": "https://localhost:8080/",
          "height": 163
        },
        "id": "lf90Y32hKWDP",
        "outputId": "c7cc84cc-bcb9-46bc-f42e-4428ec38c5cf"
      },
      "source": [
        "my_tuple[3] = 'gatos' # Attempts to change the 'cats' value stored in the the tuple to 'dogs'"
      ],
      "execution_count": 108,
      "outputs": [
        {
          "output_type": "error",
          "ename": "TypeError",
          "evalue": "ignored",
          "traceback": [
            "\u001b[0;31m---------------------------------------------------------------------------\u001b[0m",
            "\u001b[0;31mTypeError\u001b[0m                                 Traceback (most recent call last)",
            "\u001b[0;32m<ipython-input-108-43dc4272313e>\u001b[0m in \u001b[0;36m<module>\u001b[0;34m()\u001b[0m\n\u001b[0;32m----> 1\u001b[0;31m \u001b[0mmy_tuple\u001b[0m\u001b[0;34m[\u001b[0m\u001b[0;36m3\u001b[0m\u001b[0;34m]\u001b[0m \u001b[0;34m=\u001b[0m \u001b[0;34m'gatos'\u001b[0m \u001b[0;31m# Attempts to change the 'cats' value stored in the the tuple to 'dogs'\u001b[0m\u001b[0;34m\u001b[0m\u001b[0;34m\u001b[0m\u001b[0m\n\u001b[0m",
            "\u001b[0;31mTypeError\u001b[0m: 'tuple' object does not support item assignment"
          ]
        }
      ]
    },
    {
      "cell_type": "markdown",
      "metadata": {
        "id": "s_jNATn4Dsb9"
      },
      "source": [
        "You can slice tuples the same way that you slice lists!"
      ]
    },
    {
      "cell_type": "code",
      "metadata": {
        "id": "KHibygkuDsb-",
        "colab": {
          "base_uri": "https://localhost:8080/"
        },
        "outputId": "399bf512-3d6d-4b25-b83f-5ea11f6a347b"
      },
      "source": [
        "print (my_tuple[1:3])"
      ],
      "execution_count": 110,
      "outputs": [
        {
          "output_type": "stream",
          "text": [
            "('have', 30)\n"
          ],
          "name": "stdout"
        }
      ]
    },
    {
      "cell_type": "code",
      "metadata": {
        "colab": {
          "base_uri": "https://localhost:8080/"
        },
        "id": "sk52C_vJKhlV",
        "outputId": "1d74189d-2784-43b7-ca6c-3c4c603213b3"
      },
      "source": [
        "print (the_tuple[1:3])"
      ],
      "execution_count": 111,
      "outputs": [
        {
          "output_type": "stream",
          "text": [
            "('tengo', 20)\n"
          ],
          "name": "stdout"
        }
      ]
    },
    {
      "cell_type": "markdown",
      "metadata": {
        "id": "mi4GdrufDsb-"
      },
      "source": [
        "And concatenate them the way that you would with strings!"
      ]
    },
    {
      "cell_type": "code",
      "metadata": {
        "id": "GpqmHc7WDsb-",
        "colab": {
          "base_uri": "https://localhost:8080/"
        },
        "outputId": "e0f8cdb7-c31f-4a99-fa90-ba5ff6674f06"
      },
      "source": [
        "my_other_tuple = ('make', 'that', 50)\n",
        "print (my_tuple + my_other_tuple)"
      ],
      "execution_count": 112,
      "outputs": [
        {
          "output_type": "stream",
          "text": [
            "('I', 'have', 30, 'cats', 'make', 'that', 50)\n"
          ],
          "name": "stdout"
        }
      ]
    },
    {
      "cell_type": "code",
      "metadata": {
        "colab": {
          "base_uri": "https://localhost:8080/"
        },
        "id": "ytmxSCcfKk04",
        "outputId": "816ff704-68fb-4b4a-a906-84ec297cd5c0"
      },
      "source": [
        "the_other_tuple = ('hace', 'que', 50)\r\n",
        "print (the_tuple + the_other_tuple)"
      ],
      "execution_count": 113,
      "outputs": [
        {
          "output_type": "stream",
          "text": [
            "('Yo', 'tengo', 20, 'perros', 'hace', 'que', 50)\n"
          ],
          "name": "stdout"
        }
      ]
    },
    {
      "cell_type": "markdown",
      "metadata": {
        "id": "2nMw_bmwDsb_"
      },
      "source": [
        "We can 'pack' values together, creating a tuple (as above), or we can 'unpack' values from a tuple, taking them out."
      ]
    },
    {
      "cell_type": "code",
      "metadata": {
        "id": "rW8BreFlDsb_",
        "colab": {
          "base_uri": "https://localhost:8080/"
        },
        "outputId": "1964a844-d2f7-4ea7-d60d-f86904daa1cb"
      },
      "source": [
        "str_1, str_2, int_1 = my_other_tuple\n",
        "print (str_1, str_2, int_1)"
      ],
      "execution_count": 114,
      "outputs": [
        {
          "output_type": "stream",
          "text": [
            "make that 50\n"
          ],
          "name": "stdout"
        }
      ]
    },
    {
      "cell_type": "code",
      "metadata": {
        "colab": {
          "base_uri": "https://localhost:8080/"
        },
        "id": "CT-vaNuuKxJF",
        "outputId": "8606c135-78f0-4465-ed6b-9a5b05a6ebe2"
      },
      "source": [
        "str_a, str_b, int_a = the_other_tuple\r\n",
        "print (str_a, str_b, int_a)"
      ],
      "execution_count": 115,
      "outputs": [
        {
          "output_type": "stream",
          "text": [
            "hace que 50\n"
          ],
          "name": "stdout"
        }
      ]
    },
    {
      "cell_type": "markdown",
      "metadata": {
        "id": "oMDGeQCeDsb_"
      },
      "source": [
        "Unpacking assigns each value of the tuple in order to each variable on the left hand side of the equals sign. Some functions, including user-defined functions, may return tuples, so we can use this to directly unpack them and access the values that we want."
      ]
    },
    {
      "cell_type": "markdown",
      "metadata": {
        "id": "Ef40iJY2Dsb_"
      },
      "source": [
        "### Sets\n",
        "\n",
        "A `set` is a collection of unordered, unique elements. It works almost exactly as you would expect a normal set of things in mathematics to work and is defined using braces (`{}`)."
      ]
    },
    {
      "cell_type": "code",
      "metadata": {
        "id": "ivahS9guDsb_",
        "colab": {
          "base_uri": "https://localhost:8080/"
        },
        "outputId": "068ffb6d-3447-4eaf-eeeb-e41038e5e24d"
      },
      "source": [
        "things_i_like = {'dogs', 7, 'the number 4', 4, 4, 4, 42, 'lizards', 'man I just LOVE the number 4'}\n",
        "print (things_i_like, type(things_i_like))"
      ],
      "execution_count": 117,
      "outputs": [
        {
          "output_type": "stream",
          "text": [
            "{'lizards', 'man I just LOVE the number 4', 4, 7, 'dogs', 42, 'the number 4'} <class 'set'>\n"
          ],
          "name": "stdout"
        }
      ]
    },
    {
      "cell_type": "code",
      "metadata": {
        "colab": {
          "base_uri": "https://localhost:8080/"
        },
        "id": "ltYy4rqWLVQe",
        "outputId": "ae81c189-dc02-4da3-dbd1-4f1a3188d19c"
      },
      "source": [
        "cosas_i_like = {'perros', 5, 'numero 3', 5, 5, 5, 24, 'LIZOs', 'hombre, Yo solo AMO el numero 5'}\r\n",
        "print (cosas_i_like, type(cosas_i_like))"
      ],
      "execution_count": 118,
      "outputs": [
        {
          "output_type": "stream",
          "text": [
            "{'hombre, Yo solo AMO el numero 5', 5, 'perros', 'LIZOs', 24, 'numero 3'} <class 'set'>\n"
          ],
          "name": "stdout"
        }
      ]
    },
    {
      "cell_type": "markdown",
      "metadata": {
        "id": "EyHnVjlnDsb_"
      },
      "source": [
        "Note how any extra instances of the same item are removed in the final set. We can also create a `set` from a list, using the `set()` function."
      ]
    },
    {
      "cell_type": "code",
      "metadata": {
        "id": "4FnJXdAoDscA",
        "colab": {
          "base_uri": "https://localhost:8080/"
        },
        "outputId": "882309a5-1623-4de1-b8c4-52589cac37b9"
      },
      "source": [
        "animal_list = ['cats', 'dogs', 'dogs', 'dogs', 'lizards', 'sponges', 'cows', 'bats', 'sponges']\n",
        "animal_set = set(animal_list)\n",
        "print (animal_set) # Removes all extra instances from the list"
      ],
      "execution_count": 119,
      "outputs": [
        {
          "output_type": "stream",
          "text": [
            "{'lizards', 'dogs', 'cows', 'sponges', 'cats', 'bats'}\n"
          ],
          "name": "stdout"
        }
      ]
    },
    {
      "cell_type": "code",
      "metadata": {
        "colab": {
          "base_uri": "https://localhost:8080/"
        },
        "id": "OT5_gkOvLsMH",
        "outputId": "baba1be4-9e38-41b3-ff18-b29666507b50"
      },
      "source": [
        "animalitos = ['gatos', 'perros', 'perros', 'perros', 'lagartijas', 'esponjas', 'vacas', 'murcielagos', 'esponjas']\r\n",
        "animalitos_set = set(animalitos)\r\n",
        "print (animalitos_set) # Removes all extra instances from the list"
      ],
      "execution_count": 120,
      "outputs": [
        {
          "output_type": "stream",
          "text": [
            "{'murcielagos', 'vacas', 'perros', 'gatos', 'esponjas', 'lagartijas'}\n"
          ],
          "name": "stdout"
        }
      ]
    },
    {
      "cell_type": "markdown",
      "metadata": {
        "id": "uvwdDQSJDscA"
      },
      "source": [
        "Calling `len()` on a set will tell you how many elements are in it."
      ]
    },
    {
      "cell_type": "code",
      "metadata": {
        "id": "JXs0DDHEDscA",
        "colab": {
          "base_uri": "https://localhost:8080/"
        },
        "outputId": "95bcb52f-d5f0-4cea-f1e0-f350b76b161e"
      },
      "source": [
        "print (len(animal_set))"
      ],
      "execution_count": 121,
      "outputs": [
        {
          "output_type": "stream",
          "text": [
            "6\n"
          ],
          "name": "stdout"
        }
      ]
    },
    {
      "cell_type": "code",
      "metadata": {
        "colab": {
          "base_uri": "https://localhost:8080/"
        },
        "id": "yXzmadLgMrI1",
        "outputId": "649b2969-9335-45c6-d708-462cc8a82769"
      },
      "source": [
        "print (len(animalitos_set))"
      ],
      "execution_count": 122,
      "outputs": [
        {
          "output_type": "stream",
          "text": [
            "6\n"
          ],
          "name": "stdout"
        }
      ]
    },
    {
      "cell_type": "markdown",
      "metadata": {
        "id": "5bRpufwIDscA"
      },
      "source": [
        "Because a `set` is unordered, we can't access individual elements using an index. We can, however, easily check for membership (to see if something is contained in a set) and take the unions and intersections of sets by using the built-in set functions."
      ]
    },
    {
      "cell_type": "code",
      "metadata": {
        "id": "JonhSthxDscA",
        "colab": {
          "base_uri": "https://localhost:8080/"
        },
        "outputId": "082c229f-1901-4ea4-cc90-afc6677cd2f5"
      },
      "source": [
        "'cats' in animal_set # Here we check for membership using the `in` keyword."
      ],
      "execution_count": 123,
      "outputs": [
        {
          "output_type": "execute_result",
          "data": {
            "text/plain": [
              "True"
            ]
          },
          "metadata": {
            "tags": []
          },
          "execution_count": 123
        }
      ]
    },
    {
      "cell_type": "code",
      "metadata": {
        "colab": {
          "base_uri": "https://localhost:8080/"
        },
        "id": "5ysA9e_AMvaz",
        "outputId": "dd1c117a-4796-4ab6-a7c9-01c2d322ad71"
      },
      "source": [
        "'tigres' in animalitos_set"
      ],
      "execution_count": 125,
      "outputs": [
        {
          "output_type": "execute_result",
          "data": {
            "text/plain": [
              "False"
            ]
          },
          "metadata": {
            "tags": []
          },
          "execution_count": 125
        }
      ]
    },
    {
      "cell_type": "markdown",
      "metadata": {
        "id": "X4F48pb4DscA"
      },
      "source": [
        "Here we checked to see whether the string 'cats' was contained within our `animal_set` and it returned `True`, telling us that it is indeed in our set.\n",
        "\n",
        "We can connect sets by using typical mathematical set operators, namely `|`, for union, and `&`, for intersection. Using `|` or `&` will return exactly what you would expect if you are familiar with sets in mathematics."
      ]
    },
    {
      "cell_type": "code",
      "metadata": {
        "id": "XTK8fcd1DscA",
        "colab": {
          "base_uri": "https://localhost:8080/"
        },
        "outputId": "d5e32961-38df-4a5a-c4cb-fd24ba1855f1"
      },
      "source": [
        "print (animal_set | things_i_like) # You can also write things_i_like | animal_set with no difference"
      ],
      "execution_count": 127,
      "outputs": [
        {
          "output_type": "stream",
          "text": [
            "{'lizards', 'man I just LOVE the number 4', 4, 7, 'dogs', 42, 'cows', 'sponges', 'cats', 'bats', 'the number 4'}\n"
          ],
          "name": "stdout"
        }
      ]
    },
    {
      "cell_type": "code",
      "metadata": {
        "colab": {
          "base_uri": "https://localhost:8080/"
        },
        "id": "nTKy8ejnM26u",
        "outputId": "54f2069d-172c-41c2-b2fc-87b923af2376"
      },
      "source": [
        "print (animalitos_set | cosas_i_like)"
      ],
      "execution_count": 128,
      "outputs": [
        {
          "output_type": "stream",
          "text": [
            "{'murcielagos', 'hombre, Yo solo AMO el numero 5', 'vacas', 5, 'perros', 'LIZOs', 'numero 3', 'gatos', 'esponjas', 'lagartijas', 24}\n"
          ],
          "name": "stdout"
        }
      ]
    },
    {
      "cell_type": "markdown",
      "metadata": {
        "id": "MT2tvun0DscB"
      },
      "source": [
        "Pairing two sets together with `|` combines the sets, removing any repetitions to make every set element unique."
      ]
    },
    {
      "cell_type": "code",
      "metadata": {
        "id": "mRte7LfGDscB",
        "colab": {
          "base_uri": "https://localhost:8080/"
        },
        "outputId": "b4fc7dc3-447a-4092-df56-8d9aee834051"
      },
      "source": [
        "print (animal_set & things_i_like) # You can also write things_i_like & animal_set with no difference"
      ],
      "execution_count": 129,
      "outputs": [
        {
          "output_type": "stream",
          "text": [
            "{'lizards', 'dogs'}\n"
          ],
          "name": "stdout"
        }
      ]
    },
    {
      "cell_type": "code",
      "metadata": {
        "colab": {
          "base_uri": "https://localhost:8080/"
        },
        "id": "jh_509tWNGlk",
        "outputId": "33f234f6-0f76-4982-d9e5-cbb88de3ad08"
      },
      "source": [
        "print (animalitos_set & cosas_i_like)"
      ],
      "execution_count": 130,
      "outputs": [
        {
          "output_type": "stream",
          "text": [
            "{'perros'}\n"
          ],
          "name": "stdout"
        }
      ]
    },
    {
      "cell_type": "markdown",
      "metadata": {
        "id": "LS2BSDjXDscB"
      },
      "source": [
        "Pairing two sets together with `&` will calculate the intersection of both sets, returning a set that only contains what they have in common.\n",
        "\n",
        "If you are interested in learning more about the built-in functions for sets, feel free to check out the [documentation](https://docs.python.org/2/library/sets.html)."
      ]
    },
    {
      "cell_type": "markdown",
      "metadata": {
        "id": "SjUpbrBEDscB"
      },
      "source": [
        "### Dictionaries\n",
        "\n",
        "Another essential data structure in Python is the dictionary. Dictionaries are defined with a combination of curly braces (`{}`) and colons (`:`). The braces define the beginning and end of a dictionary and the colons indicate key-value pairs. A dictionary is essentially a set of key-value pairs. The key of any entry must be an immutable data type. This makes both strings and tuples candidates. Keys can be both added and deleted.\n",
        "\n",
        "In the following example, we have a dictionary composed of key-value pairs where the key is a genre of fiction (`string`) and the value is a list of books (`list`) within that genre. Since a collection is still considered a single entity, we can use one to collect multiple variables or values into one key-value pair."
      ]
    },
    {
      "cell_type": "code",
      "metadata": {
        "id": "B1tspkBMDscB"
      },
      "source": [
        "my_dict = {\"High Fantasy\": [\"Wheel of Time\", \"Lord of the Rings\"], \n",
        "           \"Sci-fi\": [\"Book of the New Sun\", \"Neuromancer\", \"Snow Crash\"],\n",
        "           \"Weird Fiction\": [\"At the Mountains of Madness\", \"The House on the Borderland\"]}"
      ],
      "execution_count": 2,
      "outputs": []
    },
    {
      "cell_type": "code",
      "metadata": {
        "id": "DWj4QPRWdtD-"
      },
      "source": [
        "the_dict = {\"High Fantasy\": [\"Wheel of Time\", \"Lord of the Rings\"], \r\n",
        "           \"Sci-fi\": [\"Book of the New Sun\", \"Neuromancer\", \"Snow Crash\"],\r\n",
        "           \"Weird Fiction\": [\"At the Mountains of Madness\", \"The House on the Borderland\"]}"
      ],
      "execution_count": 3,
      "outputs": []
    },
    {
      "cell_type": "markdown",
      "metadata": {
        "id": "EhRTb7zzDscB"
      },
      "source": [
        "After defining a dictionary, we can access any individual value by indicating its key in brackets."
      ]
    },
    {
      "cell_type": "code",
      "metadata": {
        "id": "gaOF4IDJDscC",
        "colab": {
          "base_uri": "https://localhost:8080/"
        },
        "outputId": "9661f863-bcf4-48ac-8208-c4d3ae2973ca"
      },
      "source": [
        "print (my_dict[\"Sci-fi\"])"
      ],
      "execution_count": 5,
      "outputs": [
        {
          "output_type": "stream",
          "text": [
            "['Book of the New Sun', 'Neuromancer', 'Snow Crash']\n"
          ],
          "name": "stdout"
        }
      ]
    },
    {
      "cell_type": "code",
      "metadata": {
        "colab": {
          "base_uri": "https://localhost:8080/"
        },
        "id": "PuOdXjqwd6bo",
        "outputId": "a25cdeee-6f2e-4334-b05a-46550a63b721"
      },
      "source": [
        "print (the_dict[\"High Fantasy\"])"
      ],
      "execution_count": 6,
      "outputs": [
        {
          "output_type": "stream",
          "text": [
            "['Wheel of Time', 'Lord of the Rings']\n"
          ],
          "name": "stdout"
        }
      ]
    },
    {
      "cell_type": "markdown",
      "metadata": {
        "id": "rF9-uJXoDscC"
      },
      "source": [
        "We can also change the value associated with a given key"
      ]
    },
    {
      "cell_type": "code",
      "metadata": {
        "id": "QTlwp--7DscC",
        "colab": {
          "base_uri": "https://localhost:8080/"
        },
        "outputId": "c45c05a5-a9ef-43df-896f-6c0ee8dc4815"
      },
      "source": [
        "my_dict[\"Sci-fi\"] = \"I can't read\"\n",
        "print (my_dict[\"Sci-fi\"])"
      ],
      "execution_count": 8,
      "outputs": [
        {
          "output_type": "stream",
          "text": [
            "I can't read\n"
          ],
          "name": "stdout"
        }
      ]
    },
    {
      "cell_type": "code",
      "metadata": {
        "colab": {
          "base_uri": "https://localhost:8080/"
        },
        "id": "U_zbPA_NeBEZ",
        "outputId": "ac4b8a39-7f1a-4c52-ea49-b1d72ffdde6c"
      },
      "source": [
        "the_dict[\"High Fantasy\"] = \"Just do it\"\r\n",
        "print (the_dict[\"High Fantasy\"])"
      ],
      "execution_count": 9,
      "outputs": [
        {
          "output_type": "stream",
          "text": [
            "Just do it\n"
          ],
          "name": "stdout"
        }
      ]
    },
    {
      "cell_type": "markdown",
      "metadata": {
        "id": "QIDIL_mzDscC"
      },
      "source": [
        "Adding a new key-value pair is as simple as defining it."
      ]
    },
    {
      "cell_type": "code",
      "metadata": {
        "id": "dwN1ddmsDscC",
        "colab": {
          "base_uri": "https://localhost:8080/"
        },
        "outputId": "1fd28dce-7596-4ba4-b49a-825787048148"
      },
      "source": [
        "my_dict[\"Historical Fiction\"] = [\"Pillars of the Earth\"]\n",
        "print (my_dict[\"Historical Fiction\"])"
      ],
      "execution_count": 11,
      "outputs": [
        {
          "output_type": "stream",
          "text": [
            "['Pillars of the Earth']\n"
          ],
          "name": "stdout"
        }
      ]
    },
    {
      "cell_type": "code",
      "metadata": {
        "id": "V9Gk6qkKDscC",
        "colab": {
          "base_uri": "https://localhost:8080/"
        },
        "outputId": "ae5d78ad-d517-4c94-abad-baeb775f0a13"
      },
      "source": [
        "print (my_dict)"
      ],
      "execution_count": 13,
      "outputs": [
        {
          "output_type": "stream",
          "text": [
            "{'High Fantasy': ['Wheel of Time', 'Lord of the Rings'], 'Sci-fi': \"I can't read\", 'Weird Fiction': ['At the Mountains of Madness', 'The House on the Borderland'], 'Historical Fiction': ['Pillars of the Earth']}\n"
          ],
          "name": "stdout"
        }
      ]
    },
    {
      "cell_type": "code",
      "metadata": {
        "colab": {
          "base_uri": "https://localhost:8080/"
        },
        "id": "5MliIq6seT77",
        "outputId": "3bba4c43-a03c-434f-cade-5dc6b5d141ea"
      },
      "source": [
        "the_dict[\"Historical Fiction\"] = [\"High Fantasy\"]\r\n",
        "print (the_dict[\"High Fantasy\"])"
      ],
      "execution_count": 14,
      "outputs": [
        {
          "output_type": "stream",
          "text": [
            "Just do it\n"
          ],
          "name": "stdout"
        }
      ]
    },
    {
      "cell_type": "code",
      "metadata": {
        "colab": {
          "base_uri": "https://localhost:8080/"
        },
        "id": "8FL9CroxeUVI",
        "outputId": "44de3788-b889-406d-b740-34f27a3accd6"
      },
      "source": [
        "print(the_dict)"
      ],
      "execution_count": 15,
      "outputs": [
        {
          "output_type": "stream",
          "text": [
            "{'High Fantasy': 'Just do it', 'Sci-fi': ['Book of the New Sun', 'Neuromancer', 'Snow Crash'], 'Weird Fiction': ['At the Mountains of Madness', 'The House on the Borderland'], 'Historical Fiction': ['High Fantasy']}\n"
          ],
          "name": "stdout"
        }
      ]
    },
    {
      "cell_type": "markdown",
      "metadata": {
        "id": "cKaZgz-CDscD"
      },
      "source": [
        "## String Shenanigans\n",
        "\n",
        "We already know that strings are generally used for text. We can used built-in operations to combine, split, and format strings easily, depending on our needs.\n",
        "\n",
        "The `+` symbol indicates concatenation in string language. It will combine two strings into a longer string."
      ]
    },
    {
      "cell_type": "code",
      "metadata": {
        "id": "gU_X1toVDscD",
        "colab": {
          "base_uri": "https://localhost:8080/"
        },
        "outputId": "34886a7f-1934-4d0b-c8c3-f049166a1c4f"
      },
      "source": [
        "first_string = '\"Beware the Jabberwock, my son! /The jaws that bite, the claws that catch! /'\n",
        "second_string = 'Beware the Jubjub bird, and shun /The frumious Bandersnatch!\"/'\n",
        "third_string = first_string + second_string\n",
        "print (third_string)"
      ],
      "execution_count": 18,
      "outputs": [
        {
          "output_type": "stream",
          "text": [
            "\"Beware the Jabberwock, my son! /The jaws that bite, the claws that catch! /Beware the Jubjub bird, and shun /The frumious Bandersnatch!\"/\n"
          ],
          "name": "stdout"
        }
      ]
    },
    {
      "cell_type": "code",
      "metadata": {
        "colab": {
          "base_uri": "https://localhost:8080/"
        },
        "id": "3t3AOtwReujO",
        "outputId": "84aafd3a-fa15-4545-fc03-105e792988bb"
      },
      "source": [
        "primer_string = '\"Is a test! /hey, solo es una prueba, o no! /'\r\n",
        "segundo_string = 'Resulta que tal cosa / Ocurre, y ocurre muy seguido!\"/'\r\n",
        "tercer_string = primer_string + segundo_string\r\n",
        "print (tercer_string)"
      ],
      "execution_count": 17,
      "outputs": [
        {
          "output_type": "stream",
          "text": [
            "\"Is a test! /hey, solo es una prueba, o no! /Resulta que tal cosa / Ocurre, y ocurre muy seguido!\"/\n"
          ],
          "name": "stdout"
        }
      ]
    },
    {
      "cell_type": "markdown",
      "metadata": {
        "id": "k1kAT7lGDscD"
      },
      "source": [
        "Strings are also indexed much in the same way that lists are."
      ]
    },
    {
      "cell_type": "code",
      "metadata": {
        "id": "fl7cYP2QDscD",
        "colab": {
          "base_uri": "https://localhost:8080/"
        },
        "outputId": "f2586c45-9109-44c8-ceee-2b9abaf644af"
      },
      "source": [
        "my_string = 'Supercalifragilisticexpialidocious'\n",
        "print ('The first letter is: ', my_string[0]) # Uppercase S\n",
        "print ('The last letter is: ', my_string[-1]) # lowercase s\n",
        "print ('The second to last letter is: ', my_string[-2]) # lowercase u\n",
        "print ('The first five characters are: ', my_string[0:5]) # Remember: slicing doesn't include the final element!\n",
        "print ('Reverse it!: ', my_string[::-1])"
      ],
      "execution_count": 19,
      "outputs": [
        {
          "output_type": "stream",
          "text": [
            "The first letter is:  S\n",
            "The last letter is:  s\n",
            "The second to last letter is:  u\n",
            "The first five characters are:  Super\n",
            "Reverse it!:  suoicodilaipxecitsiligarfilacrepuS\n"
          ],
          "name": "stdout"
        }
      ]
    },
    {
      "cell_type": "code",
      "metadata": {
        "colab": {
          "base_uri": "https://localhost:8080/"
        },
        "id": "zeWo-7eKg42s",
        "outputId": "1349e836-9540-44ca-bef2-6026bc008d93"
      },
      "source": [
        "the_string = 'otorrinolaringología'\r\n",
        "print ('La primer letra es: ', the_string[0]) # Uppercase S\r\n",
        "print ('La última letra es: ', the_string[-1]) # lowercase s\r\n",
        "print ('La penultima letra es: ', the_string[-2]) # lowercase u\r\n",
        "print ('Las primeros 5 letras son: ', the_string[0:5]) # Remember: slicing doesn't include the final element!\r\n",
        "print ('Resversa :o! : ', the_string[::-1])"
      ],
      "execution_count": 21,
      "outputs": [
        {
          "output_type": "stream",
          "text": [
            "La primer letra es:  o\n",
            "La última letra es:  a\n",
            "La penultima letra es:  í\n",
            "Las primeros 5 letras son:  otorr\n",
            "Resversa :o! :  aígologniralonirroto\n"
          ],
          "name": "stdout"
        }
      ]
    },
    {
      "cell_type": "markdown",
      "metadata": {
        "id": "35YieAo9DscD"
      },
      "source": [
        "Built-in objects and classes often have special functions associated with them that are called methods. We access these methods by using a period ('.'). We will cover objects and their associated methods more in another lecture!\n",
        "\n",
        "Using string methods we can count instances of a character or group of characters."
      ]
    },
    {
      "cell_type": "code",
      "metadata": {
        "scrolled": true,
        "id": "S-S024gmDscD",
        "colab": {
          "base_uri": "https://localhost:8080/"
        },
        "outputId": "3e2fc8c8-a327-44eb-c0ad-0ec8e814aacb"
      },
      "source": [
        "print ('Count of the letter i in Supercalifragilisticexpialidocious: ', my_string.count('i'))\n",
        "print ('Count of \"li\" in the same word: ', my_string.count('li'))"
      ],
      "execution_count": 23,
      "outputs": [
        {
          "output_type": "stream",
          "text": [
            "Count of the letter i in Supercalifragilisticexpialidocious:  7\n",
            "Count of \"li\" in the same word:  3\n"
          ],
          "name": "stdout"
        }
      ]
    },
    {
      "cell_type": "code",
      "metadata": {
        "colab": {
          "base_uri": "https://localhost:8080/"
        },
        "id": "-MoPuOlMhpbU",
        "outputId": "532c4128-daac-4a42-8178-33ba107f4333"
      },
      "source": [
        "print ('Count of the letter i in otorrinolaringología: ', the_string.count('i'))\r\n",
        "print ('Count of \"lo\" in the same word: ', the_string.count('lo'))"
      ],
      "execution_count": 26,
      "outputs": [
        {
          "output_type": "stream",
          "text": [
            "Count of the letter i in otorrinolaringología:  2\n",
            "Count of \"lo\" in the same word:  1\n"
          ],
          "name": "stdout"
        }
      ]
    },
    {
      "cell_type": "markdown",
      "metadata": {
        "id": "hYQ-M7lIDscE"
      },
      "source": [
        "We can also find the first instance of a character or group of characters in a string."
      ]
    },
    {
      "cell_type": "code",
      "metadata": {
        "id": "Eo3ggHJzDscE",
        "colab": {
          "base_uri": "https://localhost:8080/"
        },
        "outputId": "8a18be42-5910-4036-8d21-8439b319dee8"
      },
      "source": [
        "print ('The first time i appears is at index: ', my_string.find('i'))"
      ],
      "execution_count": 27,
      "outputs": [
        {
          "output_type": "stream",
          "text": [
            "The first time i appears is at index:  8\n"
          ],
          "name": "stdout"
        }
      ]
    },
    {
      "cell_type": "code",
      "metadata": {
        "colab": {
          "base_uri": "https://localhost:8080/"
        },
        "id": "kazTsnpIh_Y8",
        "outputId": "511eec80-a566-4177-83dd-ad984a3763e6"
      },
      "source": [
        "print ('The first time i appears is at index: ', the_string.find('i'))"
      ],
      "execution_count": 28,
      "outputs": [
        {
          "output_type": "stream",
          "text": [
            "The first time i appears is at index:  5\n"
          ],
          "name": "stdout"
        }
      ]
    },
    {
      "cell_type": "markdown",
      "metadata": {
        "id": "1D0XG7XLDscE"
      },
      "source": [
        "As well as replace characters in a string."
      ]
    },
    {
      "cell_type": "code",
      "metadata": {
        "id": "h9ifNH2PDscE",
        "colab": {
          "base_uri": "https://localhost:8080/"
        },
        "outputId": "f7f69e64-db12-4975-b844-2db3832c9d24"
      },
      "source": [
        "print (\"All i's are now a's: \", my_string.replace('i', 'a'))"
      ],
      "execution_count": 30,
      "outputs": [
        {
          "output_type": "stream",
          "text": [
            "All i's are now a's:  Supercalafragalastacexpaaladocaous\n"
          ],
          "name": "stdout"
        }
      ]
    },
    {
      "cell_type": "code",
      "metadata": {
        "colab": {
          "base_uri": "https://localhost:8080/"
        },
        "id": "DN7Y13kQiHCz",
        "outputId": "94682eef-c2e8-49eb-a192-f8998a13bc6d"
      },
      "source": [
        "print (\"All i's are now a's: \", the_string.replace('i', 'a'))"
      ],
      "execution_count": 31,
      "outputs": [
        {
          "output_type": "stream",
          "text": [
            "All i's are now a's:  otorranolarangología\n"
          ],
          "name": "stdout"
        }
      ]
    },
    {
      "cell_type": "code",
      "metadata": {
        "id": "LoWBdcvMDscE",
        "colab": {
          "base_uri": "https://localhost:8080/"
        },
        "outputId": "22390845-22f6-4d32-d6b2-7748a9a48607"
      },
      "source": [
        "print (\"It's raining cats and dogs\".replace('dogs', 'more cats'))"
      ],
      "execution_count": 32,
      "outputs": [
        {
          "output_type": "stream",
          "text": [
            "It's raining cats and more cats\n"
          ],
          "name": "stdout"
        }
      ]
    },
    {
      "cell_type": "code",
      "metadata": {
        "colab": {
          "base_uri": "https://localhost:8080/"
        },
        "id": "WK-XsY5diUUO",
        "outputId": "fff1acbd-17b9-46d1-ad22-04948103404c"
      },
      "source": [
        "print (\"El dia está azulado :D\".replace('azulado :D', 'oscuro :c'))"
      ],
      "execution_count": 34,
      "outputs": [
        {
          "output_type": "stream",
          "text": [
            "El dia está oscuro :c\n"
          ],
          "name": "stdout"
        }
      ]
    },
    {
      "cell_type": "markdown",
      "metadata": {
        "id": "hEwwc1JBDscE"
      },
      "source": [
        "There are also some methods that are unique to strings. The function `upper()` will convert all characters in a string to uppercase, while `lower()` will convert all characters in a string to lowercase!"
      ]
    },
    {
      "cell_type": "code",
      "metadata": {
        "id": "37VMgCPoDscF",
        "colab": {
          "base_uri": "https://localhost:8080/"
        },
        "outputId": "f755beb5-f9b6-4ca9-c442-0148a348b1a9"
      },
      "source": [
        "my_string = \"I can't hear you\"\n",
        "print (my_string.upper())\n",
        "my_string = \"I said HELLO\"\n",
        "print (my_string.lower())"
      ],
      "execution_count": 35,
      "outputs": [
        {
          "output_type": "stream",
          "text": [
            "I CAN'T HEAR YOU\n",
            "i said hello\n"
          ],
          "name": "stdout"
        }
      ]
    },
    {
      "cell_type": "code",
      "metadata": {
        "colab": {
          "base_uri": "https://localhost:8080/"
        },
        "id": "6MFTXHtJiurv",
        "outputId": "5d66923c-dc8d-4525-ea52-531ce77a25ce"
      },
      "source": [
        "the_string = \"no estoy gritando\"\r\n",
        "print (the_string.upper())\r\n",
        "the_string = \"ESTOY HABLANDO BIEN\"\r\n",
        "print (the_string.lower())"
      ],
      "execution_count": 36,
      "outputs": [
        {
          "output_type": "stream",
          "text": [
            "NO ESTOY GRITANDO\n",
            "estoy hablando bien\n"
          ],
          "name": "stdout"
        }
      ]
    },
    {
      "cell_type": "markdown",
      "metadata": {
        "id": "Q62h436NDscF"
      },
      "source": [
        "### String Formatting\n",
        "\n",
        "Using the `format()` method we can add in variable values and generally format our strings."
      ]
    },
    {
      "cell_type": "code",
      "metadata": {
        "id": "whz2OU3CDscF",
        "colab": {
          "base_uri": "https://localhost:8080/"
        },
        "outputId": "240f3945-4b1d-493b-d03c-b0b17b421b5f"
      },
      "source": [
        "my_string = \"{0} {1}\".format('Marco', 'Polo')\n",
        "print (my_string)"
      ],
      "execution_count": 39,
      "outputs": [
        {
          "output_type": "stream",
          "text": [
            "Marco Polo\n"
          ],
          "name": "stdout"
        }
      ]
    },
    {
      "cell_type": "code",
      "metadata": {
        "colab": {
          "base_uri": "https://localhost:8080/"
        },
        "id": "1pzPHNLyjHba",
        "outputId": "dbe769f1-8526-401d-9513-ef5b94269d25"
      },
      "source": [
        "the_string = \"{0} {1}\".format('Hola,', 'cómo estás?')\r\n",
        "print (the_string)"
      ],
      "execution_count": 40,
      "outputs": [
        {
          "output_type": "stream",
          "text": [
            "Hola, cómo estás?\n"
          ],
          "name": "stdout"
        }
      ]
    },
    {
      "cell_type": "code",
      "metadata": {
        "id": "S3ignZ37DscF",
        "colab": {
          "base_uri": "https://localhost:8080/"
        },
        "outputId": "ce565d29-ff4a-4ab6-cf46-835055cb08f3"
      },
      "source": [
        "my_string = \"{1} {0}\".format('Marco', 'Polo')\n",
        "print (my_string)"
      ],
      "execution_count": 41,
      "outputs": [
        {
          "output_type": "stream",
          "text": [
            "Polo Marco\n"
          ],
          "name": "stdout"
        }
      ]
    },
    {
      "cell_type": "code",
      "metadata": {
        "colab": {
          "base_uri": "https://localhost:8080/"
        },
        "id": "fqTENvCCjaAy",
        "outputId": "81538f4e-23f2-4185-b8a1-e33022ada0d4"
      },
      "source": [
        "the_string = \"{1} {0}\".format('Hola,', 'cómo estás?')\r\n",
        "print (the_string)"
      ],
      "execution_count": 42,
      "outputs": [
        {
          "output_type": "stream",
          "text": [
            "cómo estás? Hola,\n"
          ],
          "name": "stdout"
        }
      ]
    },
    {
      "cell_type": "markdown",
      "metadata": {
        "id": "3ULcdVt7DscF"
      },
      "source": [
        "We use braces (`{}`) to indicate parts of the string that will be filled in later and we use the arguments of the `format()` function to provide the values to substitute. The numbers within the braces indicate the index of the value in the `format()` arguments."
      ]
    },
    {
      "cell_type": "markdown",
      "metadata": {
        "id": "1nCmfVcQDscF"
      },
      "source": [
        "See the `format()` [documentation](https://docs.python.org/2/library/string.html#format-examples) for additional examples."
      ]
    },
    {
      "cell_type": "markdown",
      "metadata": {
        "id": "cFCLrx7yDscG"
      },
      "source": [
        "If you need some quick and dirty formatting, you can instead use the `%` symbol, called the string formatting operator. "
      ]
    },
    {
      "cell_type": "code",
      "metadata": {
        "id": "evCKJOzNDscG",
        "colab": {
          "base_uri": "https://localhost:8080/"
        },
        "outputId": "4109f494-24d6-4ff1-8004-212e41f73365"
      },
      "source": [
        "print ('insert %s here' % 'value')"
      ],
      "execution_count": 43,
      "outputs": [
        {
          "output_type": "stream",
          "text": [
            "insert value here\n"
          ],
          "name": "stdout"
        }
      ]
    },
    {
      "cell_type": "code",
      "metadata": {
        "colab": {
          "base_uri": "https://localhost:8080/"
        },
        "id": "tLPdVJtLjhro",
        "outputId": "f0ed161e-e211-4313-8a66-712ef8416793"
      },
      "source": [
        "print ('Primero %s tercero' % 'segundo')"
      ],
      "execution_count": 44,
      "outputs": [
        {
          "output_type": "stream",
          "text": [
            "Primero segundo tercero\n"
          ],
          "name": "stdout"
        }
      ]
    },
    {
      "cell_type": "markdown",
      "metadata": {
        "id": "FViCcjeCDscG"
      },
      "source": [
        "The `%` symbol basically cues Python to create a placeholder. Whatever character follows the `%` (in the string) indicates what sort of type the value put into the placeholder will have. This character is called a *conversion type*. Once the string has been closed, we need another `%` that will be followed by the values to insert. In the case of one value, you can just put it there. If you are inserting more than one value, they must be enclosed in a tuple."
      ]
    },
    {
      "cell_type": "code",
      "metadata": {
        "id": "jBXI_ERHDscG",
        "colab": {
          "base_uri": "https://localhost:8080/"
        },
        "outputId": "d791126a-7ce8-4920-88e4-a8b4e64bfe3d"
      },
      "source": [
        "print ('There are %s cats in my %s' % (13, 'apartment'))"
      ],
      "execution_count": 45,
      "outputs": [
        {
          "output_type": "stream",
          "text": [
            "There are 13 cats in my apartment\n"
          ],
          "name": "stdout"
        }
      ]
    },
    {
      "cell_type": "code",
      "metadata": {
        "colab": {
          "base_uri": "https://localhost:8080/"
        },
        "id": "MqfNlz0Ujy06",
        "outputId": "178126d6-d6c9-4597-b27e-3107cdb9b26a"
      },
      "source": [
        "print ('Hay %s bicis en la %s de enfrente' % (4, 'acera'))"
      ],
      "execution_count": 46,
      "outputs": [
        {
          "output_type": "stream",
          "text": [
            "Hay 4 bicis en la acera de enfrente\n"
          ],
          "name": "stdout"
        }
      ]
    },
    {
      "cell_type": "markdown",
      "metadata": {
        "id": "lFu7CDhEDscG"
      },
      "source": [
        "In these examples, the `%s` indicates that Python should convert the values into strings. There are multiple conversion types that you can use to get more specific with the the formatting. See the string formatting [documentation](https://docs.python.org/2/library/stdtypes.html#string-formatting) for additional examples and more complete details on use."
      ]
    },
    {
      "cell_type": "markdown",
      "metadata": {
        "id": "V3u82ZO7DscG"
      },
      "source": [
        "## Logical Operators\n",
        "### Basic Logic\n",
        "\n",
        "Logical operators deal with `boolean` values, as we briefly covered before. If you recall, a `bool` takes on one of two values, `True` or `False` (or $1$ or $0$). The basic logical statements that we can make are defined using the built-in comparators. These are `==` (equal), `!=` (not equal), `<` (less than), `>` (greater than), `<=` (less than or equal to), and `>=` (greater than or equal to)."
      ]
    },
    {
      "cell_type": "code",
      "metadata": {
        "id": "H2YKQz_dDscG",
        "colab": {
          "base_uri": "https://localhost:8080/"
        },
        "outputId": "cd166a0b-9daf-49d3-ac71-2ee3cb4f1559"
      },
      "source": [
        "print (5 == 5)"
      ],
      "execution_count": 48,
      "outputs": [
        {
          "output_type": "stream",
          "text": [
            "True\n"
          ],
          "name": "stdout"
        }
      ]
    },
    {
      "cell_type": "code",
      "metadata": {
        "id": "PYX7x8uYDscI",
        "colab": {
          "base_uri": "https://localhost:8080/"
        },
        "outputId": "4a30b51d-714f-4b59-beb4-89d0d0bf225a"
      },
      "source": [
        "print (5 > 5)"
      ],
      "execution_count": 50,
      "outputs": [
        {
          "output_type": "stream",
          "text": [
            "False\n"
          ],
          "name": "stdout"
        }
      ]
    },
    {
      "cell_type": "code",
      "metadata": {
        "colab": {
          "base_uri": "https://localhost:8080/"
        },
        "id": "okyGXQ3ikTwM",
        "outputId": "2afb7615-47d0-4d77-fc4d-652fb3880dc1"
      },
      "source": [
        "print (2 == 3)"
      ],
      "execution_count": 51,
      "outputs": [
        {
          "output_type": "stream",
          "text": [
            "False\n"
          ],
          "name": "stdout"
        }
      ]
    },
    {
      "cell_type": "code",
      "metadata": {
        "colab": {
          "base_uri": "https://localhost:8080/"
        },
        "id": "RJccHEzlkXma",
        "outputId": "8a2cfea0-5468-4ead-9ca9-1c42e019fc71"
      },
      "source": [
        "print (4 < 6)"
      ],
      "execution_count": 53,
      "outputs": [
        {
          "output_type": "stream",
          "text": [
            "True\n"
          ],
          "name": "stdout"
        }
      ]
    },
    {
      "cell_type": "markdown",
      "metadata": {
        "id": "ZhnW_3YaDscI"
      },
      "source": [
        "These comparators also work in conjunction with variables."
      ]
    },
    {
      "cell_type": "code",
      "metadata": {
        "id": "BcuUDSusDscI",
        "colab": {
          "base_uri": "https://localhost:8080/"
        },
        "outputId": "d93f2b02-7783-4a7f-95f3-47db83547e4f"
      },
      "source": [
        "m = 2\n",
        "n = 23\n",
        "print (m < n)"
      ],
      "execution_count": 54,
      "outputs": [
        {
          "output_type": "stream",
          "text": [
            "True\n"
          ],
          "name": "stdout"
        }
      ]
    },
    {
      "cell_type": "code",
      "metadata": {
        "colab": {
          "base_uri": "https://localhost:8080/"
        },
        "id": "iTgOtvaWkcE3",
        "outputId": "f4109204-e4c6-49e9-db6d-990effd8cb83"
      },
      "source": [
        "m = 23\r\n",
        "n = 2\r\n",
        "print (m < n)"
      ],
      "execution_count": 55,
      "outputs": [
        {
          "output_type": "stream",
          "text": [
            "False\n"
          ],
          "name": "stdout"
        }
      ]
    },
    {
      "cell_type": "markdown",
      "metadata": {
        "id": "b2UmuTcJDscI"
      },
      "source": [
        "We can string these comparators together to make more complex logical statements using the logical operators `or`, `and`, and `not`. "
      ]
    },
    {
      "cell_type": "code",
      "metadata": {
        "id": "gr6xMKV4DscJ",
        "colab": {
          "base_uri": "https://localhost:8080/"
        },
        "outputId": "45b94579-a3fd-4327-b7fa-059895505f29"
      },
      "source": [
        "statement_1 = 10 > 2\n",
        "statement_2 = 4 <= 6\n",
        "print (\"Statement 1 truth value: {0}\".format(statement_1))\n",
        "print (\"Statement 2 truth value: {0}\".format(statement_2))\n",
        "print (\"Statement 1 and Statement 2: {0}\".format(statement_1 and statement_2))"
      ],
      "execution_count": 56,
      "outputs": [
        {
          "output_type": "stream",
          "text": [
            "Statement 1 truth value: True\n",
            "Statement 2 truth value: True\n",
            "Statement 1 and Statement 2: True\n"
          ],
          "name": "stdout"
        }
      ]
    },
    {
      "cell_type": "code",
      "metadata": {
        "colab": {
          "base_uri": "https://localhost:8080/"
        },
        "id": "-Lk6d5z1krqK",
        "outputId": "5741a6f9-8a75-44ef-ed20-90262b974e8f"
      },
      "source": [
        "linea_1 = 10 < 2\r\n",
        "linea_2 = 4 >= 6\r\n",
        "print (\"linea 1 valor de verdad: {0}\".format(linea_1))\r\n",
        "print (\"linea 2 valor de verdad: {0}\".format(linea_2))\r\n",
        "print (\"linea 1 y linea 2: {0}\".format(linea_1 and linea_2))"
      ],
      "execution_count": 57,
      "outputs": [
        {
          "output_type": "stream",
          "text": [
            "linea 1 valor de verdad: False\n",
            "linea 2 valor de verdad: False\n",
            "linea 1 y linea 2: False\n"
          ],
          "name": "stdout"
        }
      ]
    },
    {
      "cell_type": "markdown",
      "metadata": {
        "id": "DnzvSkJ1DscJ"
      },
      "source": [
        "The `or` operator performs a logical `or` calculation. This is an inclusive `or`, so if either component paired together by `or` is `True`, the whole statement will be `True`. The `and` statement only outputs `True` if all components that are `and`ed together are True. Otherwise it will output `False`. The `not` statement simply inverts the truth value of whichever statement follows it. So a `True` statement will be evaluated as `False` when a `not` is placed in front of it. Similarly, a `False` statement will become `True` when a `not` is in front of it.\n",
        "\n",
        "Say that we have two logical statements, or assertions, $P$ and $Q$. The truth table for the basic logical operators is as follows:\n",
        "\n",
        "|  P  |  Q  | `not` P| P `and` Q | P `or` Q|\n",
        "|:-----:|:-----:|:---:|:---:|:---:|\n",
        "| `True` | `True` | `False` | `True` | `True` |\n",
        "| `False` | `True` | `True` | `False` | `True` |\n",
        "| `True` | `False` | `False` | `False` | `True` |\n",
        "| `False` | `False` | `True` | `False` | `False` |\n",
        "\n",
        "We can string multiple logical statements together using the logical operators."
      ]
    },
    {
      "cell_type": "code",
      "metadata": {
        "id": "TcVjO2oZDscJ",
        "colab": {
          "base_uri": "https://localhost:8080/"
        },
        "outputId": "959f7cbc-bf5c-41ba-d402-0880e18b21c8"
      },
      "source": [
        "print ((2 < 3) and (3 > 0)) or ((5 > 6) and not (4 < 2))"
      ],
      "execution_count": 58,
      "outputs": [
        {
          "output_type": "stream",
          "text": [
            "True\n"
          ],
          "name": "stdout"
        },
        {
          "output_type": "execute_result",
          "data": {
            "text/plain": [
              "False"
            ]
          },
          "metadata": {
            "tags": []
          },
          "execution_count": 58
        }
      ]
    },
    {
      "cell_type": "code",
      "metadata": {
        "colab": {
          "base_uri": "https://localhost:8080/"
        },
        "id": "-BHjBIpulHqW",
        "outputId": "cca8ad8f-856c-4268-b339-8fa44d67e7ff"
      },
      "source": [
        "print ((2 > 3) and not (3 < 0)) or ((5 < 6) and  (4 < 2))"
      ],
      "execution_count": 59,
      "outputs": [
        {
          "output_type": "stream",
          "text": [
            "False\n"
          ],
          "name": "stdout"
        },
        {
          "output_type": "execute_result",
          "data": {
            "text/plain": [
              "False"
            ]
          },
          "metadata": {
            "tags": []
          },
          "execution_count": 59
        }
      ]
    },
    {
      "cell_type": "markdown",
      "metadata": {
        "id": "7-_hGNsiDscJ"
      },
      "source": [
        "Logical statements can be as simple or complex as we like, depending on what we need to express. Evaluating the above logical statement step by step we see that we are evaluating (`True and True`) `or` (`False and not False`). This becomes `True or (False and True`), subsequently becoming `True or False`, ultimately being evaluated as `True`."
      ]
    },
    {
      "cell_type": "markdown",
      "metadata": {
        "id": "9FnAnT2wDscJ"
      },
      "source": [
        "#### Truthiness\n",
        "\n",
        "Data types in Python have a fun characteristic called truthiness. What this means is that most built-in types will evaluate as either `True` or `False` when a boolean value is needed (such as with an if-statement). As a general rule, containers like strings, tuples, dictionaries, lists, and sets, will return `True` if they contain anything at all and `False` if they contain nothing."
      ]
    },
    {
      "cell_type": "code",
      "metadata": {
        "id": "084dd9MkDscJ",
        "colab": {
          "base_uri": "https://localhost:8080/"
        },
        "outputId": "3b8241bb-a155-478d-e2ad-9106476be09d"
      },
      "source": [
        "# Similar to how float() and int() work, bool() forces a value to be considered a boolean!\n",
        "print (bool(''))"
      ],
      "execution_count": 60,
      "outputs": [
        {
          "output_type": "stream",
          "text": [
            "False\n"
          ],
          "name": "stdout"
        }
      ]
    },
    {
      "cell_type": "code",
      "metadata": {
        "colab": {
          "base_uri": "https://localhost:8080/"
        },
        "id": "qTJtU4QGl18j",
        "outputId": "519b50c1-8b95-4c22-894b-e19ea091e6c6"
      },
      "source": [
        "print (bool(1))"
      ],
      "execution_count": 62,
      "outputs": [
        {
          "output_type": "stream",
          "text": [
            "True\n"
          ],
          "name": "stdout"
        }
      ]
    },
    {
      "cell_type": "code",
      "metadata": {
        "id": "u6t6nalPDscK",
        "colab": {
          "base_uri": "https://localhost:8080/"
        },
        "outputId": "7f26efb4-0c46-4792-e8fe-1a400308c65b"
      },
      "source": [
        "print (bool('I have character!'))"
      ],
      "execution_count": 64,
      "outputs": [
        {
          "output_type": "stream",
          "text": [
            "True\n"
          ],
          "name": "stdout"
        }
      ]
    },
    {
      "cell_type": "code",
      "metadata": {
        "colab": {
          "base_uri": "https://localhost:8080/"
        },
        "id": "q1wpRVd0l8cz",
        "outputId": "7f214500-9e66-4624-cdef-1f5b3202bb63"
      },
      "source": [
        "print (bool(''))"
      ],
      "execution_count": 65,
      "outputs": [
        {
          "output_type": "stream",
          "text": [
            "False\n"
          ],
          "name": "stdout"
        }
      ]
    },
    {
      "cell_type": "code",
      "metadata": {
        "id": "rqjCeE3CDscK",
        "colab": {
          "base_uri": "https://localhost:8080/"
        },
        "outputId": "6bd01b19-3e37-49e7-b4a9-a155e3ac0b9e"
      },
      "source": [
        "print (bool([]))"
      ],
      "execution_count": 66,
      "outputs": [
        {
          "output_type": "stream",
          "text": [
            "False\n"
          ],
          "name": "stdout"
        }
      ]
    },
    {
      "cell_type": "code",
      "metadata": {
        "colab": {
          "base_uri": "https://localhost:8080/"
        },
        "id": "c00OX2wjmFtm",
        "outputId": "44a1a9fc-0045-4609-f771-929bd022ff2f"
      },
      "source": [
        "print (bool(['A', 'B']))"
      ],
      "execution_count": 67,
      "outputs": [
        {
          "output_type": "stream",
          "text": [
            "True\n"
          ],
          "name": "stdout"
        }
      ]
    },
    {
      "cell_type": "code",
      "metadata": {
        "id": "er4xVoz-DscK",
        "colab": {
          "base_uri": "https://localhost:8080/"
        },
        "outputId": "6ba73085-4e85-411e-83e1-0cf66367c218"
      },
      "source": [
        "print (bool([1, 2, 3]))"
      ],
      "execution_count": 68,
      "outputs": [
        {
          "output_type": "stream",
          "text": [
            "True\n"
          ],
          "name": "stdout"
        }
      ]
    },
    {
      "cell_type": "code",
      "metadata": {
        "colab": {
          "base_uri": "https://localhost:8080/"
        },
        "id": "USj2xKhQmJEk",
        "outputId": "b63cd1bc-ce15-45d5-8603-f0330c1356ee"
      },
      "source": [
        "print (bool([]))"
      ],
      "execution_count": 69,
      "outputs": [
        {
          "output_type": "stream",
          "text": [
            "False\n"
          ],
          "name": "stdout"
        }
      ]
    },
    {
      "cell_type": "markdown",
      "metadata": {
        "id": "Vphcb4ieDscK"
      },
      "source": [
        "And so on, for the other collections and containers. `None` also evaluates as `False`. The number `1` is equivalent to `True` and the number `0` is equivalent to `False` as well, in a boolean context."
      ]
    },
    {
      "cell_type": "markdown",
      "metadata": {
        "id": "QhTbrfIkDscK"
      },
      "source": [
        "### If-statements\n",
        "\n",
        "We can create segments of code that only execute if a set of conditions is met. We use if-statements in conjunction with logical statements in order to create branches in our code. \n",
        "\n",
        "An `if` block gets entered when the condition is considered to be `True`. If condition is evaluated as `False`, the `if` block will simply be skipped unless there is an `else` block to accompany it. Conditions are made using either logical operators or by using the truthiness of values in Python. An if-statement is defined with a colon and a block of indented text."
      ]
    },
    {
      "cell_type": "code",
      "metadata": {
        "id": "U6KrHfZRDscK",
        "colab": {
          "base_uri": "https://localhost:8080/"
        },
        "outputId": "fc1262aa-1c99-471c-f53f-df4d30b38b2c"
      },
      "source": [
        "# This is the basic format of an if statement. This is a vacuous example. \n",
        "# The string \"Condition\" will always evaluated as True because it is a\n",
        "# non-empty string. he purpose of this code is to show the formatting of\n",
        "# an if-statement.\n",
        "if \"Condition\": \n",
        "    # This block of code will execute because the string is non-empty\n",
        "    # Everything on these indented lines\n",
        "    print (True)\n",
        "else:\n",
        "    # So if the condition that we examined with if is in fact False\n",
        "    # This block of code will execute INSTEAD of the first block of code\n",
        "    # Everything on these indented lines\n",
        "    print (False)\n",
        "# The else block here will never execute because \"Condition\" is a non-empty string."
      ],
      "execution_count": 71,
      "outputs": [
        {
          "output_type": "stream",
          "text": [
            "True\n"
          ],
          "name": "stdout"
        }
      ]
    },
    {
      "cell_type": "code",
      "metadata": {
        "colab": {
          "base_uri": "https://localhost:8080/"
        },
        "id": "KY8fJkD7mo4c",
        "outputId": "fe6ff00f-1fe5-4c97-8f42-a4791fd4bf71"
      },
      "source": [
        "# This is the basic format of an if statement. This is a vacuous example. \r\n",
        "# The string \"Condition\" will always evaluated as True because it is a\r\n",
        "# non-empty string. he purpose of this code is to show the formatting of\r\n",
        "# an if-statement.\r\n",
        "if \"\": \r\n",
        "    # This block of code will execute because the string is non-empty\r\n",
        "    # Everything on these indented lines\r\n",
        "    print (True)\r\n",
        "else:\r\n",
        "    # So if the condition that we examined with if is in fact False\r\n",
        "    # This block of code will execute INSTEAD of the first block of code\r\n",
        "    # Everything on these indented lines\r\n",
        "    print (False)\r\n",
        "# The else block here will never execute because \"Condition\" is a non-empty string."
      ],
      "execution_count": 72,
      "outputs": [
        {
          "output_type": "stream",
          "text": [
            "False\n"
          ],
          "name": "stdout"
        }
      ]
    },
    {
      "cell_type": "code",
      "metadata": {
        "id": "Z-qbiQfqDscL"
      },
      "source": [
        "i = 4\n",
        "if i == 5:\n",
        "    print ('The variable i has a value of 5')"
      ],
      "execution_count": 74,
      "outputs": []
    },
    {
      "cell_type": "code",
      "metadata": {
        "colab": {
          "base_uri": "https://localhost:8080/"
        },
        "id": "VTDuBf7jmkCS",
        "outputId": "5d75d877-331f-46b3-9777-d478ac43d413"
      },
      "source": [
        "i = 5\r\n",
        "if i == 5:\r\n",
        "    print ('The variable i has a value of 5')"
      ],
      "execution_count": 75,
      "outputs": [
        {
          "output_type": "stream",
          "text": [
            "The variable i has a value of 5\n"
          ],
          "name": "stdout"
        }
      ]
    },
    {
      "cell_type": "markdown",
      "metadata": {
        "id": "vfL4Ib-PDscL"
      },
      "source": [
        "Because in this example `i = 4` and the if-statement is only looking for whether `i` is equal to `5`, the print statement will never be executed. We can add in an `else` statement to create a contingency block of code in case the condition in the if-statement is not evaluated as `True`."
      ]
    },
    {
      "cell_type": "code",
      "metadata": {
        "id": "IoqPkHGbDscL",
        "colab": {
          "base_uri": "https://localhost:8080/"
        },
        "outputId": "b39ded38-0045-4e10-b77a-8d1f2a815014"
      },
      "source": [
        "i = 4\n",
        "if i == 5:\n",
        "    print (\"All lines in this indented block are part of this block\")\n",
        "    print ('The variable i has a value of 5')\n",
        "else:\n",
        "    print (\"All lines in this indented block are part of this block\")\n",
        "    print ('The variable i is not equal to 5')"
      ],
      "execution_count": 76,
      "outputs": [
        {
          "output_type": "stream",
          "text": [
            "All lines in this indented block are part of this block\n",
            "The variable i is not equal to 5\n"
          ],
          "name": "stdout"
        }
      ]
    },
    {
      "cell_type": "code",
      "metadata": {
        "colab": {
          "base_uri": "https://localhost:8080/"
        },
        "id": "_84Q2sq-m09k",
        "outputId": "08eee366-a19b-4642-f6cc-72292c888d3b"
      },
      "source": [
        "i = 5\r\n",
        "if i == 5:\r\n",
        "    print (\"All lines in this indented block are part of this block\")\r\n",
        "    print ('The variable i has a value of 5')\r\n",
        "else:\r\n",
        "    print (\"All lines in this indented block are part of this block\")\r\n",
        "    print ('The variable i is not equal to 5')"
      ],
      "execution_count": 77,
      "outputs": [
        {
          "output_type": "stream",
          "text": [
            "All lines in this indented block are part of this block\n",
            "The variable i has a value of 5\n"
          ],
          "name": "stdout"
        }
      ]
    },
    {
      "cell_type": "markdown",
      "metadata": {
        "id": "N9Xx2XWSDscL"
      },
      "source": [
        "We can implement other branches off of the same if-statement by using `elif`, an abbreviation of \"else if\". We can include as many `elifs` as we like until we have exhausted all the logical branches of a condition."
      ]
    },
    {
      "cell_type": "code",
      "metadata": {
        "id": "deh9FcukDscL",
        "colab": {
          "base_uri": "https://localhost:8080/"
        },
        "outputId": "596448aa-1b1a-4fdf-ea76-64e0ff522cc3"
      },
      "source": [
        "i = 1\n",
        "if i == 1:\n",
        "    print ('The variable i has a value of 1')\n",
        "elif i == 2:\n",
        "    print ('The variable i has a value of 2')\n",
        "elif i == 3:\n",
        "    print ('The variable i has a value of 3')\n",
        "else:\n",
        "    print (\"I don't care what i is\")"
      ],
      "execution_count": 78,
      "outputs": [
        {
          "output_type": "stream",
          "text": [
            "The variable i has a value of 1\n"
          ],
          "name": "stdout"
        }
      ]
    },
    {
      "cell_type": "code",
      "metadata": {
        "colab": {
          "base_uri": "https://localhost:8080/"
        },
        "id": "fnAkzZDnm9Wi",
        "outputId": "b65ce616-41f6-4b52-83a5-53b0e07ff021"
      },
      "source": [
        "i = \"a\"\r\n",
        "if i == 1:\r\n",
        "    print ('The variable i has a value of 1')\r\n",
        "elif i == 2:\r\n",
        "    print ('The variable i has a value of 2')\r\n",
        "elif i == 3:\r\n",
        "    print ('The variable i has a value of 3')\r\n",
        "else:\r\n",
        "    print (\"I don't care what i is\")"
      ],
      "execution_count": 79,
      "outputs": [
        {
          "output_type": "stream",
          "text": [
            "I don't care what i is\n"
          ],
          "name": "stdout"
        }
      ]
    },
    {
      "cell_type": "markdown",
      "metadata": {
        "id": "rJrT9D_MDscM"
      },
      "source": [
        "You can also nest if-statements within if-statements to check for further conditions."
      ]
    },
    {
      "cell_type": "code",
      "metadata": {
        "id": "BWbOEDHaDscM",
        "colab": {
          "base_uri": "https://localhost:8080/"
        },
        "outputId": "1d645c65-482f-476b-e687-dd0beee05886"
      },
      "source": [
        "i = 10\n",
        "if i % 2 == 0:\n",
        "    if i % 3 == 0:\n",
        "        print ('i is divisible by both 2 and 3! Wow!')\n",
        "    elif i % 5 == 0:\n",
        "        print ('i is divisible by both 2 and 5! Wow!')\n",
        "    else:\n",
        "        print ('i is divisible by 2, but not 3 or 5. Meh.')\n",
        "else:\n",
        "    print ('I guess that i is an odd number. Boring.')"
      ],
      "execution_count": 80,
      "outputs": [
        {
          "output_type": "stream",
          "text": [
            "i is divisible by both 2 and 5! Wow!\n"
          ],
          "name": "stdout"
        }
      ]
    },
    {
      "cell_type": "code",
      "metadata": {
        "colab": {
          "base_uri": "https://localhost:8080/"
        },
        "id": "23Gjx8NKnVXt",
        "outputId": "c449cca4-4760-4e67-aba0-fb82adec8662"
      },
      "source": [
        "i = 8\r\n",
        "if i % 2 == 0:\r\n",
        "    if i % 3 == 0:\r\n",
        "        print ('i is divisible by both 2 and 3! Wow!')\r\n",
        "    elif i % 5 == 0:\r\n",
        "        print ('i is divisible by both 2 and 5! Wow!')\r\n",
        "    else:\r\n",
        "        print ('i is divisible by 2, but not 3 or 5. Meh.')\r\n",
        "else:\r\n",
        "    print ('I guess that i is an odd number. Boring.')"
      ],
      "execution_count": 82,
      "outputs": [
        {
          "output_type": "stream",
          "text": [
            "i is divisible by 2, but not 3 or 5. Meh.\n"
          ],
          "name": "stdout"
        }
      ]
    },
    {
      "cell_type": "markdown",
      "metadata": {
        "id": "zHHFr62iDscM"
      },
      "source": [
        "Remember that we can group multiple conditions together by using the logical operators!"
      ]
    },
    {
      "cell_type": "code",
      "metadata": {
        "id": "l7hTY9XyDscM",
        "colab": {
          "base_uri": "https://localhost:8080/"
        },
        "outputId": "fc4f2e08-9d99-4bd1-e6cd-8f9b90f8b63f"
      },
      "source": [
        "i = 5\n",
        "j = 12\n",
        "if i < 10 and j > 11:\n",
        "    print ('{0} is less than 10 and {1} is greater than 11! How novel and interesting!'.format(i, j))"
      ],
      "execution_count": 83,
      "outputs": [
        {
          "output_type": "stream",
          "text": [
            "5 is less than 10 and 12 is greater than 11! How novel and interesting!\n"
          ],
          "name": "stdout"
        }
      ]
    },
    {
      "cell_type": "code",
      "metadata": {
        "colab": {
          "base_uri": "https://localhost:8080/"
        },
        "id": "eon2Y2v8nfrC",
        "outputId": "4a953ddd-7c1e-48d9-e2a8-95da46f280ff"
      },
      "source": [
        "i = 12\r\n",
        "j = 20\r\n",
        "if i < 10 and j > 11:\r\n",
        "  print ('{0} is less than 10 and {1} is greater than 11! How novel and interesting!'.format(i, j))\r\n",
        "elif i > 10 and j < 21:\r\n",
        "  print ('{0} is less than 10 and {1} is greater than 11! How novel and interesting!'.format(i, j))"
      ],
      "execution_count": 86,
      "outputs": [
        {
          "output_type": "stream",
          "text": [
            "12 is less than 10 and 20 is greater than 11! How novel and interesting!\n"
          ],
          "name": "stdout"
        }
      ]
    },
    {
      "cell_type": "markdown",
      "metadata": {
        "id": "TwvHkYy_DscM"
      },
      "source": [
        "You can use the logical comparators to compare strings!"
      ]
    },
    {
      "cell_type": "code",
      "metadata": {
        "id": "W0F8yTX8DscM"
      },
      "source": [
        "my_string = \"Carthago delenda est\"\n",
        "if my_string == \"Carthago delenda est\":\n",
        "    print 'And so it was! For the glory of Rome!'\n",
        "else:\n",
        "    print 'War elephants are TERRIFYING. I am staying home.'"
      ],
      "execution_count": null,
      "outputs": []
    },
    {
      "cell_type": "code",
      "metadata": {
        "colab": {
          "base_uri": "https://localhost:8080/"
        },
        "id": "mJi5HNlxn9xR",
        "outputId": "cb10b64e-91d8-4e2f-aab9-59ac997c0ad3"
      },
      "source": [
        "the_string = \"Hola\"\r\n",
        "if the_string == \"Hola\":\r\n",
        "    print ('Hey, que buen saludo')\r\n",
        "else:\r\n",
        "    print ('Adios :c')"
      ],
      "execution_count": 88,
      "outputs": [
        {
          "output_type": "stream",
          "text": [
            "Hey, que buen saludo\n"
          ],
          "name": "stdout"
        }
      ]
    },
    {
      "cell_type": "markdown",
      "metadata": {
        "id": "jBRNZXLYDscN"
      },
      "source": [
        "As with other data types, `==` will check for whether the two things on either side of it have the same value. In this case, we compare whether the value of the strings are the same. Using `>` or `<` or any of the other comparators is not quite so intuitive, however, so we will stay from using comparators with strings in this lecture. Comparators will examine the [lexicographical order](https://en.wikipedia.org/wiki/Lexicographical_order) of the strings, which might be a bit more in-depth than you might like."
      ]
    },
    {
      "cell_type": "markdown",
      "metadata": {
        "id": "fPFpWW1uDscN"
      },
      "source": [
        "Some built-in functions return a boolean value, so they can be used as conditions in an if-statement. User-defined functions can also be constructed so that they return a boolean value. This will be covered later with function definition!\n",
        "\n",
        "The `in` keyword is generally used to check membership of a value within another value. We can check memebership in the context of an if-statement and use it to output a truth value."
      ]
    },
    {
      "cell_type": "code",
      "metadata": {
        "id": "ZknnAZe1DscN",
        "colab": {
          "base_uri": "https://localhost:8080/"
        },
        "outputId": "5eede264-f310-4aaa-8b9d-9f127e981f46"
      },
      "source": [
        "if 'a' in my_string or 'e' in my_string:\n",
        "    print ('Those are my favorite vowels!')"
      ],
      "execution_count": 89,
      "outputs": [
        {
          "output_type": "stream",
          "text": [
            "Those are my favorite vowels!\n"
          ],
          "name": "stdout"
        }
      ]
    },
    {
      "cell_type": "code",
      "metadata": {
        "colab": {
          "base_uri": "https://localhost:8080/"
        },
        "id": "qnoeCkZFohsn",
        "outputId": "ca30e37b-17ba-492c-a2e6-66cba6291699"
      },
      "source": [
        "if 'H' in the_string or 'w' in the_string:\r\n",
        "    print ('Me esta Saludando?')"
      ],
      "execution_count": 90,
      "outputs": [
        {
          "output_type": "stream",
          "text": [
            "Me esta Saludando?\n"
          ],
          "name": "stdout"
        }
      ]
    },
    {
      "cell_type": "markdown",
      "metadata": {
        "id": "MgSOmnQADscN"
      },
      "source": [
        "Here we use `in` to check whether the variable `my_string` contains any particular letters. We will later use `in` to iterate through lists!"
      ]
    },
    {
      "cell_type": "markdown",
      "metadata": {
        "id": "RYLD0iN_DscN"
      },
      "source": [
        "## Loop Structures\n",
        "\n",
        "Loop structures are one of the most important parts of programming. The `for` loop and the `while` loop provide a way to repeatedly run a block of code repeatedly. A `while` loop will iterate until a certain condition has been met. If at any point after an iteration that condition is no longer satisfied, the loop terminates. A `for` loop will iterate over a sequence of values and terminate when the sequence has ended. You can instead include conditions within the `for` loop to decide whether it should terminate early or you could simply let it run its course."
      ]
    },
    {
      "cell_type": "code",
      "metadata": {
        "id": "4bch_VuTDscN",
        "colab": {
          "base_uri": "https://localhost:8080/"
        },
        "outputId": "5851f11c-b2de-40b0-c17e-2195915b8fdb"
      },
      "source": [
        "i = 5\n",
        "while i > 0: # We can write this as 'while i:' because 0 is False!\n",
        "    i -= 1\n",
        "    print ('I am looping! {0} more to go!'.format(i))"
      ],
      "execution_count": 91,
      "outputs": [
        {
          "output_type": "stream",
          "text": [
            "I am looping! 4 more to go!\n",
            "I am looping! 3 more to go!\n",
            "I am looping! 2 more to go!\n",
            "I am looping! 1 more to go!\n",
            "I am looping! 0 more to go!\n"
          ],
          "name": "stdout"
        }
      ]
    },
    {
      "cell_type": "code",
      "metadata": {
        "colab": {
          "base_uri": "https://localhost:8080/"
        },
        "id": "Jme8E-0Oo2mn",
        "outputId": "8732d669-686a-49b8-da43-246217b01717"
      },
      "source": [
        "i = 5\r\n",
        "while i > 0: # We can write this as 'while i:' because 0 is False!\r\n",
        "    i -= 1\r\n",
        "    print ('Estoy bucleando {0} para acabar!'.format(i))"
      ],
      "execution_count": 92,
      "outputs": [
        {
          "output_type": "stream",
          "text": [
            "Estoy bucleando 4 para acabar!\n",
            "Estoy bucleando 3 para acabar!\n",
            "Estoy bucleando 2 para acabar!\n",
            "Estoy bucleando 1 para acabar!\n",
            "Estoy bucleando 0 para acabar!\n"
          ],
          "name": "stdout"
        }
      ]
    },
    {
      "cell_type": "markdown",
      "metadata": {
        "id": "x0rmBetNDscO"
      },
      "source": [
        "\n",
        "With `while` loops we need to make sure that something actually changes from iteration to iteration so that that the loop actually terminates. In this case, we use the shorthand `i -= 1` (short for `i = i - 1`) so that the value of `i` gets smaller with each iteration. Eventually `i` will be reduced to `0`, rendering the condition `False` and exiting the loop."
      ]
    },
    {
      "cell_type": "markdown",
      "metadata": {
        "id": "j1YS3Fy2DscO"
      },
      "source": [
        "A `for` loop iterates a set number of times, determined when you state the entry into the loop. In this case we are iterating over the list returned from `range()`. The `for` loop selects a value from the list, in order, and temporarily assigns the value of `i` to it so that operations can be performed with the value."
      ]
    },
    {
      "cell_type": "code",
      "metadata": {
        "id": "SsiHoU7RDscO",
        "colab": {
          "base_uri": "https://localhost:8080/"
        },
        "outputId": "fbaa9ea6-a6df-4981-de61-7d54c5a6b3ea"
      },
      "source": [
        "for i in range(5):\n",
        "    print ('I am looping! I have looped {0} times!'.format(i + 1))"
      ],
      "execution_count": 93,
      "outputs": [
        {
          "output_type": "stream",
          "text": [
            "I am looping! I have looped 1 times!\n",
            "I am looping! I have looped 2 times!\n",
            "I am looping! I have looped 3 times!\n",
            "I am looping! I have looped 4 times!\n",
            "I am looping! I have looped 5 times!\n"
          ],
          "name": "stdout"
        }
      ]
    },
    {
      "cell_type": "code",
      "metadata": {
        "colab": {
          "base_uri": "https://localhost:8080/"
        },
        "id": "koHdRbevpIyr",
        "outputId": "50b0bebd-42db-4971-ea10-a9d69e1c06e5"
      },
      "source": [
        "for i in range(5):\r\n",
        "    print ('Estoy bucleando por {0} vez!'.format(i + 1))"
      ],
      "execution_count": 95,
      "outputs": [
        {
          "output_type": "stream",
          "text": [
            "Estoy bucleando por 1 vez!\n",
            "Estoy bucleando por 2 vez!\n",
            "Estoy bucleando por 3 vez!\n",
            "Estoy bucleando por 4 vez!\n",
            "Estoy bucleando por 5 vez!\n"
          ],
          "name": "stdout"
        }
      ]
    },
    {
      "cell_type": "markdown",
      "metadata": {
        "id": "LjoIRMCaDscO"
      },
      "source": [
        "Note that in this `for` loop we use the `in` keyword. Use of the `in` keyword is not limited to checking for membership as in the if-statement example. You can iterate over any collection with a `for` loop by using the `in` keyword.\n",
        "\n",
        "In this next example, we will iterate over a `set` because we want to check for containment and add to a new set."
      ]
    },
    {
      "cell_type": "code",
      "metadata": {
        "id": "_kKTXTYmDscO",
        "colab": {
          "base_uri": "https://localhost:8080/"
        },
        "outputId": "401f2f4d-d23a-40fc-9e8f-127de68958e3"
      },
      "source": [
        "my_list = {'cats', 'dogs', 'lizards', 'cows', 'bats', 'sponges', 'humans'} # Lists all the animals in the world\n",
        "mammal_list = {'cats', 'dogs', 'cows', 'bats', 'humans'} # Lists all the mammals in the world\n",
        "my_new_list = set()\n",
        "for animal in my_list:\n",
        "    if animal in mammal_list:\n",
        "        # This adds any animal that is both in my_list and mammal_list to my_new_list\n",
        "        my_new_list.add(animal)\n",
        "        \n",
        "print (my_new_list)"
      ],
      "execution_count": 96,
      "outputs": [
        {
          "output_type": "stream",
          "text": [
            "{'cats', 'bats', 'cows', 'humans', 'dogs'}\n"
          ],
          "name": "stdout"
        }
      ]
    },
    {
      "cell_type": "code",
      "metadata": {
        "colab": {
          "base_uri": "https://localhost:8080/"
        },
        "id": "hmDGKqf-pbHc",
        "outputId": "4a4aee83-6320-414b-88db-b09189f33323"
      },
      "source": [
        "the_list = {'gatos', 'perros', 'lagarto', 'vacas', 'murcielagos', 'esponjas', 'humanos'} # Lists all the animals in the world\r\n",
        "manig_list = {'gatos', 'perros', 'vacas', 'murcielagos', 'humanos'} # Lists all the mammals in the world\r\n",
        "new_list = set()\r\n",
        "for animal in the_list:\r\n",
        "    if animal in manig_list:\r\n",
        "        # This adds any animal that is both in my_list and mammal_list to my_new_list\r\n",
        "        new_list.add(animal)\r\n",
        "        \r\n",
        "print (new_list)"
      ],
      "execution_count": 97,
      "outputs": [
        {
          "output_type": "stream",
          "text": [
            "{'gatos', 'perros', 'vacas', 'humanos', 'murcielagos'}\n"
          ],
          "name": "stdout"
        }
      ]
    },
    {
      "cell_type": "markdown",
      "metadata": {
        "id": "OO2sg2rDDscO"
      },
      "source": [
        "There are two statements that are very helpful in dealing with both `for` and `while` loops. These are `break` and `continue`. If `break` is encountered at any point while a loop is executing, the loop will immediately end."
      ]
    },
    {
      "cell_type": "code",
      "metadata": {
        "id": "8l3r2ujtDscO",
        "colab": {
          "base_uri": "https://localhost:8080/"
        },
        "outputId": "d1132fe9-ca85-4932-9ef2-7561a3551aef"
      },
      "source": [
        "i = 10\n",
        "while True:\n",
        "    if i == 14:\n",
        "        break\n",
        "    i += 1 # This is shorthand for i = i + 1. It increments i with each iteration.\n",
        "    print (i)"
      ],
      "execution_count": 98,
      "outputs": [
        {
          "output_type": "stream",
          "text": [
            "11\n",
            "12\n",
            "13\n",
            "14\n"
          ],
          "name": "stdout"
        }
      ]
    },
    {
      "cell_type": "code",
      "metadata": {
        "colab": {
          "base_uri": "https://localhost:8080/"
        },
        "id": "lSfUMGu6rqBI",
        "outputId": "2df88b27-d9a9-4f86-b376-bd7975dba776"
      },
      "source": [
        "i = 6\r\n",
        "while True:\r\n",
        "    if i == 12:\r\n",
        "        break\r\n",
        "    i += 1 \r\n",
        "    print (i)"
      ],
      "execution_count": 100,
      "outputs": [
        {
          "output_type": "stream",
          "text": [
            "7\n",
            "8\n",
            "9\n",
            "10\n",
            "11\n",
            "12\n"
          ],
          "name": "stdout"
        }
      ]
    },
    {
      "cell_type": "code",
      "metadata": {
        "id": "AZAEZQTmDscP",
        "colab": {
          "base_uri": "https://localhost:8080/"
        },
        "outputId": "2d3590cd-aaab-46c5-b2bf-dc1137a38f4e"
      },
      "source": [
        "for i in range(5):\n",
        "    if i == 2:\n",
        "        break\n",
        "    print (i)"
      ],
      "execution_count": 101,
      "outputs": [
        {
          "output_type": "stream",
          "text": [
            "0\n",
            "1\n"
          ],
          "name": "stdout"
        }
      ]
    },
    {
      "cell_type": "code",
      "metadata": {
        "colab": {
          "base_uri": "https://localhost:8080/"
        },
        "id": "f4lAQhJlr0h1",
        "outputId": "bc8f50bf-bbe6-4d2a-c182-0be72a14b10f"
      },
      "source": [
        "for i in range(7):\r\n",
        "    if i == 6:\r\n",
        "        break\r\n",
        "    print (i)"
      ],
      "execution_count": 102,
      "outputs": [
        {
          "output_type": "stream",
          "text": [
            "0\n",
            "1\n",
            "2\n",
            "3\n",
            "4\n",
            "5\n"
          ],
          "name": "stdout"
        }
      ]
    },
    {
      "cell_type": "markdown",
      "metadata": {
        "id": "9Aoe7KnLDscP"
      },
      "source": [
        "The `continue` statement will tell the loop to immediately end this iteration and continue onto the next iteration of the loop."
      ]
    },
    {
      "cell_type": "code",
      "metadata": {
        "id": "v4d7fQkKDscP",
        "colab": {
          "base_uri": "https://localhost:8080/"
        },
        "outputId": "bddd0cc1-5c45-4f24-8225-a7c9cd2f17de"
      },
      "source": [
        "i = 0\n",
        "while i < 5:\n",
        "    i += 1\n",
        "    if i == 3:\n",
        "        continue\n",
        "    print (i)"
      ],
      "execution_count": 104,
      "outputs": [
        {
          "output_type": "stream",
          "text": [
            "1\n",
            "2\n",
            "4\n",
            "5\n"
          ],
          "name": "stdout"
        }
      ]
    },
    {
      "cell_type": "code",
      "metadata": {
        "colab": {
          "base_uri": "https://localhost:8080/"
        },
        "id": "BFikiDGtsEsA",
        "outputId": "0834fa74-ccbf-4ab2-8a79-7492f7f13891"
      },
      "source": [
        "i = 0\r\n",
        "while i < 20:\r\n",
        "    i += 3\r\n",
        "    if i%2 == 0:\r\n",
        "        continue\r\n",
        "    print (i)"
      ],
      "execution_count": 107,
      "outputs": [
        {
          "output_type": "stream",
          "text": [
            "3\n",
            "9\n",
            "15\n",
            "21\n"
          ],
          "name": "stdout"
        }
      ]
    },
    {
      "cell_type": "markdown",
      "metadata": {
        "id": "VEzu9pgUDscP"
      },
      "source": [
        "This loop skips printing the number $3$ because of the `continue` statement that executes when we enter the if-statement. The code never sees the command to print the number $3$ because it has already moved to the next iteration. The `break` and `continue` statements are further tools to help you control the flow of your loops and, as a result, your code."
      ]
    },
    {
      "cell_type": "markdown",
      "metadata": {
        "id": "0VyGKT9vDscP"
      },
      "source": [
        "The variable that we use to iterate over a loop will retain its value when the loop exits. Similarly, any variables defined within the context of the loop will continue to exist outside of it."
      ]
    },
    {
      "cell_type": "code",
      "metadata": {
        "id": "aZghDVJdDscP",
        "colab": {
          "base_uri": "https://localhost:8080/"
        },
        "outputId": "e3fdf9fb-abc6-4570-93da-c7b72bedf173"
      },
      "source": [
        "for i in range(5):\n",
        "    loop_string = 'I transcend the loop!'\n",
        "    print ('I am eternal! I am {0} and I exist everywhere!'.format(i))\n",
        "\n",
        "print ('I persist! My value is {0}'.format(i))\n",
        "print (loop_string)"
      ],
      "execution_count": 108,
      "outputs": [
        {
          "output_type": "stream",
          "text": [
            "I am eternal! I am 0 and I exist everywhere!\n",
            "I am eternal! I am 1 and I exist everywhere!\n",
            "I am eternal! I am 2 and I exist everywhere!\n",
            "I am eternal! I am 3 and I exist everywhere!\n",
            "I am eternal! I am 4 and I exist everywhere!\n",
            "I persist! My value is 4\n",
            "I transcend the loop!\n"
          ],
          "name": "stdout"
        }
      ]
    },
    {
      "cell_type": "code",
      "metadata": {
        "colab": {
          "base_uri": "https://localhost:8080/"
        },
        "id": "a2UJzDuctAtV",
        "outputId": "38ae6bf3-be02-4f79-fb1e-338186e3d294"
      },
      "source": [
        "for i in range(7):\r\n",
        "    loop_string = 'I transcend the loop!'\r\n",
        "    print ('I am eternal! I am {0} and I exist everywhere!'.format(i))\r\n",
        "\r\n",
        "print ('I persist! My value is {0}'.format(i))\r\n",
        "print (loop_string)"
      ],
      "execution_count": 109,
      "outputs": [
        {
          "output_type": "stream",
          "text": [
            "I am eternal! I am 0 and I exist everywhere!\n",
            "I am eternal! I am 1 and I exist everywhere!\n",
            "I am eternal! I am 2 and I exist everywhere!\n",
            "I am eternal! I am 3 and I exist everywhere!\n",
            "I am eternal! I am 4 and I exist everywhere!\n",
            "I am eternal! I am 5 and I exist everywhere!\n",
            "I am eternal! I am 6 and I exist everywhere!\n",
            "I persist! My value is 6\n",
            "I transcend the loop!\n"
          ],
          "name": "stdout"
        }
      ]
    },
    {
      "cell_type": "markdown",
      "metadata": {
        "id": "gK2dzZOJDscQ"
      },
      "source": [
        "We can also iterate over a dictionary!"
      ]
    },
    {
      "cell_type": "code",
      "metadata": {
        "id": "PUJgLz-RDscQ"
      },
      "source": [
        "my_dict = {'firstname' : 'Inigo', 'lastname' : 'Montoya', 'nemesis' : 'Rugen'}"
      ],
      "execution_count": 110,
      "outputs": []
    },
    {
      "cell_type": "code",
      "metadata": {
        "id": "YAykfWNvtfKD"
      },
      "source": [
        "the_dict= {'primer nombre' : 'Camilo', 'apellido' : 'Vargas', 'Rival' : 'Fredy'}"
      ],
      "execution_count": 111,
      "outputs": []
    },
    {
      "cell_type": "code",
      "metadata": {
        "id": "MNH9PFtSDscS",
        "colab": {
          "base_uri": "https://localhost:8080/"
        },
        "outputId": "b14c0fe5-9b57-48a7-daa0-b5da723df16d"
      },
      "source": [
        "for key in my_dict:\n",
        "    print (key)"
      ],
      "execution_count": 113,
      "outputs": [
        {
          "output_type": "stream",
          "text": [
            "firstname\n",
            "lastname\n",
            "nemesis\n"
          ],
          "name": "stdout"
        }
      ]
    },
    {
      "cell_type": "code",
      "metadata": {
        "colab": {
          "base_uri": "https://localhost:8080/"
        },
        "id": "mSZ-Nc95tuXB",
        "outputId": "ed78b168-095d-495d-c91e-1c1b75746eb3"
      },
      "source": [
        "for llave in the_dict:\r\n",
        "    print (llave)"
      ],
      "execution_count": 114,
      "outputs": [
        {
          "output_type": "stream",
          "text": [
            "primer nombre\n",
            "apellido\n",
            "Rival\n"
          ],
          "name": "stdout"
        }
      ]
    },
    {
      "cell_type": "markdown",
      "metadata": {
        "id": "xqLwsznCDscS"
      },
      "source": [
        "If we just iterate over a dictionary without doing anything else, we will only get the keys. We can either use the keys to get the values, like so:"
      ]
    },
    {
      "cell_type": "code",
      "metadata": {
        "id": "OQlVy5eRDscT",
        "colab": {
          "base_uri": "https://localhost:8080/"
        },
        "outputId": "5443b2e1-c87e-4a07-ecfb-64683561b6a4"
      },
      "source": [
        "for key in my_dict:\n",
        "    print (my_dict[key])"
      ],
      "execution_count": 115,
      "outputs": [
        {
          "output_type": "stream",
          "text": [
            "Inigo\n",
            "Montoya\n",
            "Rugen\n"
          ],
          "name": "stdout"
        }
      ]
    },
    {
      "cell_type": "code",
      "metadata": {
        "colab": {
          "base_uri": "https://localhost:8080/"
        },
        "id": "qbpMXSWjt1oL",
        "outputId": "47a8578a-9b20-4a7a-9788-8073c5ec2112"
      },
      "source": [
        "for llave in the_dict:\r\n",
        "    print (the_dict[llave])"
      ],
      "execution_count": 116,
      "outputs": [
        {
          "output_type": "stream",
          "text": [
            "Camilo\n",
            "Vargas\n",
            "Fredy\n"
          ],
          "name": "stdout"
        }
      ]
    },
    {
      "cell_type": "markdown",
      "metadata": {
        "id": "J1ssdTHVDscT"
      },
      "source": [
        "Or we can use the `items()` function to get both key and value at the same time."
      ]
    },
    {
      "cell_type": "code",
      "metadata": {
        "id": "5pl6wQB7DscT",
        "colab": {
          "base_uri": "https://localhost:8080/"
        },
        "outputId": "3c018884-bfbc-4316-f08b-1db383de128d"
      },
      "source": [
        "for key, value in my_dict.items():\n",
        "    print (key, ':', value)"
      ],
      "execution_count": 117,
      "outputs": [
        {
          "output_type": "stream",
          "text": [
            "firstname : Inigo\n",
            "lastname : Montoya\n",
            "nemesis : Rugen\n"
          ],
          "name": "stdout"
        }
      ]
    },
    {
      "cell_type": "code",
      "metadata": {
        "colab": {
          "base_uri": "https://localhost:8080/"
        },
        "id": "-9Fynw-LuAbD",
        "outputId": "66945604-b35c-4f3b-fdb0-5142d28d15c5"
      },
      "source": [
        "for llave, valor in the_dict.items():\r\n",
        "    print (llave, ':', valor)"
      ],
      "execution_count": 118,
      "outputs": [
        {
          "output_type": "stream",
          "text": [
            "primer nombre : Camilo\n",
            "apellido : Vargas\n",
            "Rival : Fredy\n"
          ],
          "name": "stdout"
        }
      ]
    },
    {
      "cell_type": "markdown",
      "metadata": {
        "id": "cabb3Q-6DscV"
      },
      "source": [
        "The `items()` function creates a tuple of each key-value pair and the for loop unpacks that tuple into `key, value` on each separate execution of the loop!"
      ]
    },
    {
      "cell_type": "markdown",
      "metadata": {
        "id": "JRrceQtqDscV"
      },
      "source": [
        "## Functions\n",
        "\n",
        "A function is a reusable block of code that you can call repeatedly to make calculations, output data, or really do anything that you want. This is one of the key aspects of using a programming language. To add to the built-in functions in Python, you can define your own!"
      ]
    },
    {
      "cell_type": "code",
      "metadata": {
        "id": "R1kfgeNsDscV",
        "colab": {
          "base_uri": "https://localhost:8080/"
        },
        "outputId": "22e70f23-3cb9-4eba-b845-8cca854fac74"
      },
      "source": [
        "def hello_world():\n",
        "    \"\"\" Prints Hello, world! \"\"\"\n",
        "    print ('Hello, world!')\n",
        "\n",
        "hello_world()"
      ],
      "execution_count": 119,
      "outputs": [
        {
          "output_type": "stream",
          "text": [
            "Hello, world!\n"
          ],
          "name": "stdout"
        }
      ]
    },
    {
      "cell_type": "code",
      "metadata": {
        "colab": {
          "base_uri": "https://localhost:8080/"
        },
        "id": "PDMd8NeXvBAy",
        "outputId": "6bf80189-7fb1-45bd-aa1a-f8ea8dd8894b"
      },
      "source": [
        "def hola_mundo():\r\n",
        "    \"\"\" Es solo un Hola Mundo \"\"\"\r\n",
        "    print ('Hola Mundo!')\r\n",
        "\r\n",
        "hola_mundo()"
      ],
      "execution_count": 120,
      "outputs": [
        {
          "output_type": "stream",
          "text": [
            "Hola Mundo!\n"
          ],
          "name": "stdout"
        }
      ]
    },
    {
      "cell_type": "code",
      "metadata": {
        "id": "eNQqFD6GDscW",
        "colab": {
          "base_uri": "https://localhost:8080/"
        },
        "outputId": "2b938b4b-713a-417f-fcd0-a81fa7df926e"
      },
      "source": [
        "for i in range(5):\n",
        "    hello_world()"
      ],
      "execution_count": 121,
      "outputs": [
        {
          "output_type": "stream",
          "text": [
            "Hello, world!\n",
            "Hello, world!\n",
            "Hello, world!\n",
            "Hello, world!\n",
            "Hello, world!\n"
          ],
          "name": "stdout"
        }
      ]
    },
    {
      "cell_type": "code",
      "metadata": {
        "colab": {
          "base_uri": "https://localhost:8080/"
        },
        "id": "E1Yb2b_PvbFU",
        "outputId": "6ad5475e-42f6-4977-d014-bee61ead4681"
      },
      "source": [
        "for i in range(3):\r\n",
        "  hola_mundo()"
      ],
      "execution_count": 122,
      "outputs": [
        {
          "output_type": "stream",
          "text": [
            "Hola Mundo!\n",
            "Hola Mundo!\n",
            "Hola Mundo!\n"
          ],
          "name": "stdout"
        }
      ]
    },
    {
      "cell_type": "markdown",
      "metadata": {
        "id": "zaLITnpmDscW"
      },
      "source": [
        "Functions are defined with `def`, a function name, a list of parameters, and a colon. Everything indented below the colon will be included in the definition of the function.\n",
        "\n",
        "We can have our functions do anything that you can do with a normal block of code. For example, our `hello_world()` function prints a string every time it is called. If we want to keep a value that a function calculates, we can define the function so that it will `return` the value we want. This is a very important feature of functions, as any variable defined purely within a function will not exist outside of it."
      ]
    },
    {
      "cell_type": "code",
      "metadata": {
        "id": "hvuCgm-yDscX",
        "colab": {
          "base_uri": "https://localhost:8080/",
          "height": 197
        },
        "outputId": "c8a69c7e-cea3-40f1-e239-24e67fc94262"
      },
      "source": [
        "def see_the_scope():\n",
        "    in_function_string = \"I'm stuck in here!\"\n",
        "\n",
        "see_the_scope()\n",
        "print (in_function_string)"
      ],
      "execution_count": 124,
      "outputs": [
        {
          "output_type": "error",
          "ename": "NameError",
          "evalue": "ignored",
          "traceback": [
            "\u001b[0;31m---------------------------------------------------------------------------\u001b[0m",
            "\u001b[0;31mNameError\u001b[0m                                 Traceback (most recent call last)",
            "\u001b[0;32m<ipython-input-124-a851cbb13893>\u001b[0m in \u001b[0;36m<module>\u001b[0;34m()\u001b[0m\n\u001b[1;32m      3\u001b[0m \u001b[0;34m\u001b[0m\u001b[0m\n\u001b[1;32m      4\u001b[0m \u001b[0msee_the_scope\u001b[0m\u001b[0;34m(\u001b[0m\u001b[0;34m)\u001b[0m\u001b[0;34m\u001b[0m\u001b[0;34m\u001b[0m\u001b[0m\n\u001b[0;32m----> 5\u001b[0;31m \u001b[0mprint\u001b[0m \u001b[0;34m(\u001b[0m\u001b[0min_function_string\u001b[0m\u001b[0;34m)\u001b[0m\u001b[0;34m\u001b[0m\u001b[0;34m\u001b[0m\u001b[0m\n\u001b[0m",
            "\u001b[0;31mNameError\u001b[0m: name 'in_function_string' is not defined"
          ]
        }
      ]
    },
    {
      "cell_type": "code",
      "metadata": {
        "colab": {
          "base_uri": "https://localhost:8080/",
          "height": 197
        },
        "id": "SEDkJGQrvqgx",
        "outputId": "590c7978-e9a5-4314-c0e8-4001d5f00da3"
      },
      "source": [
        "def prueba():\r\n",
        "    var_1 = \"Nunca voy a Imprimir :P\"\r\n",
        "\r\n",
        "prueba()\r\n",
        "print (in_function_string)"
      ],
      "execution_count": 125,
      "outputs": [
        {
          "output_type": "error",
          "ename": "NameError",
          "evalue": "ignored",
          "traceback": [
            "\u001b[0;31m---------------------------------------------------------------------------\u001b[0m",
            "\u001b[0;31mNameError\u001b[0m                                 Traceback (most recent call last)",
            "\u001b[0;32m<ipython-input-125-942a87583e85>\u001b[0m in \u001b[0;36m<module>\u001b[0;34m()\u001b[0m\n\u001b[1;32m      3\u001b[0m \u001b[0;34m\u001b[0m\u001b[0m\n\u001b[1;32m      4\u001b[0m \u001b[0mprueba\u001b[0m\u001b[0;34m(\u001b[0m\u001b[0;34m)\u001b[0m\u001b[0;34m\u001b[0m\u001b[0;34m\u001b[0m\u001b[0m\n\u001b[0;32m----> 5\u001b[0;31m \u001b[0mprint\u001b[0m \u001b[0;34m(\u001b[0m\u001b[0min_function_string\u001b[0m\u001b[0;34m)\u001b[0m\u001b[0;34m\u001b[0m\u001b[0;34m\u001b[0m\u001b[0m\n\u001b[0m",
            "\u001b[0;31mNameError\u001b[0m: name 'in_function_string' is not defined"
          ]
        }
      ]
    },
    {
      "cell_type": "markdown",
      "metadata": {
        "id": "e24ub_SeDscX"
      },
      "source": [
        " The **scope** of a variable is the part of a block of code where that variable is tied to a particular value. Functions in Python have an enclosed scope, making it so that variables defined within them can only be accessed directly within them. If we pass those values to a return statement we can get them out of the function. This makes it so that the function call returns values so that you can store them in variables that have a greater scope.\n",
        " \n",
        "In this case specifically, including a return statement allows us to keep the string value that we define in the function."
      ]
    },
    {
      "cell_type": "code",
      "metadata": {
        "id": "L3USKsJ3DscX",
        "colab": {
          "base_uri": "https://localhost:8080/"
        },
        "outputId": "8167b48f-fded-4763-a568-a66ccd86e72f"
      },
      "source": [
        "def free_the_scope():\n",
        "    in_function_string = \"Anything you can do I can do better!\"\n",
        "    return in_function_string\n",
        "my_string = free_the_scope()\n",
        "print (my_string)"
      ],
      "execution_count": 126,
      "outputs": [
        {
          "output_type": "stream",
          "text": [
            "Anything you can do I can do better!\n"
          ],
          "name": "stdout"
        }
      ]
    },
    {
      "cell_type": "code",
      "metadata": {
        "colab": {
          "base_uri": "https://localhost:8080/"
        },
        "id": "omuX83SOwPnb",
        "outputId": "cb838f0d-4b0f-47c8-b7ea-f40c54c8c2f7"
      },
      "source": [
        "def ahorasi():\r\n",
        "    sip = \"Yo sí imprimo\"\r\n",
        "    return sip\r\n",
        "my_string = ahorasi()\r\n",
        "print (my_string)"
      ],
      "execution_count": 127,
      "outputs": [
        {
          "output_type": "stream",
          "text": [
            "Yo sí imprimo\n"
          ],
          "name": "stdout"
        }
      ]
    },
    {
      "cell_type": "markdown",
      "metadata": {
        "id": "psTYjTXoDscY"
      },
      "source": [
        "Just as we can get values out of a function, we can also put values into a function. We do this by defining our function with parameters."
      ]
    },
    {
      "cell_type": "code",
      "metadata": {
        "id": "3muupP_gDscZ",
        "colab": {
          "base_uri": "https://localhost:8080/"
        },
        "outputId": "1da8cbb3-0ce7-4800-e3f4-44368fdfd56c"
      },
      "source": [
        "def multiply_by_five(x):\n",
        "    \"\"\" Multiplies an input number by 5 \"\"\"\n",
        "    return x * 5\n",
        "\n",
        "n = 4\n",
        "print (n)\n",
        "print (multiply_by_five(n))"
      ],
      "execution_count": 128,
      "outputs": [
        {
          "output_type": "stream",
          "text": [
            "4\n",
            "20\n"
          ],
          "name": "stdout"
        }
      ]
    },
    {
      "cell_type": "code",
      "metadata": {
        "colab": {
          "base_uri": "https://localhost:8080/"
        },
        "id": "403zy5gCwaMu",
        "outputId": "46dcbb73-e3d5-410a-b7c5-d3d17015ae21"
      },
      "source": [
        "def multiply_by_five(x):\r\n",
        "    \"\"\" Multiplies an input number by 5 \"\"\"\r\n",
        "    return x * 5\r\n",
        "\r\n",
        "n = 13\r\n",
        "print (n)\r\n",
        "print (multiply_by_five(n))"
      ],
      "execution_count": 129,
      "outputs": [
        {
          "output_type": "stream",
          "text": [
            "13\n",
            "65\n"
          ],
          "name": "stdout"
        }
      ]
    },
    {
      "cell_type": "markdown",
      "metadata": {
        "id": "MscsX2HgDsca"
      },
      "source": [
        "In this example we only had one parameter for our function, `x`. We can easily add more parameters, separating everything with a comma."
      ]
    },
    {
      "cell_type": "code",
      "metadata": {
        "id": "SpDqo_R8Dsca"
      },
      "source": [
        "def calculate_area(length, width):\n",
        "    \"\"\" Calculates the area of a rectangle \"\"\"\n",
        "    return length * width"
      ],
      "execution_count": 130,
      "outputs": []
    },
    {
      "cell_type": "code",
      "metadata": {
        "id": "z2JrubKRDsca",
        "colab": {
          "base_uri": "https://localhost:8080/"
        },
        "outputId": "156d7ae7-dbca-40cd-d8a8-b37818842b7c"
      },
      "source": [
        "l = 5\n",
        "w = 10\n",
        "print ('Area: ', calculate_area(l, w))\n",
        "print ('Length: ', l)\n",
        "print ('Width: ', w)"
      ],
      "execution_count": 131,
      "outputs": [
        {
          "output_type": "stream",
          "text": [
            "Area:  50\n",
            "Length:  5\n",
            "Width:  10\n"
          ],
          "name": "stdout"
        }
      ]
    },
    {
      "cell_type": "code",
      "metadata": {
        "id": "JivQWUhBDscb"
      },
      "source": [
        "def calculate_volume(length, width, depth):\n",
        "    \"\"\" Calculates the volume of a rectangular prism \"\"\"\n",
        "    return length * width * depth"
      ],
      "execution_count": 132,
      "outputs": []
    },
    {
      "cell_type": "code",
      "metadata": {
        "colab": {
          "base_uri": "https://localhost:8080/"
        },
        "id": "6Ipy1eAcxLuu",
        "outputId": "a7bf1401-a08e-448a-9c05-0a6f813be97e"
      },
      "source": [
        "l = 5\r\n",
        "w = 10\r\n",
        "h = 8\r\n",
        "print ('Volumen: ', calculate_volume(l, w, h))\r\n",
        "print ('Length: ', l)\r\n",
        "print ('Width: ', w)\r\n",
        "print ('High: ', h)"
      ],
      "execution_count": 133,
      "outputs": [
        {
          "output_type": "stream",
          "text": [
            "Volumen:  400\n",
            "Length:  5\n",
            "Width:  10\n",
            "High:  8\n"
          ],
          "name": "stdout"
        }
      ]
    },
    {
      "cell_type": "markdown",
      "metadata": {
        "id": "ylk3f28ODscd"
      },
      "source": [
        "If we want to, we can define a function so that it takes an arbitrary number of parameters. We tell Python that we want this by using an asterisk (`*`)."
      ]
    },
    {
      "cell_type": "code",
      "metadata": {
        "id": "ch3zium-Dsce"
      },
      "source": [
        "def sum_values(*args):\n",
        "    sum_val = 0\n",
        "    for i in args:\n",
        "        sum_val += i\n",
        "    return sum_val"
      ],
      "execution_count": 134,
      "outputs": []
    },
    {
      "cell_type": "code",
      "metadata": {
        "id": "qlAs6EEIDsce",
        "colab": {
          "base_uri": "https://localhost:8080/"
        },
        "outputId": "7b6ad15d-08ed-430f-e337-3ab99d331f43"
      },
      "source": [
        "print (sum_values(1, 2, 3))\n",
        "print (sum_values(10, 20, 30, 40, 50))\n",
        "print (sum_values(4, 2, 5, 1, 10, 249, 25, 24, 13, 6, 4))"
      ],
      "execution_count": 135,
      "outputs": [
        {
          "output_type": "stream",
          "text": [
            "6\n",
            "150\n",
            "343\n"
          ],
          "name": "stdout"
        }
      ]
    },
    {
      "cell_type": "code",
      "metadata": {
        "id": "qqIGcxKiy8mk"
      },
      "source": [
        "def multp_values(*args):\r\n",
        "    multp_val = 1\r\n",
        "    for i in args:\r\n",
        "        multp_val *= i\r\n",
        "    return multp_val"
      ],
      "execution_count": 138,
      "outputs": []
    },
    {
      "cell_type": "code",
      "metadata": {
        "colab": {
          "base_uri": "https://localhost:8080/"
        },
        "id": "gnMMVw-8zE5H",
        "outputId": "edc5853f-6751-40aa-eb70-8b0d42508f5c"
      },
      "source": [
        "print (multp_values(1, 2, 3))\r\n",
        "print (multp_values(10, 20, 30, 40, 50))\r\n",
        "print (multp_values(4, 2, 5, 1, 10, 249, 25, 24, 13, 6, 4))"
      ],
      "execution_count": 139,
      "outputs": [
        {
          "output_type": "stream",
          "text": [
            "6\n",
            "12000000\n",
            "18645120000\n"
          ],
          "name": "stdout"
        }
      ]
    },
    {
      "cell_type": "markdown",
      "metadata": {
        "id": "wuAUBlyeDscf"
      },
      "source": [
        "The time to use `*args` as a parameter for your function is when you do not know how many values may be passed to it, as in the case of our sum function. The asterisk in this case is the syntax that tells Python that you are going to pass an arbitrary number of parameters into your function. These parameters are stored in the form of a tuple."
      ]
    },
    {
      "cell_type": "code",
      "metadata": {
        "id": "6crXN7suDscg",
        "colab": {
          "base_uri": "https://localhost:8080/"
        },
        "outputId": "3d9919ac-8223-4e33-9ac3-026ed503f868"
      },
      "source": [
        "def test_args(*args):\n",
        "    print (type(args))\n",
        "\n",
        "test_args(1, 2, 3, 4, 5, 6)"
      ],
      "execution_count": 141,
      "outputs": [
        {
          "output_type": "stream",
          "text": [
            "<class 'tuple'>\n"
          ],
          "name": "stdout"
        }
      ]
    },
    {
      "cell_type": "code",
      "metadata": {
        "colab": {
          "base_uri": "https://localhost:8080/"
        },
        "id": "KWxfuB-tzQMv",
        "outputId": "2ea92d85-12cb-4e11-c7c9-15a12221dc20"
      },
      "source": [
        "def test_args(*args):\r\n",
        "    print (type(args))\r\n",
        "\r\n",
        "test_args('a', 'b', 'c')"
      ],
      "execution_count": 142,
      "outputs": [
        {
          "output_type": "stream",
          "text": [
            "<class 'tuple'>\n"
          ],
          "name": "stdout"
        }
      ]
    },
    {
      "cell_type": "markdown",
      "metadata": {
        "id": "z3i4o4UsDsch"
      },
      "source": [
        "We can put as many elements into the `args` tuple as we want to when we call the function. However, because `args` is a tuple, we cannot modify it after it has been created.\n",
        "\n",
        "The `args` name of the variable is purely by convention. You could just as easily name your parameter `*vars` or `*things`. You can treat the `args` tuple like you would any other tuple, easily accessing `arg`'s values and iterating over it, as in the above `sum_values(*args)` function."
      ]
    },
    {
      "cell_type": "markdown",
      "metadata": {
        "id": "Vs-oSIgvDsch"
      },
      "source": [
        "Our functions can return any data type. This makes it easy for us to create functions that check for conditions that we might want to monitor.\n",
        "\n",
        "Here we define a function that returns a boolean value. We can easily use this in conjunction with if-statements and  other situations that require a boolean."
      ]
    },
    {
      "cell_type": "code",
      "metadata": {
        "id": "5FjjZpaMDsch"
      },
      "source": [
        "def has_a_vowel(word):\n",
        "    \"\"\" \n",
        "    Checks to see whether a word contains a vowel \n",
        "    If it doesn't contain a conventional vowel, it\n",
        "    will check for the presence of 'y' or 'w'. Does\n",
        "    not check to see whether those are in the word\n",
        "    in a vowel context.\n",
        "    \"\"\"\n",
        "    vowel_list = ['a', 'e', 'i', 'o', 'u']\n",
        "    \n",
        "    for vowel in vowel_list:\n",
        "        if vowel in word:\n",
        "            return True\n",
        "    # If there is a vowel in the word, the function returns, preventing anything after this loop from running\n",
        "    return False"
      ],
      "execution_count": 143,
      "outputs": []
    },
    {
      "cell_type": "code",
      "metadata": {
        "id": "fzu-7J8KDsci",
        "colab": {
          "base_uri": "https://localhost:8080/"
        },
        "outputId": "0b8721f2-da28-4199-940b-ca613aeea236"
      },
      "source": [
        "my_word = 'catnapping'\n",
        "if has_a_vowel(my_word):\n",
        "    print ('How surprising, an english word contains a vowel.')\n",
        "else:\n",
        "    print ('This is actually surprising.')"
      ],
      "execution_count": 145,
      "outputs": [
        {
          "output_type": "stream",
          "text": [
            "How surprising, an english word contains a vowel.\n"
          ],
          "name": "stdout"
        }
      ]
    },
    {
      "cell_type": "code",
      "metadata": {
        "colab": {
          "base_uri": "https://localhost:8080/"
        },
        "id": "sw0QeBC00ET0",
        "outputId": "bb5acd76-20b1-4eab-a338-10d55ece1112"
      },
      "source": [
        "any = 'example'\r\n",
        "if has_a_vowel(any):\r\n",
        "    print ('How surprising, an english word contains a vowel.')\r\n",
        "else:\r\n",
        "    print ('This is actually surprising.')"
      ],
      "execution_count": 146,
      "outputs": [
        {
          "output_type": "stream",
          "text": [
            "How surprising, an english word contains a vowel.\n"
          ],
          "name": "stdout"
        }
      ]
    },
    {
      "cell_type": "code",
      "metadata": {
        "id": "I_7EU6HoDsci"
      },
      "source": [
        "def point_maker(x, y):\n",
        "    \"\"\" Groups x and y values into a point, technically a tuple \"\"\"\n",
        "    return x, y"
      ],
      "execution_count": 147,
      "outputs": []
    },
    {
      "cell_type": "markdown",
      "metadata": {
        "id": "2GBZ6NFrDscj"
      },
      "source": [
        "This above function returns an ordered pair of the input parameters, stored as a tuple."
      ]
    },
    {
      "cell_type": "code",
      "metadata": {
        "scrolled": true,
        "id": "5RBxzvXtDsck",
        "colab": {
          "base_uri": "https://localhost:8080/"
        },
        "outputId": "16ab9717-a90f-43be-e458-1e63c8a2c1d4"
      },
      "source": [
        "a = point_maker(0, 10)\n",
        "b = point_maker(5, 3)\n",
        "def calculate_slope(point_a, point_b):\n",
        "    \"\"\" Calculates the linear slope between two points \"\"\"\n",
        "    return (point_b[1] - point_a[1])/(point_b[0] - point_a[0])\n",
        "print (\"The slope between a and b is {0}\".format(calculate_slope(a, b)))"
      ],
      "execution_count": 153,
      "outputs": [
        {
          "output_type": "stream",
          "text": [
            "The slope between a and b is -1.4\n"
          ],
          "name": "stdout"
        }
      ]
    },
    {
      "cell_type": "code",
      "metadata": {
        "colab": {
          "base_uri": "https://localhost:8080/"
        },
        "id": "PBfwYXnN07XX",
        "outputId": "e181098e-7e77-4a2b-e5b3-6e9175d8460d"
      },
      "source": [
        "a = point_maker(5, 4)\r\n",
        "b = point_maker(1, 8)\r\n",
        "def calculate_slope(point_a, point_b):\r\n",
        "    \"\"\" Calculates the linear slope between two points \"\"\"\r\n",
        "    return (point_b[1] - point_a[1])/(point_b[0] - point_a[0])\r\n",
        "print (\"The slope between a and b is {0}\".format(calculate_slope(a, b)))"
      ],
      "execution_count": 155,
      "outputs": [
        {
          "output_type": "stream",
          "text": [
            "The slope between a and b is -1.0\n"
          ],
          "name": "stdout"
        }
      ]
    },
    {
      "cell_type": "markdown",
      "metadata": {
        "id": "cGgoonk-Dsck"
      },
      "source": [
        "And that one calculates the slope between two points!"
      ]
    },
    {
      "cell_type": "code",
      "metadata": {
        "id": "Or0c7m5CDsck",
        "colab": {
          "base_uri": "https://localhost:8080/"
        },
        "outputId": "46300f6a-3291-4702-c03a-d7e1df74504d"
      },
      "source": [
        "print (\"The slope-intercept form of the line between a and b, using point a, is: y - {0} = {2}(x - {1})\".format(a[1], a[0], calculate_slope(a, b)))"
      ],
      "execution_count": 154,
      "outputs": [
        {
          "output_type": "stream",
          "text": [
            "The slope-intercept form of the line between a and b, using point a, is: y - 10 = -1.4(x - 0)\n"
          ],
          "name": "stdout"
        }
      ]
    },
    {
      "cell_type": "code",
      "metadata": {
        "colab": {
          "base_uri": "https://localhost:8080/"
        },
        "id": "q013a9N81Y3V",
        "outputId": "81508545-69ee-4880-d441-c16d260417b0"
      },
      "source": [
        "print (\"The slope-intercept form of the line between a and b, using point a, is: y - {0} = {2}(x - {1})\".format(a[1], a[0], calculate_slope(a, b)))"
      ],
      "execution_count": 156,
      "outputs": [
        {
          "output_type": "stream",
          "text": [
            "The slope-intercept form of the line between a and b, using point a, is: y - 4 = -1.0(x - 5)\n"
          ],
          "name": "stdout"
        }
      ]
    },
    {
      "cell_type": "markdown",
      "metadata": {
        "id": "7sT53TgGDscl"
      },
      "source": [
        "With the proper syntax, you can define functions to do whatever calculations you want. This makes them an indispensible part of programming in any language."
      ]
    },
    {
      "cell_type": "markdown",
      "metadata": {
        "id": "05EFVSWKDscl"
      },
      "source": [
        "## Next Steps\n",
        "\n",
        "This was a lot of material and there is still even more to cover! Make sure you play around with the cells in each notebook to accustom yourself to the syntax featured here and to figure out any limitations. If you want to delve even deeper into the material, the [documentation for Python](https://docs.python.org/2/) is all available online. We are in the process of developing a second part to this Python tutorial, designed to provide you with even more programming knowledge, so keep an eye on the [Quantopian Lectures Page](quantopian.com/lectures) and the [forums](quantopian.com/posts) for any new lectures."
      ]
    },
    {
      "cell_type": "markdown",
      "metadata": {
        "id": "6qB0UhjCDscn"
      },
      "source": [
        "*This presentation is for informational purposes only and does not constitute an offer to sell, a solicitation to buy, or a recommendation for any security; nor does it constitute an offer to provide investment advisory or other services by Quantopian, Inc. (\"Quantopian\"). Nothing contained herein constitutes investment advice or offers any opinion with respect to the suitability of any security, and any views expressed herein should not be taken as advice to buy, sell, or hold any security or as an endorsement of any security or company.  In preparing the information contained herein, Quantopian, Inc. has not taken into account the investment needs, objectives, and financial circumstances of any particular investor. Any views expressed and data illustrated herein were prepared based upon information, believed to be reliable, available to Quantopian, Inc. at the time of publication. Quantopian makes no guarantees as to their accuracy or completeness. All information is subject to change and may quickly become unreliable for various reasons, including changes in market conditions or economic circumstances.*"
      ]
    }
  ]
}
