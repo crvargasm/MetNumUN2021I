{
  "nbformat": 4,
  "nbformat_minor": 0,
  "metadata": {
    "kernelspec": {
      "name": "python3",
      "display_name": "Python 3"
    },
    "colab": {
      "name": "Lecture 1: Introduction to Research.ipynb",
      "provenance": [],
      "collapsed_sections": []
    }
  },
  "cells": [
    {
      "cell_type": "markdown",
      "metadata": {
        "id": "Ev4-gWSpDYGT"
      },
      "source": [
        "#Introduction to the Research Environment\n",
        "\n",
        "The research environment is powered by IPython notebooks, which allow one to perform a great deal of data analysis and statistical validation. We'll demonstrate a few simple techniques here."
      ]
    },
    {
      "cell_type": "markdown",
      "metadata": {
        "id": "5sAWSBWQDYGa"
      },
      "source": [
        "##Code Cells vs. Text Cells\n",
        "\n",
        "As you can see, each cell can be either code or text. To select between them, choose from the 'Cell Type' dropdown menu on the top left."
      ]
    },
    {
      "cell_type": "markdown",
      "metadata": {
        "id": "DhJXM9r5uXY1"
      },
      "source": [
        "###This is a test\r\n",
        "Oh, so amazing\r\n",
        "\r\n",
        "Incluso se puede usar ${{LaTeX}}:$\r\n",
        "$$x=\\frac{-b \\pm \\sqrt{b^2 -4(a)(c)}}{2(a)}$$\r\n",
        "$$\\text{Incluso podemos escribir}$$"
      ]
    },
    {
      "cell_type": "markdown",
      "metadata": {
        "id": "yADtc-2nDYGb"
      },
      "source": [
        "##Executing a Command\n",
        "\n",
        "A code cell will be evaluated when you press play, or when you press the shortcut, shift-enter. Evaluating a cell evaluates each line of code in sequence, and prints the results of the last line below the cell."
      ]
    },
    {
      "cell_type": "code",
      "metadata": {
        "id": "HwiDo_XODYGb",
        "colab": {
          "base_uri": "https://localhost:8080/"
        },
        "outputId": "da024905-2156-4408-b442-04e65af7343a"
      },
      "source": [
        "2 + 2"
      ],
      "execution_count": 1,
      "outputs": [
        {
          "output_type": "execute_result",
          "data": {
            "text/plain": [
              "4"
            ]
          },
          "metadata": {
            "tags": []
          },
          "execution_count": 1
        }
      ]
    },
    {
      "cell_type": "code",
      "metadata": {
        "colab": {
          "base_uri": "https://localhost:8080/"
        },
        "id": "QsxfEbJe50Xs",
        "outputId": "e398faf6-93ef-4480-8643-cd384af89ca6"
      },
      "source": [
        "6 + 6"
      ],
      "execution_count": 2,
      "outputs": [
        {
          "output_type": "execute_result",
          "data": {
            "text/plain": [
              "12"
            ]
          },
          "metadata": {
            "tags": []
          },
          "execution_count": 2
        }
      ]
    },
    {
      "cell_type": "markdown",
      "metadata": {
        "id": "PMKFsK83DYGc"
      },
      "source": [
        "Sometimes there is no result to be printed, as is the case with assignment."
      ]
    },
    {
      "cell_type": "code",
      "metadata": {
        "collapsed": true,
        "id": "hoI3hmeXDYGc"
      },
      "source": [
        "X = 2"
      ],
      "execution_count": 3,
      "outputs": []
    },
    {
      "cell_type": "code",
      "metadata": {
        "id": "58oGxh3v6I5E"
      },
      "source": [
        "W = 10"
      ],
      "execution_count": 4,
      "outputs": []
    },
    {
      "cell_type": "markdown",
      "metadata": {
        "id": "T_lv7eIaDYGc"
      },
      "source": [
        "Remember that only the result from the last line is printed."
      ]
    },
    {
      "cell_type": "code",
      "metadata": {
        "id": "Tm3roaRODYGd",
        "colab": {
          "base_uri": "https://localhost:8080/"
        },
        "outputId": "81edab04-2b92-405a-8a4f-127b0943b3e0"
      },
      "source": [
        "2 + 2\n",
        "3 + 3"
      ],
      "execution_count": 5,
      "outputs": [
        {
          "output_type": "execute_result",
          "data": {
            "text/plain": [
              "6"
            ]
          },
          "metadata": {
            "tags": []
          },
          "execution_count": 5
        }
      ]
    },
    {
      "cell_type": "code",
      "metadata": {
        "colab": {
          "base_uri": "https://localhost:8080/"
        },
        "id": "nQvV4leM6NiJ",
        "outputId": "d0f7de13-6ee9-434f-da17-cad81fb62ed1"
      },
      "source": [
        "6 + 6\r\n",
        "7 + 7"
      ],
      "execution_count": 6,
      "outputs": [
        {
          "output_type": "execute_result",
          "data": {
            "text/plain": [
              "14"
            ]
          },
          "metadata": {
            "tags": []
          },
          "execution_count": 6
        }
      ]
    },
    {
      "cell_type": "markdown",
      "metadata": {
        "id": "kOfy33TuDYGd"
      },
      "source": [
        "However, you can print whichever lines you want using the `print` statement."
      ]
    },
    {
      "cell_type": "code",
      "metadata": {
        "id": "sQlgILnBDYGd",
        "colab": {
          "base_uri": "https://localhost:8080/"
        },
        "outputId": "ff625b83-3837-4c33-c2e4-0e845ef7e281"
      },
      "source": [
        "print (2 + 2)\n",
        "3 + 3"
      ],
      "execution_count": 7,
      "outputs": [
        {
          "output_type": "stream",
          "text": [
            "4\n"
          ],
          "name": "stdout"
        },
        {
          "output_type": "execute_result",
          "data": {
            "text/plain": [
              "6"
            ]
          },
          "metadata": {
            "tags": []
          },
          "execution_count": 7
        }
      ]
    },
    {
      "cell_type": "code",
      "metadata": {
        "colab": {
          "base_uri": "https://localhost:8080/"
        },
        "id": "T-VW39L96TMb",
        "outputId": "81b467e4-cfed-4ced-bb3a-54fbd423e5d8"
      },
      "source": [
        "print (4 + 4)\r\n",
        "5 + 5"
      ],
      "execution_count": 8,
      "outputs": [
        {
          "output_type": "stream",
          "text": [
            "8\n"
          ],
          "name": "stdout"
        },
        {
          "output_type": "execute_result",
          "data": {
            "text/plain": [
              "10"
            ]
          },
          "metadata": {
            "tags": []
          },
          "execution_count": 8
        }
      ]
    },
    {
      "cell_type": "markdown",
      "metadata": {
        "id": "_EV9nZZ6DYGe"
      },
      "source": [
        "##Knowing When a Cell is Running\n",
        "\n",
        "While a cell is running, a `[*]` will display on the left. When a cell has yet to be executed, `[ ]` will display. When it has been run, a number will display indicating the order in which it was run during the execution of the notebook `[5]`. Try on this cell and note it happening."
      ]
    },
    {
      "cell_type": "code",
      "metadata": {
        "id": "51c9kfqCDYGe",
        "colab": {
          "base_uri": "https://localhost:8080/"
        },
        "outputId": "fad13f1e-bc26-4da4-ee32-f31807ec89a4"
      },
      "source": [
        "#Take some time to run something\n",
        "c = 0\n",
        "for i in range(10000000):\n",
        "    c = c + i\n",
        "c"
      ],
      "execution_count": 9,
      "outputs": [
        {
          "output_type": "execute_result",
          "data": {
            "text/plain": [
              "49999995000000"
            ]
          },
          "metadata": {
            "tags": []
          },
          "execution_count": 9
        }
      ]
    },
    {
      "cell_type": "code",
      "metadata": {
        "colab": {
          "base_uri": "https://localhost:8080/"
        },
        "id": "CKzGlAGK6f_E",
        "outputId": "86cb09a8-1531-4fcb-f12c-3cb1edbb233f"
      },
      "source": [
        "c = 1\r\n",
        "for i in range(10):\r\n",
        "    c = c * (i+1)\r\n",
        "c"
      ],
      "execution_count": 10,
      "outputs": [
        {
          "output_type": "execute_result",
          "data": {
            "text/plain": [
              "3628800"
            ]
          },
          "metadata": {
            "tags": []
          },
          "execution_count": 10
        }
      ]
    },
    {
      "cell_type": "markdown",
      "metadata": {
        "id": "IAVES7ZMDYGe"
      },
      "source": [
        "##Importing Libraries\n",
        "\n",
        "The vast majority of the time, you'll want to use functions from pre-built libraries. You can't import every library on Quantopian due to security issues, but you can import most of the common scientific ones. Here I import numpy and pandas, the two most common and useful libraries in quant finance. I recommend copying this import statement to every new notebook.\n",
        "\n",
        "Notice that you can rename libraries to whatever you want after importing. The `as` statement allows this. Here we use `np` and `pd` as aliases for `numpy` and `pandas`. This is a very common aliasing and will be found in most code snippets around the web. The point behind this is to allow you to type fewer characters when you are frequently accessing these libraries."
      ]
    },
    {
      "cell_type": "code",
      "metadata": {
        "collapsed": true,
        "id": "r4Sn1sKODYGe"
      },
      "source": [
        "import numpy as np\n",
        "import pandas as pd\n",
        "\n",
        "# This is a plotting library for pretty pictures.\n",
        "import matplotlib.pyplot as plt"
      ],
      "execution_count": 11,
      "outputs": []
    },
    {
      "cell_type": "code",
      "metadata": {
        "id": "ENme_KIP68S_"
      },
      "source": [
        "import cython as cy\r\n",
        "import pandas_datareader as pdr\r\n",
        "import datetime\r\n",
        "\r\n",
        "import xarray as xa"
      ],
      "execution_count": 12,
      "outputs": []
    },
    {
      "cell_type": "markdown",
      "metadata": {
        "id": "HcMbczlPDYGf"
      },
      "source": [
        "##Tab Autocomplete\n",
        "\n",
        "Pressing tab will give you a list of IPython's best guesses for what you might want to type next. This is incredibly valuable and will save you a lot of time. If there is only one possible option for what you could type next, IPython will fill that in for you. Try pressing tab very frequently, it will seldom fill in anything you don't want, as if there is ambiguity a list will be shown. This is a great way to see what functions are available in a library.\n",
        "\n",
        "Try placing your cursor after the `.` and pressing tab."
      ]
    },
    {
      "cell_type": "code",
      "metadata": {
        "id": "vP35rkUxDYGf",
        "colab": {
          "base_uri": "https://localhost:8080/"
        },
        "outputId": "99f90cf2-80b8-4a77-d034-9f193c4fb9a9"
      },
      "source": [
        "np.random.normal                              "
      ],
      "execution_count": 13,
      "outputs": [
        {
          "output_type": "execute_result",
          "data": {
            "text/plain": [
              "<function RandomState.normal>"
            ]
          },
          "metadata": {
            "tags": []
          },
          "execution_count": 13
        }
      ]
    },
    {
      "cell_type": "code",
      "metadata": {
        "colab": {
          "base_uri": "https://localhost:8080/"
        },
        "id": "14ID87x075hj",
        "outputId": "d41a05aa-408e-46d3-fcbf-71bee7d91a98"
      },
      "source": [
        "np.random.binomial"
      ],
      "execution_count": 15,
      "outputs": [
        {
          "output_type": "execute_result",
          "data": {
            "text/plain": [
              "<function RandomState.binomial>"
            ]
          },
          "metadata": {
            "tags": []
          },
          "execution_count": 15
        }
      ]
    },
    {
      "cell_type": "markdown",
      "metadata": {
        "id": "y9So0QntDYGf"
      },
      "source": [
        "##Getting Documentation Help\n",
        "\n",
        "Placing a question mark after a function and executing that line of code will give you the documentation IPython has for that function. It's often best to do this in a new cell, as you avoid re-executing other code and running into bugs."
      ]
    },
    {
      "cell_type": "code",
      "metadata": {
        "collapsed": true,
        "id": "rSVkY4MVDYGf"
      },
      "source": [
        "np.random.normal?"
      ],
      "execution_count": 16,
      "outputs": []
    },
    {
      "cell_type": "code",
      "metadata": {
        "id": "s-44zNGD8biJ"
      },
      "source": [
        "np.test?"
      ],
      "execution_count": 17,
      "outputs": []
    },
    {
      "cell_type": "markdown",
      "metadata": {
        "id": "38HybuXFDYGg"
      },
      "source": [
        "##Sampling\n",
        "\n",
        "We'll sample some random data using a function from `numpy`."
      ]
    },
    {
      "cell_type": "code",
      "metadata": {
        "id": "ASywqNduDYGg",
        "colab": {
          "base_uri": "https://localhost:8080/"
        },
        "outputId": "cf41c12a-b830-4e9d-d119-41f908f9e766"
      },
      "source": [
        "# Sample 100 points with a mean of 0 and an std of 1. This is a standard normal distribution.\n",
        "X = np.random.normal(0, 1, 100)\n",
        "print(X)"
      ],
      "execution_count": 18,
      "outputs": [
        {
          "output_type": "stream",
          "text": [
            "[ 1.33333797e-01 -1.19845820e+00 -5.31631881e-01  1.51438133e+00\n",
            " -3.00894118e-01  5.84090076e-01  1.48353538e-01  2.61105042e+00\n",
            "  4.94789391e-01 -7.62425174e-01 -5.96282324e-01  1.04560276e+00\n",
            " -2.96136243e-01 -1.04534993e+00 -4.57417445e-01  5.48735421e-01\n",
            " -1.63911700e+00  1.46149835e+00  1.53159855e+00 -1.78678816e-01\n",
            " -2.17217055e+00  9.20558096e-01  4.61187556e-01  2.02840890e-01\n",
            "  1.59240741e+00 -1.02979302e+00 -1.40578496e+00  3.66345173e-01\n",
            "  3.02499135e-01 -7.95855176e-01 -5.97303331e-03 -9.50036574e-01\n",
            " -6.55130376e-01  1.18962256e-01  1.35661874e+00 -1.74870862e+00\n",
            "  1.50627240e+00  1.77060758e-03  4.27289598e-01  1.79560265e+00\n",
            " -8.91127958e-01 -1.77928386e+00 -1.66588741e+00 -8.93963737e-01\n",
            "  1.06811187e+00  2.03375531e+00 -4.90987566e-01  1.81750004e-01\n",
            " -1.40729118e+00  4.89688758e-01  4.46563579e-01  3.59325689e-01\n",
            " -8.97762814e-01 -2.04190517e+00  8.32537410e-01  5.36486170e-01\n",
            "  4.45258647e-02  1.21034538e+00 -7.06366172e-01 -1.83979353e+00\n",
            " -1.36792573e+00 -1.23350388e+00 -1.67230350e-01 -2.38098935e+00\n",
            " -1.37111144e+00  1.58764264e+00  2.10710677e-01  1.04085043e+00\n",
            " -8.04840642e-01 -1.10012655e+00  4.25685755e-01  3.92136435e-01\n",
            " -7.26983422e-01 -1.13883388e+00 -2.24492205e+00  5.41081084e-02\n",
            "  2.26412905e-01 -9.85999165e-01  1.00534971e-01  2.05983520e+00\n",
            " -1.55180048e-01 -1.13302751e+00  1.28053462e+00  1.47828638e+00\n",
            " -2.27211068e-01  3.53311919e-01  4.40705783e-01  2.30809705e+00\n",
            " -1.59169693e-01 -6.36378648e-01  9.83194246e-01 -5.44847663e-01\n",
            "  2.57722658e-01 -2.62555910e+00  7.24949010e-01 -1.53128607e-01\n",
            " -8.44145363e-01  1.85652520e-01 -1.92323405e+00 -1.06202165e+00]\n"
          ],
          "name": "stdout"
        }
      ]
    },
    {
      "cell_type": "code",
      "metadata": {
        "colab": {
          "base_uri": "https://localhost:8080/"
        },
        "id": "TnLpt91w8hzt",
        "outputId": "073921c0-8f26-44c6-88b3-150e90c02503"
      },
      "source": [
        "W = np.random.lognormal(0,1,100)\r\n",
        "print(W)"
      ],
      "execution_count": 19,
      "outputs": [
        {
          "output_type": "stream",
          "text": [
            "[ 0.70979893  0.55469766  2.91417851  0.66848996  0.40893314  0.71667271\n",
            " 12.1521411   0.57140386  0.71406844  0.41033167  5.74758427  0.21459655\n",
            "  1.23436635  0.86430036  0.55094359  0.62821802  1.05735867  1.22938236\n",
            "  0.25978262  0.31778232  1.05416502  0.06377617  1.04146083  2.25078844\n",
            "  4.25660615  3.12769001  1.23029643  0.81750613  1.39944232  1.66525892\n",
            "  1.40931605  0.73918134  3.68986084  3.37496663  0.50075401  0.91808259\n",
            "  1.04213062  0.59117045  0.55703281  0.08060356  1.6429251   0.29399515\n",
            "  2.46217598  0.34301399  0.65711022  0.7782767   3.25354523  1.41735538\n",
            "  1.38530251  0.51640037  0.66131761  1.2975024   2.86202607  0.49724817\n",
            "  0.97907875  1.73350516  0.56260989  1.28722266  4.20935383  3.13482762\n",
            "  0.93764837  0.95141163  4.57956434  0.93020868  0.14746197  2.12226569\n",
            "  0.32111301  0.66386897  0.26540208  0.49450312  1.80782984  2.29327413\n",
            "  1.62502591  0.85471284  0.82583693  0.99511292  1.54233442  0.19137111\n",
            "  2.34798178  1.60106035  1.39783754  3.30882516  1.55657934  1.12419599\n",
            "  1.30094629  0.20036997  0.16365757  0.14624653  0.34125579  0.26272789\n",
            "  0.19258821  0.51012751  1.71993136  1.28942225  1.08951373  0.34408303\n",
            "  1.08697926  1.63253743  2.59927298  0.82355338]\n"
          ],
          "name": "stdout"
        }
      ]
    },
    {
      "cell_type": "markdown",
      "metadata": {
        "id": "E3Ll0BVIDYGg"
      },
      "source": [
        "##Plotting\n",
        "\n",
        "We can use the plotting library we imported as follows."
      ]
    },
    {
      "cell_type": "code",
      "metadata": {
        "id": "_-FR7oeADYGg",
        "colab": {
          "base_uri": "https://localhost:8080/",
          "height": 282
        },
        "outputId": "cd50836b-19db-4c23-f6cb-42a084e4da43"
      },
      "source": [
        "plt.plot(X)"
      ],
      "execution_count": 20,
      "outputs": [
        {
          "output_type": "execute_result",
          "data": {
            "text/plain": [
              "[<matplotlib.lines.Line2D at 0x7f68c58d7f10>]"
            ]
          },
          "metadata": {
            "tags": []
          },
          "execution_count": 20
        },
        {
          "output_type": "display_data",
          "data": {
            "image/png": "[encoded data removed]",
            "text/plain": [
              "<Figure size 432x288 with 1 Axes>"
            ]
          },
          "metadata": {
            "tags": [],
            "needs_background": "light"
          }
        }
      ]
    },
    {
      "cell_type": "code",
      "metadata": {
        "colab": {
          "base_uri": "https://localhost:8080/",
          "height": 282
        },
        "id": "7CJeZ7YZ9QQ4",
        "outputId": "7cb3ce03-b137-405d-eb83-8782b6d028ba"
      },
      "source": [
        "plt.plot(W)"
      ],
      "execution_count": 21,
      "outputs": [
        {
          "output_type": "execute_result",
          "data": {
            "text/plain": [
              "[<matplotlib.lines.Line2D at 0x7f68c539fa90>]"
            ]
          },
          "metadata": {
            "tags": []
          },
          "execution_count": 21
        },
        {
          "output_type": "display_data",
          "data": {
            "image/png": "[encoded data removed]",
            "text/plain": [
              "<Figure size 432x288 with 1 Axes>"
            ]
          },
          "metadata": {
            "tags": [],
            "needs_background": "light"
          }
        }
      ]
    },
    {
      "cell_type": "markdown",
      "metadata": {
        "id": "0NiDEIVzDYGg"
      },
      "source": [
        "###Squelching Line Output\n",
        "\n",
        "You might have noticed the annoying line of the form `[<matplotlib.lines.Line2D at 0x7f72fdbc1710>]` before the plots. This is because the `.plot` function actually produces output. Sometimes we wish not to display output, we can accomplish this with the semi-colon as follows."
      ]
    },
    {
      "cell_type": "code",
      "metadata": {
        "id": "KyFUyP0vDYGh",
        "colab": {
          "base_uri": "https://localhost:8080/",
          "height": 265
        },
        "outputId": "16c852eb-a991-4db9-ca51-919d21988d39"
      },
      "source": [
        "plt.plot(X);"
      ],
      "execution_count": 22,
      "outputs": [
        {
          "output_type": "display_data",
          "data": {
            "image/png": "[encoded data removed]",
            "text/plain": [
              "<Figure size 432x288 with 1 Axes>"
            ]
          },
          "metadata": {
            "tags": [],
            "needs_background": "light"
          }
        }
      ]
    },
    {
      "cell_type": "code",
      "metadata": {
        "colab": {
          "base_uri": "https://localhost:8080/",
          "height": 265
        },
        "id": "MzY-i5JG9V5Y",
        "outputId": "73c1f885-3763-4ea4-9c75-76b286f829de"
      },
      "source": [
        "plt.plot(W);"
      ],
      "execution_count": 23,
      "outputs": [
        {
          "output_type": "display_data",
          "data": {
            "image/png": "[encoded data removed]",
            "text/plain": [
              "<Figure size 432x288 with 1 Axes>"
            ]
          },
          "metadata": {
            "tags": [],
            "needs_background": "light"
          }
        }
      ]
    },
    {
      "cell_type": "markdown",
      "metadata": {
        "id": "2BsE8jZzDYGh"
      },
      "source": [
        "###Adding Axis Labels\n",
        "\n",
        "No self-respecting quant leaves a graph without labeled axes. Here are some commands to help with that."
      ]
    },
    {
      "cell_type": "code",
      "metadata": {
        "id": "5wvYJzRRDYGh",
        "colab": {
          "base_uri": "https://localhost:8080/",
          "height": 279
        },
        "outputId": "9ba86bce-245d-4950-98f8-080508433fb5"
      },
      "source": [
        "X = np.random.normal(0, 1, 100)\n",
        "X2 = np.random.normal(0, 1, 100)\n",
        "\n",
        "plt.plot(X);\n",
        "plt.plot(X2);\n",
        "plt.xlabel('Time') # The data we generated is unitless, but don't forget units in general.\n",
        "plt.ylabel('Returns')\n",
        "plt.legend(['X', 'X2']);"
      ],
      "execution_count": 24,
      "outputs": [
        {
          "output_type": "display_data",
          "data": {
            "image/png": "[encoded data removed]",
            "text/plain": [
              "<Figure size 432x288 with 1 Axes>"
            ]
          },
          "metadata": {
            "tags": [],
            "needs_background": "light"
          }
        }
      ]
    },
    {
      "cell_type": "code",
      "metadata": {
        "colab": {
          "base_uri": "https://localhost:8080/",
          "height": 279
        },
        "id": "ndLuA__c9ep_",
        "outputId": "7e17321b-e922-4420-f04b-82f69f1de73b"
      },
      "source": [
        "W = np.random.lognormal(0, 1, 100)\r\n",
        "W2 = np.random.lognormal(0, 1, 100)\r\n",
        "\r\n",
        "plt.plot(W);\r\n",
        "plt.plot(W2);\r\n",
        "plt.xlabel('Time') # The data we generated is unitless, but don't forget units in general.\r\n",
        "plt.ylabel('Returns')\r\n",
        "plt.legend(['W', 'W2']);"
      ],
      "execution_count": 25,
      "outputs": [
        {
          "output_type": "display_data",
          "data": {
            "image/png": "[encoded data removed]",
            "text/plain": [
              "<Figure size 432x288 with 1 Axes>"
            ]
          },
          "metadata": {
            "tags": [],
            "needs_background": "light"
          }
        }
      ]
    },
    {
      "cell_type": "markdown",
      "metadata": {
        "id": "7iohiYvMDYGh"
      },
      "source": [
        "##Generating Statistics\n",
        "\n",
        "Let's use `numpy` to take some simple statistics."
      ]
    },
    {
      "cell_type": "code",
      "metadata": {
        "id": "o2IUy3gZDYGh",
        "colab": {
          "base_uri": "https://localhost:8080/"
        },
        "outputId": "bef31311-c0f6-40c6-bf1d-926d088255df"
      },
      "source": [
        "np.mean(X)"
      ],
      "execution_count": null,
      "outputs": [
        {
          "output_type": "execute_result",
          "data": {
            "text/plain": [
              "-0.0856461852816495"
            ]
          },
          "metadata": {
            "tags": []
          },
          "execution_count": 49
        }
      ]
    },
    {
      "cell_type": "code",
      "metadata": {
        "id": "hXhJLPocDYGh",
        "colab": {
          "base_uri": "https://localhost:8080/"
        },
        "outputId": "318ca642-5a85-45d6-f0f9-56fb7ccc742b"
      },
      "source": [
        "np.std(X)"
      ],
      "execution_count": null,
      "outputs": [
        {
          "output_type": "execute_result",
          "data": {
            "text/plain": [
              "0.9107636234697702"
            ]
          },
          "metadata": {
            "tags": []
          },
          "execution_count": 50
        }
      ]
    },
    {
      "cell_type": "code",
      "metadata": {
        "colab": {
          "base_uri": "https://localhost:8080/"
        },
        "id": "gjeBNKV69t_o",
        "outputId": "1c37a79b-55a0-49f4-d9dc-4cd274813c5f"
      },
      "source": [
        "np.mean(W)"
      ],
      "execution_count": null,
      "outputs": [
        {
          "output_type": "execute_result",
          "data": {
            "text/plain": [
              "1.2946989616908575"
            ]
          },
          "metadata": {
            "tags": []
          },
          "execution_count": 51
        }
      ]
    },
    {
      "cell_type": "code",
      "metadata": {
        "colab": {
          "base_uri": "https://localhost:8080/"
        },
        "id": "G4ODEe2r9wPB",
        "outputId": "2984c90f-14ac-4525-a37e-60edcc5d4a75"
      },
      "source": [
        "np.std(W)"
      ],
      "execution_count": null,
      "outputs": [
        {
          "output_type": "execute_result",
          "data": {
            "text/plain": [
              "1.388272762091711"
            ]
          },
          "metadata": {
            "tags": []
          },
          "execution_count": 52
        }
      ]
    },
    {
      "cell_type": "markdown",
      "metadata": {
        "id": "Dx7tWJ40DYGi"
      },
      "source": [
        "##Getting Real Pricing Data\n",
        "\n",
        "Randomly sampled data can be great for testing ideas, but let's get some real data. We can use `get_pricing` to do that. You can use the `?` syntax as discussed above to get more information on `get_pricing`'s arguments."
      ]
    },
    {
      "cell_type": "code",
      "metadata": {
        "id": "n_K4FHwpDYGi"
      },
      "source": [
        "#No Funciona :c\r\n",
        "#get_pricing?\r\n",
        "#data = get_pricing('MSFT', start_date='2012-1-1', end_date='2015-6-1')"
      ],
      "execution_count": 35,
      "outputs": []
    },
    {
      "cell_type": "code",
      "metadata": {
        "id": "5nSOX0lcnnU2"
      },
      "source": [
        "pdr.get_data_yahoo?\r\n",
        "data = pdr.get_data_yahoo('MSFT', start=datetime.datetime(2020, 1, 1), \r\n",
        "                          end=datetime.datetime(2021,1,1))"
      ],
      "execution_count": 39,
      "outputs": []
    },
    {
      "cell_type": "code",
      "metadata": {
        "id": "ytUPNQIdoxjJ"
      },
      "source": [
        "pdr.get_data_yahoo?\r\n",
        "mi_ejemplo = pdr.get_data_yahoo('LNVGY', start=datetime.datetime(2020, 1, 1), \r\n",
        "                          end=datetime.datetime(2021,1,1))"
      ],
      "execution_count": 40,
      "outputs": []
    },
    {
      "cell_type": "markdown",
      "metadata": {
        "id": "zF-YnfnODYGi"
      },
      "source": [
        "Our data is now a dataframe. You can see the datetime index and the colums with different pricing data."
      ]
    },
    {
      "cell_type": "code",
      "metadata": {
        "id": "KfsMfBw8DYGi",
        "colab": {
          "base_uri": "https://localhost:8080/",
          "height": 450
        },
        "outputId": "af73e654-be7b-41c1-ab71-18dade7e7d97"
      },
      "source": [
        "data"
      ],
      "execution_count": 41,
      "outputs": [
        {
          "output_type": "execute_result",
          "data": {
            "text/html": [
              "<div>\n",
              "<style scoped>\n",
              "    .dataframe tbody tr th:only-of-type {\n",
              "        vertical-align: middle;\n",
              "    }\n",
              "\n",
              "    .dataframe tbody tr th {\n",
              "        vertical-align: top;\n",
              "    }\n",
              "\n",
              "    .dataframe thead th {\n",
              "        text-align: right;\n",
              "    }\n",
              "</style>\n",
              "<table border=\"1\" class=\"dataframe\">\n",
              "  <thead>\n",
              "    <tr style=\"text-align: right;\">\n",
              "      <th></th>\n",
              "      <th>High</th>\n",
              "      <th>Low</th>\n",
              "      <th>Open</th>\n",
              "      <th>Close</th>\n",
              "      <th>Volume</th>\n",
              "      <th>Adj Close</th>\n",
              "    </tr>\n",
              "    <tr>\n",
              "      <th>Date</th>\n",
              "      <th></th>\n",
              "      <th></th>\n",
              "      <th></th>\n",
              "      <th></th>\n",
              "      <th></th>\n",
              "      <th></th>\n",
              "    </tr>\n",
              "  </thead>\n",
              "  <tbody>\n",
              "    <tr>\n",
              "      <th>2020-01-02</th>\n",
              "      <td>160.729996</td>\n",
              "      <td>158.330002</td>\n",
              "      <td>158.779999</td>\n",
              "      <td>160.619995</td>\n",
              "      <td>22622100.0</td>\n",
              "      <td>158.571075</td>\n",
              "    </tr>\n",
              "    <tr>\n",
              "      <th>2020-01-03</th>\n",
              "      <td>159.949997</td>\n",
              "      <td>158.059998</td>\n",
              "      <td>158.320007</td>\n",
              "      <td>158.619995</td>\n",
              "      <td>21116200.0</td>\n",
              "      <td>156.596588</td>\n",
              "    </tr>\n",
              "    <tr>\n",
              "      <th>2020-01-06</th>\n",
              "      <td>159.100006</td>\n",
              "      <td>156.509995</td>\n",
              "      <td>157.080002</td>\n",
              "      <td>159.029999</td>\n",
              "      <td>20813700.0</td>\n",
              "      <td>157.001373</td>\n",
              "    </tr>\n",
              "    <tr>\n",
              "      <th>2020-01-07</th>\n",
              "      <td>159.669998</td>\n",
              "      <td>157.320007</td>\n",
              "      <td>159.320007</td>\n",
              "      <td>157.580002</td>\n",
              "      <td>21634100.0</td>\n",
              "      <td>155.569855</td>\n",
              "    </tr>\n",
              "    <tr>\n",
              "      <th>2020-01-08</th>\n",
              "      <td>160.800003</td>\n",
              "      <td>157.949997</td>\n",
              "      <td>158.929993</td>\n",
              "      <td>160.089996</td>\n",
              "      <td>27746500.0</td>\n",
              "      <td>158.047836</td>\n",
              "    </tr>\n",
              "    <tr>\n",
              "      <th>...</th>\n",
              "      <td>...</td>\n",
              "      <td>...</td>\n",
              "      <td>...</td>\n",
              "      <td>...</td>\n",
              "      <td>...</td>\n",
              "      <td>...</td>\n",
              "    </tr>\n",
              "    <tr>\n",
              "      <th>2020-12-24</th>\n",
              "      <td>223.610001</td>\n",
              "      <td>221.199997</td>\n",
              "      <td>221.419998</td>\n",
              "      <td>222.750000</td>\n",
              "      <td>10550600.0</td>\n",
              "      <td>222.238144</td>\n",
              "    </tr>\n",
              "    <tr>\n",
              "      <th>2020-12-28</th>\n",
              "      <td>226.029999</td>\n",
              "      <td>223.020004</td>\n",
              "      <td>224.449997</td>\n",
              "      <td>224.960007</td>\n",
              "      <td>17933500.0</td>\n",
              "      <td>224.443069</td>\n",
              "    </tr>\n",
              "    <tr>\n",
              "      <th>2020-12-29</th>\n",
              "      <td>227.179993</td>\n",
              "      <td>223.580002</td>\n",
              "      <td>226.309998</td>\n",
              "      <td>224.149994</td>\n",
              "      <td>17403200.0</td>\n",
              "      <td>223.634918</td>\n",
              "    </tr>\n",
              "    <tr>\n",
              "      <th>2020-12-30</th>\n",
              "      <td>225.630005</td>\n",
              "      <td>221.470001</td>\n",
              "      <td>225.229996</td>\n",
              "      <td>221.679993</td>\n",
              "      <td>20272300.0</td>\n",
              "      <td>221.170593</td>\n",
              "    </tr>\n",
              "    <tr>\n",
              "      <th>2020-12-31</th>\n",
              "      <td>223.000000</td>\n",
              "      <td>219.679993</td>\n",
              "      <td>221.699997</td>\n",
              "      <td>222.419998</td>\n",
              "      <td>20942100.0</td>\n",
              "      <td>221.908905</td>\n",
              "    </tr>\n",
              "  </tbody>\n",
              "</table>\n",
              "<p>253 rows × 6 columns</p>\n",
              "</div>"
            ],
            "text/plain": [
              "                  High         Low  ...      Volume   Adj Close\n",
              "Date                                ...                        \n",
              "2020-01-02  160.729996  158.330002  ...  22622100.0  158.571075\n",
              "2020-01-03  159.949997  158.059998  ...  21116200.0  156.596588\n",
              "2020-01-06  159.100006  156.509995  ...  20813700.0  157.001373\n",
              "2020-01-07  159.669998  157.320007  ...  21634100.0  155.569855\n",
              "2020-01-08  160.800003  157.949997  ...  27746500.0  158.047836\n",
              "...                ...         ...  ...         ...         ...\n",
              "2020-12-24  223.610001  221.199997  ...  10550600.0  222.238144\n",
              "2020-12-28  226.029999  223.020004  ...  17933500.0  224.443069\n",
              "2020-12-29  227.179993  223.580002  ...  17403200.0  223.634918\n",
              "2020-12-30  225.630005  221.470001  ...  20272300.0  221.170593\n",
              "2020-12-31  223.000000  219.679993  ...  20942100.0  221.908905\n",
              "\n",
              "[253 rows x 6 columns]"
            ]
          },
          "metadata": {
            "tags": []
          },
          "execution_count": 41
        }
      ]
    },
    {
      "cell_type": "code",
      "metadata": {
        "colab": {
          "base_uri": "https://localhost:8080/",
          "height": 450
        },
        "id": "1pH-FH8Zo55T",
        "outputId": "1522487c-c248-4f52-f5b6-7b4133399175"
      },
      "source": [
        "mi_ejemplo"
      ],
      "execution_count": 42,
      "outputs": [
        {
          "output_type": "execute_result",
          "data": {
            "text/html": [
              "<div>\n",
              "<style scoped>\n",
              "    .dataframe tbody tr th:only-of-type {\n",
              "        vertical-align: middle;\n",
              "    }\n",
              "\n",
              "    .dataframe tbody tr th {\n",
              "        vertical-align: top;\n",
              "    }\n",
              "\n",
              "    .dataframe thead th {\n",
              "        text-align: right;\n",
              "    }\n",
              "</style>\n",
              "<table border=\"1\" class=\"dataframe\">\n",
              "  <thead>\n",
              "    <tr style=\"text-align: right;\">\n",
              "      <th></th>\n",
              "      <th>High</th>\n",
              "      <th>Low</th>\n",
              "      <th>Open</th>\n",
              "      <th>Close</th>\n",
              "      <th>Volume</th>\n",
              "      <th>Adj Close</th>\n",
              "    </tr>\n",
              "    <tr>\n",
              "      <th>Date</th>\n",
              "      <th></th>\n",
              "      <th></th>\n",
              "      <th></th>\n",
              "      <th></th>\n",
              "      <th></th>\n",
              "      <th></th>\n",
              "    </tr>\n",
              "  </thead>\n",
              "  <tbody>\n",
              "    <tr>\n",
              "      <th>2020-01-02</th>\n",
              "      <td>13.980000</td>\n",
              "      <td>13.520000</td>\n",
              "      <td>13.980000</td>\n",
              "      <td>13.850000</td>\n",
              "      <td>50300.0</td>\n",
              "      <td>13.071546</td>\n",
              "    </tr>\n",
              "    <tr>\n",
              "      <th>2020-01-03</th>\n",
              "      <td>14.000000</td>\n",
              "      <td>13.840000</td>\n",
              "      <td>14.000000</td>\n",
              "      <td>13.940000</td>\n",
              "      <td>37000.0</td>\n",
              "      <td>13.156486</td>\n",
              "    </tr>\n",
              "    <tr>\n",
              "      <th>2020-01-06</th>\n",
              "      <td>13.710000</td>\n",
              "      <td>13.600000</td>\n",
              "      <td>13.600000</td>\n",
              "      <td>13.710000</td>\n",
              "      <td>47000.0</td>\n",
              "      <td>12.939414</td>\n",
              "    </tr>\n",
              "    <tr>\n",
              "      <th>2020-01-07</th>\n",
              "      <td>13.800000</td>\n",
              "      <td>13.590000</td>\n",
              "      <td>13.800000</td>\n",
              "      <td>13.680000</td>\n",
              "      <td>58800.0</td>\n",
              "      <td>12.911100</td>\n",
              "    </tr>\n",
              "    <tr>\n",
              "      <th>2020-01-08</th>\n",
              "      <td>13.780000</td>\n",
              "      <td>13.610000</td>\n",
              "      <td>13.750000</td>\n",
              "      <td>13.640000</td>\n",
              "      <td>65400.0</td>\n",
              "      <td>12.873348</td>\n",
              "    </tr>\n",
              "    <tr>\n",
              "      <th>...</th>\n",
              "      <td>...</td>\n",
              "      <td>...</td>\n",
              "      <td>...</td>\n",
              "      <td>...</td>\n",
              "      <td>...</td>\n",
              "      <td>...</td>\n",
              "    </tr>\n",
              "    <tr>\n",
              "      <th>2020-12-24</th>\n",
              "      <td>17.940001</td>\n",
              "      <td>17.430000</td>\n",
              "      <td>17.940001</td>\n",
              "      <td>17.430000</td>\n",
              "      <td>19800.0</td>\n",
              "      <td>17.430000</td>\n",
              "    </tr>\n",
              "    <tr>\n",
              "      <th>2020-12-28</th>\n",
              "      <td>18.650000</td>\n",
              "      <td>18.280001</td>\n",
              "      <td>18.280001</td>\n",
              "      <td>18.580000</td>\n",
              "      <td>56900.0</td>\n",
              "      <td>18.580000</td>\n",
              "    </tr>\n",
              "    <tr>\n",
              "      <th>2020-12-29</th>\n",
              "      <td>18.580000</td>\n",
              "      <td>18.500000</td>\n",
              "      <td>18.549999</td>\n",
              "      <td>18.549999</td>\n",
              "      <td>23300.0</td>\n",
              "      <td>18.549999</td>\n",
              "    </tr>\n",
              "    <tr>\n",
              "      <th>2020-12-30</th>\n",
              "      <td>18.520000</td>\n",
              "      <td>18.290001</td>\n",
              "      <td>18.520000</td>\n",
              "      <td>18.360001</td>\n",
              "      <td>13200.0</td>\n",
              "      <td>18.360001</td>\n",
              "    </tr>\n",
              "    <tr>\n",
              "      <th>2020-12-31</th>\n",
              "      <td>18.700001</td>\n",
              "      <td>18.540001</td>\n",
              "      <td>18.540001</td>\n",
              "      <td>18.690001</td>\n",
              "      <td>25900.0</td>\n",
              "      <td>18.690001</td>\n",
              "    </tr>\n",
              "  </tbody>\n",
              "</table>\n",
              "<p>253 rows × 6 columns</p>\n",
              "</div>"
            ],
            "text/plain": [
              "                 High        Low       Open      Close   Volume  Adj Close\n",
              "Date                                                                      \n",
              "2020-01-02  13.980000  13.520000  13.980000  13.850000  50300.0  13.071546\n",
              "2020-01-03  14.000000  13.840000  14.000000  13.940000  37000.0  13.156486\n",
              "2020-01-06  13.710000  13.600000  13.600000  13.710000  47000.0  12.939414\n",
              "2020-01-07  13.800000  13.590000  13.800000  13.680000  58800.0  12.911100\n",
              "2020-01-08  13.780000  13.610000  13.750000  13.640000  65400.0  12.873348\n",
              "...               ...        ...        ...        ...      ...        ...\n",
              "2020-12-24  17.940001  17.430000  17.940001  17.430000  19800.0  17.430000\n",
              "2020-12-28  18.650000  18.280001  18.280001  18.580000  56900.0  18.580000\n",
              "2020-12-29  18.580000  18.500000  18.549999  18.549999  23300.0  18.549999\n",
              "2020-12-30  18.520000  18.290001  18.520000  18.360001  13200.0  18.360001\n",
              "2020-12-31  18.700001  18.540001  18.540001  18.690001  25900.0  18.690001\n",
              "\n",
              "[253 rows x 6 columns]"
            ]
          },
          "metadata": {
            "tags": []
          },
          "execution_count": 42
        }
      ]
    },
    {
      "cell_type": "markdown",
      "metadata": {
        "id": "NVS96UiJDYGi"
      },
      "source": [
        "This is a pandas dataframe, so we can index in to just get price like this. For more info on pandas, please [click here](http://pandas.pydata.org/pandas-docs/stable/10min.html)."
      ]
    },
    {
      "cell_type": "code",
      "metadata": {
        "id": "slLULeqjDYGj"
      },
      "source": [
        "X = data['Close']"
      ],
      "execution_count": 44,
      "outputs": []
    },
    {
      "cell_type": "code",
      "metadata": {
        "id": "2TJIIoKcpE9K"
      },
      "source": [
        "Y= mi_ejemplo['Close']"
      ],
      "execution_count": 45,
      "outputs": []
    },
    {
      "cell_type": "markdown",
      "metadata": {
        "id": "uXGMxY_7DYGj"
      },
      "source": [
        "Because there is now also date information in our data, we provide two series to `.plot`. `X.index` gives us the datetime index, and `X.values` gives us the pricing values. These are used as the X and Y coordinates to make a graph."
      ]
    },
    {
      "cell_type": "code",
      "metadata": {
        "id": "0HNM6gBlDYGj",
        "colab": {
          "base_uri": "https://localhost:8080/",
          "height": 265
        },
        "outputId": "315868ec-bfa2-4ad5-a261-a3b2918cba58"
      },
      "source": [
        "plt.plot(X.index, X.values)\n",
        "plt.ylabel('Price')\n",
        "plt.legend(['MSFT']);"
      ],
      "execution_count": 46,
      "outputs": [
        {
          "output_type": "display_data",
          "data": {
            "image/png": "[encoded data removed]",
            "text/plain": [
              "<Figure size 432x288 with 1 Axes>"
            ]
          },
          "metadata": {
            "tags": [],
            "needs_background": "light"
          }
        }
      ]
    },
    {
      "cell_type": "code",
      "metadata": {
        "colab": {
          "base_uri": "https://localhost:8080/",
          "height": 265
        },
        "id": "xftHu815pJw9",
        "outputId": "d394c37c-201a-41fd-d4c2-fb7ce0e688a0"
      },
      "source": [
        "plt.plot(X.index, X.values)\r\n",
        "plt.ylabel('Precio')\r\n",
        "plt.legend(['LNVGY']);"
      ],
      "execution_count": 47,
      "outputs": [
        {
          "output_type": "display_data",
          "data": {
            "image/png": "[encoded data removed]",
            "text/plain": [
              "<Figure size 432x288 with 1 Axes>"
            ]
          },
          "metadata": {
            "tags": [],
            "needs_background": "light"
          }
        }
      ]
    },
    {
      "cell_type": "markdown",
      "metadata": {
        "id": "UNSQ-xsIDYGj"
      },
      "source": [
        "We can get statistics again on real data."
      ]
    },
    {
      "cell_type": "code",
      "metadata": {
        "id": "H1vf3cy4DYGj",
        "colab": {
          "base_uri": "https://localhost:8080/"
        },
        "outputId": "57e63691-910d-4d69-af67-1432e0cffbb5"
      },
      "source": [
        "np.mean(X)"
      ],
      "execution_count": 48,
      "outputs": [
        {
          "output_type": "execute_result",
          "data": {
            "text/plain": [
              "193.02612642431447"
            ]
          },
          "metadata": {
            "tags": []
          },
          "execution_count": 48
        }
      ]
    },
    {
      "cell_type": "code",
      "metadata": {
        "colab": {
          "base_uri": "https://localhost:8080/"
        },
        "id": "6idoLw-1pP7Z",
        "outputId": "41658b07-a2b7-4a87-fc01-818efabf9087"
      },
      "source": [
        "np.mean(Y)"
      ],
      "execution_count": 49,
      "outputs": [
        {
          "output_type": "execute_result",
          "data": {
            "text/plain": [
              "12.765217392812133"
            ]
          },
          "metadata": {
            "tags": []
          },
          "execution_count": 49
        }
      ]
    },
    {
      "cell_type": "code",
      "metadata": {
        "id": "cmZxOooLDYGj",
        "colab": {
          "base_uri": "https://localhost:8080/"
        },
        "outputId": "e6b633eb-236d-433e-cb68-2a3f0d0b9f54"
      },
      "source": [
        "np.std(X)"
      ],
      "execution_count": 50,
      "outputs": [
        {
          "output_type": "execute_result",
          "data": {
            "text/plain": [
              "22.950071607823865"
            ]
          },
          "metadata": {
            "tags": []
          },
          "execution_count": 50
        }
      ]
    },
    {
      "cell_type": "code",
      "metadata": {
        "colab": {
          "base_uri": "https://localhost:8080/"
        },
        "id": "sFjhYmsppR5j",
        "outputId": "50b6468d-52ac-4f7f-8904-fab9b308943d"
      },
      "source": [
        "np.std(Y)"
      ],
      "execution_count": 51,
      "outputs": [
        {
          "output_type": "execute_result",
          "data": {
            "text/plain": [
              "1.8309557281428646"
            ]
          },
          "metadata": {
            "tags": []
          },
          "execution_count": 51
        }
      ]
    },
    {
      "cell_type": "markdown",
      "metadata": {
        "id": "Ljplm50fDYGk"
      },
      "source": [
        "##Getting Returns from Prices\n",
        "\n",
        "We can use the `pct_change` function to get returns. Notice how we drop the first element after doing this, as it will be `NaN` (nothing -> something results in a NaN percent change)."
      ]
    },
    {
      "cell_type": "code",
      "metadata": {
        "id": "FFoRJFNtDYGk"
      },
      "source": [
        "R = X.pct_change()[1:]"
      ],
      "execution_count": 52,
      "outputs": []
    },
    {
      "cell_type": "code",
      "metadata": {
        "id": "DMr8VrzApVTh"
      },
      "source": [
        "T = Y.pct_change()[1:]"
      ],
      "execution_count": 53,
      "outputs": []
    },
    {
      "cell_type": "markdown",
      "metadata": {
        "id": "kQtVmdHxDYGk"
      },
      "source": [
        "We can plot the returns distribution as a histogram."
      ]
    },
    {
      "cell_type": "code",
      "metadata": {
        "id": "fYrNZXGBDYGk",
        "colab": {
          "base_uri": "https://localhost:8080/",
          "height": 279
        },
        "outputId": "374e26e6-bc10-4e4d-8c1b-61ad9eaa6d8f"
      },
      "source": [
        "plt.hist(R, bins=20)\n",
        "plt.xlabel('Return')\n",
        "plt.ylabel('Frequency')\n",
        "plt.legend(['MSFT Returns']);"
      ],
      "execution_count": 54,
      "outputs": [
        {
          "output_type": "display_data",
          "data": {
            "image/png": "[encoded data removed]",
            "text/plain": [
              "<Figure size 432x288 with 1 Axes>"
            ]
          },
          "metadata": {
            "tags": [],
            "needs_background": "light"
          }
        }
      ]
    },
    {
      "cell_type": "code",
      "metadata": {
        "colab": {
          "base_uri": "https://localhost:8080/",
          "height": 279
        },
        "id": "1TuFShygpZtZ",
        "outputId": "fbe21c3b-f006-4540-c607-bedd8d3cd610"
      },
      "source": [
        "plt.hist(T, bins=20)\r\n",
        "plt.xlabel('Return')\r\n",
        "plt.ylabel('Frequency')\r\n",
        "plt.legend(['LNVGY Returns']);"
      ],
      "execution_count": 55,
      "outputs": [
        {
          "output_type": "display_data",
          "data": {
            "image/png": "[encoded data removed]",
            "text/plain": [
              "<Figure size 432x288 with 1 Axes>"
            ]
          },
          "metadata": {
            "tags": [],
            "needs_background": "light"
          }
        }
      ]
    },
    {
      "cell_type": "markdown",
      "metadata": {
        "id": "egRbr7xyDYGk"
      },
      "source": [
        "Get statistics again."
      ]
    },
    {
      "cell_type": "code",
      "metadata": {
        "id": "wZ6Z-VfdDYGl",
        "colab": {
          "base_uri": "https://localhost:8080/"
        },
        "outputId": "97c0fd85-3102-4a37-fc81-fd292546f20d"
      },
      "source": [
        "np.mean(R)"
      ],
      "execution_count": 56,
      "outputs": [
        {
          "output_type": "execute_result",
          "data": {
            "text/plain": [
              "0.001675393471272009"
            ]
          },
          "metadata": {
            "tags": []
          },
          "execution_count": 56
        }
      ]
    },
    {
      "cell_type": "code",
      "metadata": {
        "colab": {
          "base_uri": "https://localhost:8080/"
        },
        "id": "IdCmNVRxpgrP",
        "outputId": "cc4cca8b-5412-4ed3-c62f-3cd9368a0586"
      },
      "source": [
        "np.mean(T)"
      ],
      "execution_count": 57,
      "outputs": [
        {
          "output_type": "execute_result",
          "data": {
            "text/plain": [
              "0.0015184694314058923"
            ]
          },
          "metadata": {
            "tags": []
          },
          "execution_count": 57
        }
      ]
    },
    {
      "cell_type": "code",
      "metadata": {
        "id": "uxk7GpizDYGl",
        "colab": {
          "base_uri": "https://localhost:8080/"
        },
        "outputId": "adaeb8b7-132c-4a0f-85a6-163e948d45b7"
      },
      "source": [
        "np.std(R)"
      ],
      "execution_count": 58,
      "outputs": [
        {
          "output_type": "execute_result",
          "data": {
            "text/plain": [
              "0.027628921616877647"
            ]
          },
          "metadata": {
            "tags": []
          },
          "execution_count": 58
        }
      ]
    },
    {
      "cell_type": "code",
      "metadata": {
        "colab": {
          "base_uri": "https://localhost:8080/"
        },
        "id": "mjkxhd5ypjmu",
        "outputId": "200314c4-1495-40f0-c131-9fac92710a31"
      },
      "source": [
        "np.std(T)"
      ],
      "execution_count": 59,
      "outputs": [
        {
          "output_type": "execute_result",
          "data": {
            "text/plain": [
              "0.025629162909817066"
            ]
          },
          "metadata": {
            "tags": []
          },
          "execution_count": 59
        }
      ]
    },
    {
      "cell_type": "markdown",
      "metadata": {
        "id": "yDKwM-9DDYGl"
      },
      "source": [
        "Now let's go backwards and generate data out of a normal distribution using the statistics we estimated from Microsoft's returns. We'll see that we have good reason to suspect Microsoft's returns may not be normal, as the resulting normal distribution looks far different."
      ]
    },
    {
      "cell_type": "code",
      "metadata": {
        "id": "Cz_iQ1pFDYGl",
        "colab": {
          "base_uri": "https://localhost:8080/",
          "height": 283
        },
        "outputId": "1d2277e9-2637-42f0-a382-55070b0f7806"
      },
      "source": [
        "plt.hist(np.random.normal(np.mean(R), np.std(R), 10000), bins=20)\n",
        "plt.xlabel('Return')\n",
        "plt.ylabel('Frequency')\n",
        "plt.legend(['Normally Distributed Returns']);"
      ],
      "execution_count": 60,
      "outputs": [
        {
          "output_type": "display_data",
          "data": {
            "image/png": "[encoded data removed]",
            "text/plain": [
              "<Figure size 432x288 with 1 Axes>"
            ]
          },
          "metadata": {
            "tags": [],
            "needs_background": "light"
          }
        }
      ]
    },
    {
      "cell_type": "code",
      "metadata": {
        "colab": {
          "base_uri": "https://localhost:8080/",
          "height": 279
        },
        "id": "O96d3PIKpneG",
        "outputId": "22763ab9-8aa6-47d5-98b9-95828f5bf4cd"
      },
      "source": [
        "plt.hist(np.random.normal(np.mean(T), np.std(T), 10000), bins=20)\r\n",
        "plt.xlabel('Return')\r\n",
        "plt.ylabel('Frequency')\r\n",
        "plt.legend(['Normally Distributed Returns']);"
      ],
      "execution_count": 61,
      "outputs": [
        {
          "output_type": "display_data",
          "data": {
            "image/png": "[encoded data removed]",
            "text/plain": [
              "<Figure size 432x288 with 1 Axes>"
            ]
          },
          "metadata": {
            "tags": [],
            "needs_background": "light"
          }
        }
      ]
    },
    {
      "cell_type": "markdown",
      "metadata": {
        "id": "912WdN-pDYGm"
      },
      "source": [
        "##Generating a Moving Average\n",
        "\n",
        "`pandas` has some nice tools to allow us to generate rolling statistics. Here's an example. Notice how there's no moving average for the first 60 days, as we don't have 60 days of data on which to generate the statistic."
      ]
    },
    {
      "cell_type": "code",
      "metadata": {
        "id": "aJd5mLlfDYGm"
      },
      "source": [
        "##Rolling_mean ya se dejó de usar!!!!\n",
        "\n",
        "# Take the average of the last 60 days at each timepoint.\n",
        "#MAVG = pd.rolling_mean(X, window=60)\n",
        "#plt.plot(X.index, X.values)\n",
        "#plt.plot(MAVG.index, MAVG.values)\n",
        "#plt.ylabel('Price')\n",
        "#plt.legend(['MSFT', '60-day MAVG']);"
      ],
      "execution_count": 63,
      "outputs": []
    },
    {
      "cell_type": "code",
      "metadata": {
        "colab": {
          "base_uri": "https://localhost:8080/",
          "height": 265
        },
        "id": "Lo4_CV7Sp7Gp",
        "outputId": "cf7090c4-80a4-45f6-d758-f9dbb7ece285"
      },
      "source": [
        "MAVG = X.rolling(60).mean()\r\n",
        "plt.plot(X.index, X.values)\r\n",
        "plt.plot(MAVG.index, MAVG.values)\r\n",
        "plt.ylabel('Price')\r\n",
        "plt.legend(['MSFT', '60-day MAVG']);"
      ],
      "execution_count": 65,
      "outputs": [
        {
          "output_type": "display_data",
          "data": {
            "image/png": "[encoded data removed]",
            "text/plain": [
              "<Figure size 432x288 with 1 Axes>"
            ]
          },
          "metadata": {
            "tags": [],
            "needs_background": "light"
          }
        }
      ]
    },
    {
      "cell_type": "code",
      "metadata": {
        "colab": {
          "base_uri": "https://localhost:8080/",
          "height": 265
        },
        "id": "cwTYIpo8qTZL",
        "outputId": "c6ec26ee-99da-4a35-97fa-e1ab3a80a2ed"
      },
      "source": [
        "SPRT = Y.rolling(60).mean()\r\n",
        "plt.plot(Y.index, Y.values)\r\n",
        "plt.plot(SPRT.index, SPRT.values)\r\n",
        "plt.ylabel('Price')\r\n",
        "plt.legend(['LNVGY', '60-day SPRT']);"
      ],
      "execution_count": 66,
      "outputs": [
        {
          "output_type": "display_data",
          "data": {
            "image/png": "[encoded data removed]",
            "text/plain": [
              "<Figure size 432x288 with 1 Axes>"
            ]
          },
          "metadata": {
            "tags": [],
            "needs_background": "light"
          }
        }
      ]
    },
    {
      "cell_type": "markdown",
      "metadata": {
        "id": "udkA7ZQADYGm"
      },
      "source": [
        "This presentation is for informational purposes only and does not constitute an offer to sell, a solicitation to buy, or a recommendation for any security; nor does it constitute an offer to provide investment advisory or other services by Quantopian, Inc. (\"Quantopian\"). Nothing contained herein constitutes investment advice or offers any opinion with respect to the suitability of any security, and any views expressed herein should not be taken as advice to buy, sell, or hold any security or as an endorsement of any security or company. In preparing the information contained herein, Quantopian, Inc. has not taken into account the investment needs, objectives, and financial circumstances of any particular investor. Any views expressed and data illustrated herein were prepared based upon information, believed to be reliable, available to Quantopian, Inc. at the time of publication. Quantopian makes no guarantees as to their accuracy or completeness. All information is subject to change and may quickly become unreliable for various reasons, including changes in market conditions or economic circumstances."
      ]
    }
  ]
}
