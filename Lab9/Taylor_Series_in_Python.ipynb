{
  "nbformat": 4,
  "nbformat_minor": 0,
  "metadata": {
    "colab": {
      "name": "Taylor_Series_in_Python.ipynb",
      "provenance": [],
      "collapsed_sections": [
        "KyRfZbUgMCPt",
        "I5qW7hGLPY3I",
        "VgwH3QbFRJCl",
        "X76v42h6TKd1",
        "Jjp7hSCqUNyc"
      ]
    },
    "kernelspec": {
      "name": "python3",
      "display_name": "Python 3"
    },
    "language_info": {
      "name": "python"
    }
  },
  "cells": [
    {
      "cell_type": "markdown",
      "metadata": {
        "id": "RI1VVZ-yLJ1u"
      },
      "source": [
        "#Taylor Series in Python\n",
        "recovered from **[Python for Undergraduate Engineers](https://pythonforundergradengineers.com/creating-taylor-series-functions-with-python.html)**\n"
      ]
    },
    {
      "cell_type": "markdown",
      "metadata": {
        "id": "0c1wy8e6LC-S"
      },
      "source": [
        "<figure><center>\n",
        "\n",
        "![image.png](data:image/png;base64,iVBORw0KGgoAAAANSUhEUgAAAWsAAAD6CAYAAABnC2YqAAAgAElEQVR4Ae29B3QUR7Y+7vPbs/vf8Pb5bXp+u87ZRAM2TmCMIzZgAwaTowGTwWCSMcHGZCQkMjI5g8hBiCQJEFEgCYSyUBYI5Zwl7v98NbRojSZPd830qOocaTpU1a26Vf119a2q7z5GIggNCA0IDQgNOL0GHnP6EooCCg0IDQgNCA2QAGvRCYQGhAaEBjSgAQHWGmgkUUShAaEBoQEB1qIPCA0IDQgNaEADFoF1dXU1tWjRgjp16qSBKokiCg0IDQgNuJ4GLAJrd3d36tOnjwBr12t/USOhAaEBjWjALFinpqbSRx99RH5+fgKsNdKoophCA0IDrqcBs2DdvXt3unHjBgUEBAiwdr32FzUSGhAa0IgGTIL1sWPHaNSoUawqpsDay8uL3njjDfb3l7/8pfZYuuZMv8/+7z/pxaf+w7WMTf78Z2r+H74ynUnnoiy6Z0PoQaeHVk2bUpP/74/U4sUXuT2HzZo0pqf+9jg1a9SIm0xr2/sf//iHydeGSbCePn06Pfnkk/Tss8/SE088QX/605+oX79+JjNEAZ05HHGbTxsnDOdaxMQ+fSnRjN64FkgIExpwoAYKfH0p8tXXqCwyklspbp72IbeenaggK4ObTGsFmcNOk2AtF2ZqZC2PZ06gPK4jji/u3UHuvb6kqooKbuLv/fwzRb/Zmh48eMBNphAkNOCsGshcvoIiGzWmmvJybkU8u3ENLR/Ygx7U1HCTaa0gc9jZ4MA6+vIF9obNSIy3Vpc2x8/dtYuNJCrv3rU5D5FQaMBVNJA6dhzd+fwLrtXZPXsK7Zo5matMa4UpBtaWCjYn0NJ81IqXnZrMwDrygr9aIurlWxIczMC6MCCg3j1xQWigoWkg7pNPKXXC99yqjdH0ikE96MyGNdxk2iLIHHZaPLK2VLg5gZbmo1a86qoqWtanC13YuVktEfXyrS4sZGCdtc6r3j1xQWigIWnAEc9C3v10NkC7dcbXqVVtDjsbHFijtTZPGkUHF/3MteHiPvqY0iZO4ipTCBMacDYNFF+7xgYuRRcucCta7LVLDKzvxUVzk2mLIAHWBrR2fPkS8ho12MAd9S6ljBxF8Z07qydA5Cw0oAEN5GzZwsC6KiuLW2mlRQWV5WXcZNoiSIC1Aa1dP3qAvWlLCvIN3FXnUoanJ0U2bkI1Zc7dYdSpvchVaECngbtTp1Fs2/e5quPQkl9p0/cjuMq0RZgAawNaS759k4F14q0QA3fVuVRw+jQbUZTevKmOAJGr0IAGNBD/5VeU/N13XEv625ghdMxjEVeZtggTYG1Aa2VFRQysrx3eZ+CuOpcq09IYWGMZnwhCAw1RA1hXja/LDA8PbtUvK9Y961cP7uUm01ZBAqyNaG792G/pKMe3LTbExLz9Dt396ScjJRKXhQZcWwOlYbfZgKXg5CluFU2NuM0GZgkh17nJtFWQAGsjmnPEtvPkb4dSfNduRkokLgsNuLYGcvfuZWBdkZLCraLBJ44wsC7KyeYm01ZBAqyNaO7KgT2sEctLSozEUP5yhvsyimzSlOs2W+VrIXIUGrBNA46gXTi51pNWD+urCaoHAdZG+hU+i0Dsgs8kXgGffyCwKQ0L4yVSyBEacBoNJPbsRUn9B3Atz7Zp48n7V22YHgVYG+kaxXm5DKyDfQ4biaH85YrUVN0k4+7dymcuchQacGINPKiupqgWLen+ggXcSlldVUke/brSue0bucm0R5AAaxPaWztiAJ1Y5W4ihrK3MMkY/dbbdG/mLGUzFrkJDTi5Bsrj4thAJe/QIW4lTb8TywZk0ZcDucm0R5AAaxPaw5bzLT+MNhFD+VvJQ4ZQQrevlc9Y5Cg04MQayDtwkIF1+Z073EoZevI4A+uCTOflsJYrQ4C1XBt6xxf3bCP33l9SZQU/Xt0MNzeKbNqMajjyaetVW5wKDXDXAJtcfONNrnzS+GpeM7yfJiYX0SACrE10S4ng5W4MP48VBSdO6CYZb4ebKJm4JTTgWhrA12TSYL58PNhifnDxL5pRpABrE01VlJvDPpNuHOdnR6tITn44ybjHRMnELaEB19EA+HCwZDVjGb+di+UlxezZxhJdrQQB1mZaCrwBR5ctNBNLudtsJ+M779Ld6T8ql6nISWjAiTVQEhzCBiiFZ89yK2XSrVAG1jz5f+ytnABrMxo85rmY1o0aZCaWsrdTRoykO190VDZTkZvQgJNqIHvzZgbWVZmZ3EoILhDsowA3iFaCAGszLYV11mjUwmx+/LpZa9exzludl2emdOK20ID2NQCnG7Effsi1IoeWzKWNGqBFlStFgLVcGwaO4T0CYM1zLWbxlasMrIvOnzdQInFJaMC1NBD38SeUOn4Ct0rB1IhVICdWunGTqYQgAdZmtIhdTp79ulHA1t/MxFTudk1xMUU2akyZy1col6nISWjACTVQlZPDBibZG/jtIizIymQDsJCTx5xQI8aLJMDauG5q7+yaNYV2/sTXP2J8l66UPOTb2jKIA6EBV9RAYUAAA+uS6/woSmOuBDKwTo+L0ZRKBVhb0FzgDvDo24WqKistiK1MlHtz5lA0500CypRc5CI0YLkGMpcv17mz48hu6b/Zizz7f034atZSEGBtQWvFXtV5P74bE2VBbGWi5B08xEYcZTHaevsrU3uRS0PRQNKgwRTfjS+H+9ap48h77gzNqViAtQVN5ojNMeUJCQysc729LSihiCI0oD0NPKiooKjXW1D6vPncCs/cePXqTJf3ac99ngBrC7vJb2O+JXiP4RVq3XzN0N4IgJeOhBxta6A0NJQNSAp8T3KrSHxwELNXp4Tf4iZTKUECrC3UpO/qZbTq295ciWZSvhshNsdY2D4imvY0kL1hAwPrqix+exjO79jE5p94krMp1TICrC3UZPi5s+yNnJEYb2EK+6Nlr1/PvTPbX2qRg9CAZRpIGTmK7nT43LLICsXaOWMS7Z49RaHc+GYjwNpCfRdkZTCwvnGcn+eY0lu3dJ+JJ05YWEoRTWhAGxp4UFPDHG3c/YmfS62KslJa1ucrCty9VRtK0iulAGs9hZg63TBuGGGbKq/woKqKolu2InD9iiA04EoaKIuOYQMRrHriFWrJm0Jv8BKpqBy7wDolJYXat29Pr732GjVu3Jg8PT3NFs6cQLMZODDCqXXLaeXgnlRTU82tFMnDhtOdTp24yROChAZ4aCBnxw4G1vA7yitc3LudOROpKC3hJVJROeaw8zFT0u7du0fBwcEsSmFhIb388ssUERFhKolZbwcmEzv4ZmRggG7n051YbiXJ+u03nd06O5ubTCFIaEBtDaRNnEix7T7g6qVlz5xptOPH79Wummr52wXW+qX66quv6PTp0/qX65ybE1gnspOdSOutg47s51ay0ps3dXZrX19uMoUgoQE1NYBlqbHvtyOw7fEKGE0v69OFzu/czEuk4nLMYafJkbW8NImJifT0009TQUGB/HK9Y3MC6yVwsgugVTywYDa3Uj2orGR26/RftON+iJtyhCBNaqA8/uGGr138NqbEXb/KvoqTb2tvfbXUyOaw0yKwLioqolatWtGBAwekfOv8enl5MfMHhD3zzDN17mnt5Mz61bR8YA+qrqriVnRht+amaiGIgwZytj+0VyclcZCmE3FmwxpaPqC75vhA5AqyG6wrKyvps88+I3d3d3m+Ro/NCTSa0EluSDwhKRFh3Eok7NbcVC0EcdBAyqjRBA5rmEN4BazkOrhI26uqzGGnyZE1lD1gwACaMMFy4nBzAnk1nq1yykse2r52bLI1C6vTSXbr/OPHrU4rEggNOJMGmFmv1Rt0bxY/U2Ju+l1mAtEaf7V+u5nDTpNgHRgYSI899hg1a9aMXn/9dfbn4+OjL6POuTmBdSI76Yn33B9p86RR3Er3oLqaYt56m+5Om85NphAkNKCGBkqCgx9OmPPjAwFIw9sTQFvLwRx2mgRrWypuTqAtefJOc/3YQdb4BZkZ3ERj5jymTVuu3CTcKicENRgNwPsRvCDx9C96cPEvtH7cUM3r2Bx2CrA20MTZaSkMrENPmf6KMJDU5ku1/NaRkTbnIRIKDThaA4m9elPCNz25FQMOBjCxiIUBWg8CrG1oQdjq8abmOWFRlZnJPh+z1nnZUGKRRGjA8RqoLixkXmEyPDy4FSb59k02sIoLusJNplqCBFjbqFm/TeuYayCeVIvwqJHUr7+NJRbJhAYcq4HCM2fYgKMkKIhbQc5uXMscXleWlXGTqZYgAdY2ajYh9AZ7Y+OXV8hwX0aRTZoSRigiCA1oTQP3Zs5iG7zgIYZHALPfupED6dCSX3mIU12GAGsbVVxVUfHQFrbKxhysT4YRSeSrr1HBqVPWJxYphAYcqAEAZ0zbtpQ6gR83x724aDagAhe9KwQB1na04lGPRbRmeD9uLHxsjeobb9K9mTPtKLVIKjTAXwOSC6/8o0e5Cb+wczNj2Sstco0vUQHWdnSdmCuB7M3Nk28AIxO2hK+aH02rHSoSSYUGmAYy3NzZ5GJ1fj4XjWARwMYJ32nSi7kxBQmwNqYZC65XlpeR54CvuS4Lwi5GmEJKrl+3oIQiitCAc2gAnOxJgwZzK0x2ajIbSIWedJ1dvwKs7ew+R5ct5GoKqS4qpqhmzen+ggV2llwkFxrgo4GKpCQ2wMjZuo2PQCK6cmAPA+vCHH7OeNWunABrOzUcfVlnCuHp2h6ORmM//JArEY6dahLJG7AGsjduYmBdmZbGTQtbJo+hnT/x48vmUTEB1nZqGes3Pft/TaBg5BXyDhxknb807DYvkUKO0IDNGkjs14/iu3S1Ob21CTOTEtioWuvETfr1FmCtrxEbzo+6L2CmEF4c1+BViGzchDBpI4LQgDNroPL+fYp8rRFlruS3xPXc9o3Mi3lJAZ/JTF76F2CtgKaxlRWsXnduXFUgN8uySB4yhO581kGYQixTl4jlIA1IJpCKxEQuJYAz63UjBhDIm1wtCLBWoEUxosZ668NL5ymQm2VZ5O7ezUwhZYLYyTKFiVgO0QAoEhJ6fMNNduKtEDZwwlySqwXNgPXN30ZQ8M/vUujc9yjs1zYUvbAtJSz9gNI9P6TCtZ9S9cYviDZ1dNhfwNSOtKxXRypZx6cMVas7UGSj1+h+v7cdVmdH6ttW2ZXrO9D5n7rSlmF9aXW/wbS892Dy6DWAlvXqQ+69epN7r57s2KNXf/LsPYhW9h1CXoMG0OEJPSh7JZ+2tbVuzpaufMknulUgo9tw66Mnvu9IK/t2pKr1jmurB5u+oFKvDpS18mNKcW9PsYvep4j5bRh2pe0ab/M7RDNgnbB9LN1Z3I5iFr1PUQva0q2571HQ7Hfoyqy3a//C57Wh1GXtqXjdZwSF8ey8Wcs7sjf6jdn8Oknql60opmUTerCeb1156lUJWanLOtGmb/sxYHbv1Z21E8xWbj2/JPdevRhYA7RXsL8hLJ5nr0G0rFc/cuvZtU58APva/oPo7NRuVLX+c659TAld8MwjY/A7FPnaa1S14jMueqr4rSMt79ORTk3i9wxK+qza8DllrviY4dONOXVxKeSXdwnYBOy6v9dyr1r6qK4ZsNYvuHR+v6CMTkfcp8W+UdR5RSA9O+04+/vE/Ryt8o+jjEJ+bFs7fvyesGSIl2+5Qj8/NnIp9PeX1CF+H2qgtKSUNkyfS569hzBQBji79+pBnn2G0spRk8h7zXrKzso2qy/4GL3if47WTplFngNG0rJe/WvBG6PxFUPGUUggv7kKswV2kgh4BuI++ZSSh3zLrUS3zvqytkmLiuAis7rmAZ2NvE9Dt1ynl2b4MNx5a/4Z+n5PKO0JSqaIuwVUXqXcTmPNg7V+q2QVldP2K0nUY+0lpjwoccLuELqdpv7MMJwRABTS78TqF0uVc3CFxLz7HqWOt/1trUrBHJhpWlwSrRwynpkzagG633e0zd2TKiqVYXu7eu4CLf9uAhuRSyN0zz7D6Mhafps+HKhii0SXhISwgQScZvAIeDlsnTqOtnIYLBWWVdK6c3fonQVnGca8Oe8MzTseQSHJuVRTo54TYJcDa3nHiM8sojlHwqnJ7JNMqUM2B1FoSp48iqLHZcVFbPu57xp+5Orp8+dTVNNmXN0kKao0hTJLiU6kFQPHkVvPbuyF6dF7IK2aOI2ys9XbwQaAOLR9G3n2G15rLsFI/tiaHQrVSrvZ3J3+I0W1bEXVRUVcKnE3JpK1+83TJ1STV1BWSe6noqnpHB2e9PntCvneTqfK6hrVZMozdmmwlioKJa/0i6XXfznFQHv0jmBKyi6Wbiv6e2b9KvLo15V4rfEsi4jQTeLsaJgAUZhTQGuHTyG3nl8/BOnBtNFtMdU84PMASZ0nOPQaeQwaUVsOz95D6drxc9LtBvWLfQBRzV+ne7PncKu3z0o3WjGoB1WUlSouE6aM9RfiqcVD/Bix7QbdSlVv0GesAg0CrKXKF5VX0bLTMfTaTF9mY1pwIpKKy6uk24r8Zqfq/DOCm4BHwOguvms3iu/cmZutnEe9LJGx95dVtKxX79qR9Dr3+VRdo5yN0JIy6Me5HHyBlg0YRm49uzBb+aoB4ygj5Z5+NJc+z968mQ0gyqKiuNQTAyOPvl0IXmGUDgHRGdR+aQAb5PXfcJXCUtU3pxqrQ4MCa0kJGQVlNNn7JmuAdxecpZPh6dItRX73zZvJFubz2tGYt/8AeziKL19WpPzOnkn4+WBa3huAiEnD3rR4yjjKKclxmmLjBbr9wG/k0QeTmyhjT9r9k6fTlE/NgsDJADZrwTEur3D1kDfTM5j2lApYuIARNBYsfLg0gPyjM5TK2uZ8GiRYS9q6nphDHTzOswYZszOYsovKpVt2/caHBLHOE3WRz2dwTXk5m2gEwZMrh6rKSto89peHdumvaMnAweQXccZpq5xfnk9zZ42iZb36sv6wvM93FB/s2t7piy9dYgOH/MOHubQLPDat/a4/ef/6kyLy8KLddS2Z2aVf+ekErQ6Io4oqviY1YxVp0GANpWByYMXZWGYWaTn3NJswMKYsS69jdLFxwnDCUj40Po+Q4enJOBgqkpUbXfAot6UyIgJvkGfvbxnoefQeQDM9xlBhhfN7AEH7H7i5jxYPHKRb192zB+360XU5XVLHjqWYt98hDCB4hJundSuw4MXc3oDR9MCN19jgrZfXZUrIUmdey9ZyNniwlhQXnV5InVZcYA01dd8tu23Z0prPRE4OdSvvZzBnulgd4mph19SlDyfuvqJ53/anbWHbub0EldJlfH48jZ3b6+FGm060qu8oykhIVSp7p8in/M4dNmDIWMZnNVRNdTWtH/st7Zgx0e7+4Hv7HluA8OrME7TlUqKqS/BsbSwB1jLN4XMHm2uem36cPljib9fa7OqqSvIaNZh2zvzB7o4kK6LJw7QfJlN0qzdcZhlfTup9WtV3NBtNYzPK4HlfUUhGiEkdOPPN4spimuAzjpYOGPywTn3ozFo+E9E89HJ36lSKatGSqnL4zB9EBgYwPcYG2T5XU1ZZTT8eDGODtC9XBtKdTD5LDW1pDwHWBrR2NT6b3p5/ll6ecYI2X0ywGWylTTJJYaEGpCh/qSw6htkLeY1slK/Boxwv7jhWOwpd2n8wfb23C6UV8SOvf1QSZY+wpND9hjuN+QFb3b8ht55f0cbhMwi2Vy0HmN9A23t/4SIu1YCpEbuFN08aRTi2JcRlFNFny3RzVgt8Ip3GNm2sLgKsjWgmp7iCsIkGs8FYl41lf9YGTIitGzmQ9syZZm1Sm+OnTZzINiPwGt3YXFAjCWHj3THu14ebTLrT9993o8G+gzVhnzZSJYOX90bvpU+WvUvLeutG2St7Daf0qHiDcbVw8d7MWczdHMxxPELkxXNsVB15wTaqhcOhadRoli+1mnuazsVk8iiy3TIEWJtQIbaOrgm4Q89PP04fugVQzH3rJ7SCTxxlnQrUjTxCeXw8RTZqTPcXLeYhTlEZBfcyaU2fh2aP3gPpiyVtaZzfOCqv5jNZpWhlLMjsZOJJarGpBS36dii59ezM2P4C13tbkNK5osBdV2TTZpT+Cx8OaZgY148bSlunjLV6VA1T56zDt9kgDJQU6fn8uIPsbTUB1hZo8PKdbHrj1zPsTXz8lnUbHPB5i0kQfLKBGJ1HYLbD5q9TZQafUY4SdYo45k+ePQfqbLkDR9Pr65vR1PNTqarG+i8aJcrDK4/zqefpje1v0OQZA8mtVw+2mWb32DlWgxCv8hqSw77m0N/uWfdsGMrLkmshvroBUIKVk/cA5m6rLzKg/vVYBLdt4pbUyZI4Aqwt0RIRYVmP1NDY+QjGLUuD5FT31tmTliaxKx6zHzZpSnd/nGFXPjwSw+zhM9uTMeKxXX9TplPTLU0bBFBL+r109xK12taKhqzrS8t6Y4lfJ/LqPZpKMtTjNZFk2/tbcv06myfJXLHS3qwsSl9RWkKrh/WlvT9Pt2ouCXsqQLgE08exW3ctkuVskewGa19fX3rllVfoxRdfpIULF5qtnzmBZjNwYAR8Qs14OHOMrad5JZZNCgGQds2czLzJoLPxCBlubuwhwsPkrKGmuJi2Dfj+Ia90b1q10YMB9ZRzU1x+RK3fJhhht9jWgvru70OeA6GTTrSi52BKOHleP6rTnD+ormZUB7HtP6SaUuU5OQxV9MKuLUw392KjDd02eG3H1SS2jwIrvGwxZRrM1AEXzWHnY6bKVF1dTS+88ALFx8dTRUUFNW/enCIiTHPJmhNoSp6z3Nt9LZk1/vuL/Qnrsy0J6Fx4AC/s3GxJdLvj1JSUUNyHH+k4Q5xwpUFuWDit/Ua3ZXxZ3+G09/J+aralGY0+O5oqayrtrr8WMzibdJaab21OI86MIK+p7uwlBu6T83OXWzWK5FX33D172YCgwMeHi0jw7izr04VOrLJsUxEGV9MP6JblDdp0jfJLtN2vzGGnSbC+fPkyffbZZ7UNtWDBAsKfqWBOoKm0znTvRlIutX74WQWaREuC7+plzOtyZjIf56FwShD56muU5fWbJcXjFidi/Q5a3nMAe3l5fjeDLiVfYqPKgScGUmkVnxEat8paKWh/zH72dTEjcAYd2eLz0I7dlfb3H0/VBQVW5qZe9IrUVLamP6n/AC4vEnydwvSxakgvKsk3z3iXWVhO3dfoOO0X+UZZZbZUT2v25WwOO02C9b59+2jo0KG1Jdi2bRuNGTOm9tzQgTmBhtI46zXYsb9apZuw8DgTY3bXU2lhAbO3YccVr8lGbP+NatacSsPDHa5GjPbPjphC7j0fri+et4Hi8+Lp3V3vUpdDXaigwnnAyJHKWntzLQPs5cHL6fbNeHLvo1vet+nrb6kwhM+qIlP1f1BVRYl9+lL0G28SVoLwCBHn/djL/dYZX7PiQF8KxwDYjXjkpjbt04YqaQ47TYK1t7d3PbAeO3ZsPTleXl4EQfh75pln6t3X8gXsgJq0V8fgN3zrdbPrsaX1oTeOcyK6yc2l2A/aMxdLjhyZwQv7vq4Ana/IrVcvOnUokLJLs6nD/g7Ubk87l9jwolQ/xihyzqU5DLCP3jlKeXlF5D54EgOr1T0GUfzy1Q5dLZK1Zg37Yss/elSpKpvMpzgvl1YP7UM7f5pktt6HQtIIBEzvLfSzaweyyQI56KZdYN2QzSDy9sLDtTEwgV740Yfg+9EUAQziHlz0M/Mok3OXz6ikJDiE8YakjOHnH1LSDyah0td60cauumV5bv2GUWx0KlVWV9KAEwPYsrWwzDApuvh9qAHoZ8jJIdRyW0sKzQglzA+tnOrJ1mN79OxDl/oN47ZUTt4oRRcusJ2KaZN+kF9W7RjPy/4Fs8mzXzeCzdpYqKquYa61sImt57rLijFoGpPniOt2gXVVVRU9//zzlJCQUDvBGG7mc9ucQEcoQSmZF+OyGBkM3P6Y4r8tzMmiVUP7MJ9xvLYZZ2/SEcJjlQgeAB4BSwjD+gyild/o7NNu382gokKdTXru5bls5OibYP6zlkdZnVEGKFY7HujIvjzSi3XzIt4bYceGh/ZudPzTrwlUpLzas/R2ONsdC2cXvNx1hZw8xr4oQk8eN9pEucUV1Hf9FbZ+evbh25pbP220Yno3zGGnSTMI8vLx8aGXX36ZrQqZN2+eXvb1T80JrJ9CW1dSckroC88LjAwKrsSMOdC8c+Ma64R+m9ZxqSAe6Htz5rDP18yVq1SVidE0vIX4t/2UlvXsxUwfa+durAWVfTH7GFAvu7FM1XK4Quaw6b+14y3q69OXKqp1S0WDLkXS0j669dg7OvWhxGHDVbcd48Ub06YtW2HEa7NVVnIiG1EfWDC7tu/otykcYcPkAR6fvdeNj7z102nx3Bx2mgVrayttTqC1+Tlj/NKKahq/O4S96YduCaL8UsNLhgK2/sYAO/bqJS7VAOENHJlihUjmqlVGHwB7ClMSHEzx3brRgU/guFZnnz6+95EThttZt9nKjxGnRzjcBZc99eSZ9lTiKfZy+/XKr7ViszLyacm3kx/asQdQaKvWlL1hA9WosEyz9NYtinmvDcW89TaBBpVHKC0qpA3jhjHHArBZGwre11OYfRqTiWo6wjYk2xHXzGGnAGsbWwUj2U0XE+jFH32o3RJ/Cr9b33cbOA52zpjE7Nf3E/g8BBj1Yjs6ABsrRZT6nK1ISiJQtIa91pi8uutGfUv6j6ToiEejHXzWf7bvM/aHYxEs1wCY+rCzExOOUqiuqqYVP66q3VR0/q332URyge9JsxNxUh7mfgtOnqKo11tQ3MefEHhneATwVMM1Hvwqwmu5fsCk/rT9t9hgqLfXFcpSyMOTvhxnOxdgrXKLYJvrW/PP0Ms/nSDspNK3L2LU4DV6MGPngy2bR0AZmA27cRPmL6/oQmC9cllajvLYWLo7YwabdLr8dlty792fjfbcxsyjkuJHJDmQCVIm7NK7lXnL0uxFvIcaAEfKIN9B1HpHa6Br1hEAACAASURBVErIT6ijl4Pbz5Jbr57sS2ZP1wEU8eprFN/5S8o/fpywzM6WUJWZSWkTJ7GXekLPnlSVnW1LNlanQT+RvjgN0TMkZhUzMyMmEsE9j4nFhhIEWHNoafh2xPZ0dLCxu0KooKyuWSQzKYGWD+xB26aOp7JifuTnJUFBbMSEUXbS4MEEh7uWPNzVeXlsYitpwED2MGMd955hk2hpz27k1utr2uZ5oJ5Wt0VsYyPD7RHb690TFyzTwP3i+9R2d1vqfqR7PSbCyLAkWjrgIWPhwDF0+4tOrG1i329HGe7LqDwuzqIXckVKCosf/WZrtj4f5jI1TCvGanz14F7dXM7m+nM5WJbXeJYvNf/5FJ2NvG8sC5e9LsCaU9NiohETjlje12aRH91IqutNAwxi2EoLs0h5CR/+EFQdD2LO1q3Mbx5AO+bd9xgBVPbGTVR45gxhqVbh2bOU6+1N6fPmU2LffmwUjbjYzp64fCUtHjGFPWBL+w2noMD6n63ROdFsCdpYv7EWAQanJtGkGHCIwBwy70r9yfyykgry+N6NLe9b0rsPnXb3opQRIxllLtortt0HdHfqNMr67TcqOHGCigIvUqGfH3vx3l+wkBJ792EAD4pdLPOsSOSz01ZqCMlZh89KtzpmnMKyytq9DKA1TctrmLtcBVhLPYXTb3ByLrVd7Mc4specjKLyqke0qXFBV9h2dJA+8SJ8kqoNIh7YOlO//55NJOHh1v+LatmK8EkM57ylYWF0/LA/Le7TR8fFPGYRFeXXf4jKqsrY7sT2e9tTbpnhiSKpDOLXMg0sDlrMAPtC6gWDCQ5uPkNuvfvS0p6dyf3HJVSYnELg8Uid8D2bKNRvV5xHNX+dEnv1JqwUqky3jD7BoHAbL7Iler0608HFv1C1zHRzJT6brfYAp7z7qegGZfbQV6UAa32NcDjHSGGyt27XYweP83V2WsVcvUjuvb9ka7CLcvjYCQ1VGaaO0rDbVBoayraqgwtCcp+Ul19Ii3+AN5dO5Na7H3n/dsroiHnB1QUMWC6l8VnxYqgurnYNzhi6Hu5KeAHmlRnmyUiIvU9uQ6axNlrYbxAFBt6oVUN1UTHBBRxW7mDtNCYOH1TWNc3VRlb5ADbqS947WDkPLZlb696suLyKfj4aXusPFVw8DT0IsHZgD4DdDRy7MI3MOx5BJRW6yaCEkOvMhr1u1CDiRfpkqRoOHThFi/r0Zg+X+7ezKCnOuIODy3cvM6BedI2PXz5L6+AK8WBawmTtxADjnr2rq2po4wJvNvmIUfaS6QsIL1pnCdgQdnLtctaXfNd4EFaBIMDNFkyFmOOBVxcAtwjE6DpM6UEs3TOlHQXugbZx+gHdMiQs7ocnGow2MhLjad2IAbR8QHe6HXDG6MhVgSJYlEVkdDzNH6njWXbvPZB2ehwngIGxUFRRRJ/u+5Q6H+xMMIWIoLwGNt7eyF6Gx+ON7+6D1NvXksh98AwGiov69KJdOw5RjY1OZpWqRX7Gfdo+fQIr08U921j/xoay77ZdZyANN3pBiXXndZSSrdV8xMjaSVruWkIOwSSC0cQ36y7TzZQ8ghkEtJAwNxxfvoSwUYB3yMjMJrc5i2kpNrj07Eoe3y2hxEjjo2mpfCAiAjfzzcyb0iXxq7AGqmuq2c7GNrvbUFap6WWfFWVVtH3xsVoGv1+HDKfzF64pXCLz2WEggsHHyiE9aeXgnhR3/SrbNAYaUxAwgSlvlX9cnbkc87k2jBgCrJ2oneEqDGuxW849zUB72NbrFJ6aR1f272Z2bDCP3fY/XWs7VrPoGRlZ5LloOS3u1VU3gdh/KvluDaLqSuOjaak8sE9jxYLYTi5pRL1fbEeHSzCYQywJSRFZtGLU6ofrsjvR3JHj6OJFPt6EQFyGzS4YfOyePYVSk5JpdUAcW4qHQQp2/TbUlR6WtJ0Aa0u0xDlOUXkVrTgbSyCEQifGGm3fczdo1yzd9uJt08YTtqhLE35KFi8yIpqWzJpHi3thJN2JlvX7nrbM8aGcu8UWiSmpLGG0pzB/uKpXcosUwTHS+rD17OUIb+mWBLxwA7zDyWPw4ofODTrRL8NH0MF9x6hKhYnGgswMZpvGxPmKQT0o4PAhWnQigprO1vVveHEBx4cIpjUgwNq0fhx6F/ZsfBJiEhKg3W6xH3ms3UXrxgxlQLpp4ki6fvQAFeXaZ9vLuJdOOzbtoLnDh7N8YfLw6D+d1k44RLFB962yly8JWsKAI/h+sEN115CEY3djz2M96YM9H5A12/jzM0vpoGcQeQ5aSkt792NtP79vD1r2y0K6eSPULgcZWH6HifJDS35lX4XL+nahTW4eNHxdAFu2+tz04zRy+w0B0lZ0VAHWVijLUVGxFvtgSCqBBwGg/dzUozTop3XkNmYUe8Dce31Ju2ZNoYt7t1PirRDCtnXYBg0FjJyyU5Mp4MRJWr1gKc0fpgN+jKIX9BtEHoOX0poxPhR0PIEqKx6tATeUl/618KxwZqf+5fIv+rfEucoaiMyOtFn3KVE5tGvuVVr+7QZaMnASLWbzE51oYd/u5DZtBu3ftovibt1iu2uN9avKinJKj4uhW2d96ZjHImaPRp9yH9SLZvy4kN6Y5s36LgYeS09GU2ouv41fKqueW/YCrLmpWhlBydkl5HX+DmEnF0Ynr0/cTr1HzKaZQ4axTRB4QNhD0u9r8hg+kJaP+Y48xowkt+GDafHA3rT04X3EWdirC/04eAQtGe9OK7/bT2vG+NOFPTFUUmCZ13Z5jTC6++boN/Th3g+psIL/RKi8LA31WPqqCcmw3vXXg5oHFH01nbbPvEwrvztBy8d60eyR0+jnPuAc0fUp/C7p05WWDBtE7iOHkeeYEbR81FByH1g3zoJ+Pem74ZPpw7Er6PmpR5iLrR8PhtGlO1ku4QvRUf1LgLWjNK+AXFCvBkRnkNupaIJLsc8WnaT2E72o86hF1H/YdBr27UQaPXgMjRk0mkYMGU+jRkyl76ctol+WbaFN2/3o4OoQWjPKn4F0wM5oKsiuvwPR0mLuiNxhld3U0nxFPMs1gPkCLJfEhhl4mrEl1FTXUMTFu7Ttp0u0aoQfbZ99mbx3XiO39QdpymxPGjt+No38dgKNGjyWRg8eTSMHj6OBQ6dSj+9+pk/GraCPZu+nHmsusvXRu64lM69JxkbjtpSvIacRYO1irY8HA5tr7uaVsk9NzK6DQhIrTTB6SgzLoiOeIexBXDf+HF3YG0NFufatg8aysXd2vkPDTw03an5xMTU7bXUCUgLYS3NL+Ba7ygjQxkh71y9XWV/ZPO0iBZ9MorLiStbG6GPp+WWELz30NamP2SVUJDapAQHWJtXjGjcrSqvoln8K7Zh9hT14m6YG0vUTiezBU6KG0y9MZ0RNifl8iX+UKLsr5jH67GjmXSazJNPu6uHln3Q7mw57PHzBjw0g/+1RlJXKjx3S7kq4SAYCrF2kIQ1VIze9mM7viiav8ecYSHsvvE4x19JN7jw0lI+pazfu32AjueXBy01FE/c4aiC5IJm9PKddmKao1Oy0IgbUa8cGsP500C2Y4m5kEEbhIqivAQHW6uuYqwSYOjASOrI8lD1QmDQ8symC7icUKF4O7KDrcbQHfbLvEyqtst3erXjBRIa0ImQFe4niZap0gCkk5FQybZ2hs2tvmX6Rbvgq96WmdHldJT8B1i7SkuDpiLx0l3bOkZk6fBJsWtlhqUokx7fCQ7mlGuMXDy9PvESxQgcvVTUCONoTbmY+MpGMC6Dze2KoIEu8uNXQtwBrNbTKMU+AdFhAKmF0g9n7PfOusYkhUyRLShQPy/Pa7WlHA08MFJOKSihUhTx84n3Y6Ppg7EEVcq+bJWzYZzdH0JrR/myFkd/WSMKmGxGU04AAa+V0yTUnmDuwu1BaYnVgyQ1m/uC1TGpp0FJqtqUZRWRHcK23EGa5BtAX+vr0ZbzXxZWW0QVYnrvhmEW55Wyt/toxAQy0sW4fZhMR7NeAAGv7dcg9h5x7xXRg6Q02kt499xolhWdzHd2mFKYwLuWZF2dyr7sQaJ0G4JwYpFq8J4CL88opYEcUrR7pR+snnqfb59PY0lHrSi9iyzUgwFquDSc/ho0Q28DxqYkHAJsXMMLmHSafm0xvbn+T4MBVBOfXAFaFvLH9DUov5u+uCytIDi3TLfs7tCxYmEbs6C4CrO1QHs+kGKkccg9mo+lTG8JVnTg0Va+wzDA2UsNqAxG0oYG7RXfZUj5HfQnBHBN+IY28Jpxjy0ix3E8E6zUgwNp6nXFPkR6fTxsnX6B14wIo6vI97vIlgXjoMKGIiUVeNlBJtvi1TwOYY4AziNjcWPsysiN1YU4Z7Vt0nQ04Lh+MI3wpimC5BgRYW64rh8RMuJVF68YGMIId2KodGaStzHui9jiyGEK2DRoAdeq7u94l7G50ZACXNnZAYuWS77owRTdoObJePGQLsOahZRtlRF25xyZovBcEOczsIRW95kENdTvSjToe6EiVNWJ2X9KLln4ln41B6UEOL3bomWQG2MdW3aSqSnXWgTu8kgoXQIC1wgpVKrv4kEwG1OBkgP88R4dj8ceYrRprd0XQpgbguPgj74+ov09/rquHjGkLK0RWjfRjxGJq7wswVgYtXRdg7YStlRadS1inCvteZbnjRx2g2/x8/+fU/Uh3wghbBO1qYG/0XvbSPZ963ikqgV23MImc3RLhFC8Qp1CKkULYDNaTJ0+mV199lZo1a0Zdu3alvLw8IyLqXjYnsG7shncG8iXMmmPbeFmRc5gbYKPGWl1necAbXq9QrsYwYeHFC04XZ3nxXj0azwAbTJAiGNeAOex8zFjSU6dOUVWV7vN86tSphD9LgjmBluThqnGqKqoJm1w2TLpAmDl3hgCntx/tdZ5PZ2fQidbLcPTOUfbytdTBrtr1xSojLEfFCBtcIyIY1oA57DQK1vLsDh48SH379pVfMnpsTqDRhA3ghv8O3Sw5WPOcJUgeYK7eu+osRRLlsFMDIHbqcqgLfXnoS9VInqwtIiYZwWuz4YcLVJxfbm3yBhHfHHZaBNadO3em7du3W6QwcwItysQFI8Vev89GFpcP3nGa2mFCCj4VB/kOEvZEp2kVZQqCUTVMWycSTiiToQK55NwtJnBlH11xU/Q3A/o0h52PNWnShPT/Dh8+XJvVvHnzmM0anzLGgpeXF0EQ/p555hlj0RrsdRDdYNMLnAM4E5H7toht7IF2hqVeDbZzqFRx2Kvhq/GrQ185zegaVb3ln8oGLWCSFKGuBsyCdd3odc+2bNlC77zzDpWUWO5W3pDAyspKSkhIoMjIyAb5F3L9Fl0LDKHbYeFOU/+IiAjyv+5PgcGBTlMmS/sH+hL6lAimNeCMo2sM+uA4A5PsJQUVpivQwO4awk65CoyaQXx9falRo0aUmWndhIAhgXi4srKyGuSnT2V5FWUkFTjNhKLU+Nml2RSeFa65beV42NGX0KdEMK0BZx1d590vYWRlftsiTVeggd01hJ1yFRgF6xdffJGeeuopev3119nfiBEj5OmMHhsSiBGTKTOK0cw0fgN1hp0OxO3OxJOAhzg6J5oS8rUJeNAr+pQI5jXgm+jLTF3O5u3n4v44tmEGAxkRdBowhJ1y3RgFa3kka44NCWyoDxZs1eiMzkbOnlOWw0bVRRXa9WDdUPuUNc8i4mJlSOeDnenrI1871YCpvLSKzePsX3zDqcplrX6VjG8IO+X5C7CWa0PBY4z+wPWbfbfIqTojRtUxuTEUnxfvVOWyVvUCrC3X2OG4w2x0fS7lnOWJOMSMCNTtbowPtc7UyqFoDhEhwFpBtYeEhNDQoUNZjseOHaPZs2cbzL28vJw+bP8hNWnUjLZt3WEwji0XDx06RJgYlMKsWbPozJkz0qlFv3lleWxUDR+LWg4CrC1vPexq7LC/A3MB5kzmSKyMgts6rJJypnJZrlllYwqwVlCfPXr0oJs3b7Ic0blatGhhcKXM5cuX6d232xAoT5XshIMGDaJ9+/bZXCOUJS43juLy4hQtl80FsiOhAGvrlCdRCjjb5idG9jTCj1KicqyrkAvGFmD9sFG3bt3KeE6aN29O/fv3Z1eTkpLoo48+Ytfxm5yczK57e3uzteeI+/7777NrhYWF9MorrzzMTffz/fff0969e+tcy8jIoBdeeIH++tf/pubNmtOdO3fo2WefZSsYEPH69ev0wQcfsDRz5syhIUOGsPPnn3+eli9fXpuXfnkvXbpEf/vb3+i5555jE77IVw7eZ8+eZS+Ppk2bsjwxukeAbHwBtGzZkho3aUxHLx8lcB9rPQiwtq4FQSvQfm97GnpK92VoXWr1YmNn46apgcw1mHpStJGz04H1z0fDqee6y4r+IU9TITw8nAEtlnwh5OTo3uLYmYm15AgbN26kLl26sGMAXlpaGjuWCKz8/f3p66+/Ztekfzt27KCxY8dKp+wXo9cj+0/Qpx93qB29mgLrd999lwCsKNvf//53tn7YWHnl4Axh0nlZWRlbuRMTE8PKMGDAAPLw8GDHkL1ixQpWll+W/kI9+veoLReLoNF/AqytbziJ7zo82/TzYn3O9qUIOa3jvobHpIYcBFgTMbCaMWNGvX7wj3/8o3ZzBTZZ4BwByxQ/+eQT+u233yg7W8fjsXPnTnZdnsnp06frATjWVR/cfZw+7/BFbVRTYI0dolJ47bXXKDU11Wh5JXCW4kvnMM1IXwC4h1F2t27dWDTIxosHbrp2ndxF7T5sJyXX9K8Aa+ubD/MUb+98m+AQ2ZkC+NzXTzrPPMs4U7l4l8XpwJq3AiAP5oWffvqpnmh9sP7nP/9ZG+fq1auECTysNQdgg8wK4CgPR48epX79+skvUUFWKR3a40MdO3aqvY416zCPIAQGBtYxgyxdurQ2Hrb9JyYmGi2vBM5SAuk8NDTUJFhj1J5UkET7zu6rlS3lodVfAda2tZz7dXfmqzGlMMW2DFRKdXFfLK0Z5d+gdzUKsCYimBVefvnl2lGyZAb58ssvadu2baz7bd68mXGg4AT2YClgEhFgGBUVRW3atJEus183NzdauHBh7bXq6hrKSC4gnyOnqFOnR2D98ccf04kTOkId2LnlNmtDYG2svDC5bNq0qVaeBNYwgzz99NMUFxfH7uG6p6cnO8bIOjU9la0AOR14ulZ2bSYaPRBgbVvD3S++Ty22taB5Vx590dmWk7KpwPMOCtXgk0nKZqyh3ARYP2ws2KYxcsWkIcAMAaPYDz/8sN4EI0wIsFsj/vjx42ttvLiGiUYpAJDDwsKkU0b9iE0wZ8+crQPWFy5cYC+Ltm3b0g8//FALmJhgNATWyNBQeS9evMgoAPACsWaCMSwxjCKzI+nKtSu1smsLrdEDAda2N9ysi7Poze1vUm5Zru2ZqJDyoFswcxz9oIF6RRdgrWCnWrZsGa1fv57leP/+fbaSRMoeE4vYVg7eA2cKcNkVkR1B94ruOVOx7C6LAGvbVXgn7w7bJLPu5jrbM1EhZfTVdDa6Tm2gy/gEWCvYqWBukMwmQUFBzDwiZY9JEra13ElcdUnlwmcvCJuwdMuVggBr+1pzxJkR9MGeD6ii2nmY7+BJaf3E83Rq/W37KqfR1AKsOTVcYXYZZSYXOhVhE3ghorKjKKXAuSaTlGgSAdb2afHy3ctsdH0o7pB9GSmc+sKeGFozxt/p+HQUrqbB7ARYG1SLshdhAslMKaT8zFJlM7Yzt5xSHWFTSaVzmWbsrBZLLsDaPi2iz3Y70o394dhZwv3EAmYKibzkWmY7S/QrwNoSLdkZp7xEx66HX2cJeABjc2M1T9hkTJ8CrI1pxvLrGFXD9delu5csT6RyTPTbrT9eomMrdbQOKotzquwFWHNoDqytxsjamUYo2AABW3VeeR4HDfAXIcDafp3DXg279eizo+3PTMEc2Jrr0f7kTIMfBatnNCsB1kRsfbXkROGJJ56g//znP7VOFSoqLJ9gqaqqoscff7yOsuFUALbqgmzLTCDYFYklgFhCiF+w91kTsDlnyZIlZpNgEwwcDIAS1ZqAzTtYB/7nP/+ZJkyYYDSpu7s7YcLVUUGAtTKaXx26mo2u0V+cJaQn5DNTSNSVhmUKEWCt1wP11zbr3TZ5agisJQcDFaVV9dIivjyAOAqbc6S12vjFWm9Lg35+xtKVV5WzUXVmifU8wUVFRYT13CtXrjQJ1k8++SRJvCnGyqF/3dLy66czdC7A2pBWrL+GPoJNMouuLbI+sUop8IW6ZfpFOr6qYZlCBFjrdSh9sAaZU6tWrahx48a1a6jXrVtHkyc/4k9Ys2YNTZkyheRgXVNTQxMnTqRGrzWmRq82JjD1IYBfGjsWe/XqxUbOcvHXrl1jHuCRVj/ExsbSZ599xsoCng+JlAnb2SdNmkTt27dnZcA6b2nEi7Xe2MCDRm7dujVduXKFZbv3+F56pckr1Pz15oxtr7i4WF+c2XO5HP3IWG/++9//ntUPdUXADk04Vwa7X8+ePUmSCVCfO3cuvffee0xH2AUKvWGDEHx8goWwa9eu9NJLLxHaBgEvsc8//5x9fWBjkiFaWAHWTFWK/Jt2YRrjDAF/jLOEQO9YtioEHmUaShBgrdfS+mAtbT2HB3eAR25uLgML0JxKI0EAIUj/5WC9Z88e6tChA91PzKOY2wmMQwQmBID1X/7yl1q6Vbl4pAe4PfPMM4zGVG4CARhL29wxsv30009ZUoA12AAlgJeDKEBRAmiM0AFsWK7X9uO2dNTvKEuPkXJ1dbW8GBYdy+UYSiAfWaPe7dq1q+X2BjnV/PnzWTLEg8lECgBriVQL2/VxHy8dmFT+/e9/s9E6dDty5EgpCeXn12djE2Bdqx67D8Iyw5gpZGfkTrvzUioDMPBh+3l0AzKFOB9Yn5hGtKmjsn/I08KgD9YzZ85kIzjYkP/617+ykR6yGjx4MIGoCTwdGDEiyMEaPB0bN2yu3QjTu3dv8vHxYWANxj5jAZ94AFiAGTisf/31VwZQf/zjH2vt6LCvA3gRANagYpWCHERBqSrZ4vELW3xqTiqNmz6O3nr7Lcbed/fuXSmpVb9yOYYSysEaHmxAgiWVBS+94cOHs2SIJ9HN4gLAGiRZCKdOnWIjaHZCRKCLvX37NnOGC97uadOmMZOMdF/+K8Barg37j/se70udDnayeo7DfsmGc8CW801TAulkA9ogI8Bary/IwRqjYIwIS0t1k4MAErDiIWB0C/5qmCC8vLzYNTlYjxkzhn5bu4GBNdwTycFa4sXWE13vFKANng+M5sHuZygArAGGUpCDKJwRyCdI8SJgy/Xy4+nWrVu0YMECBuAwscgDWAglYJXYAOX3cSyXo38P53KwxqSn5NBBP648Hu5BxyDGQoD+5bqS3wPTIXaLAsClUbo8bwHWcm3Yf3ws/pjTLeM7szmCUadiEr8hBOcDawdrXQ7W+/fvr2Xawwj6D3/4Qy1Yo5gANLDZSZ/hcrCGh5hPPvqMstIK2Gc84klmEDkAyasLrmoJqHB97dq1tWAFUwtADwEmD8l9mCmw/uabbwj2YylcCrrEJhZDIkKkS4xQSm5uqb1h5sAcWIN7OyVFtzMSZgzUPz4+nuUKe7X0grAFrDESlzzdwF7dvXv3eqUVYF1PJXZdwDK+93e/T+P9xtuVj5KJY4J0XCH3EwqUzNZp8xJgrdc0crCGnRSTejCBwP6LiT1pZI1kMFEALKUgB+vKiioaMXQMNWrUmE20SZNg+qNFKS1+ExIS2EThq6++ymTCLo1rCAA6qSwAQskpgSmwzszMZEDWrFkzZm8fMGwAReVEMScJMKPgOtLLR9/y8hg7BsBi1P5f//VfbAQdHR1dLypeEnBzJk0wwhHDm2++WWtSOn78OEtjC1jDnISy42WJl1hwcHA9+QKs66nE7gseNzwY17WzkH6VFlXQqpF+FHRc94zYXUEnz0CAtR0NhAnEc+fOGcwBHQnETZUV1k/eGczQzosYGWETDIibGkIQYK18K6cVpVGzLc1oefAjX6DKS7EuR+8FQXRgyQ3rEmk0tgBrGxoO9lKsh4Yd2ljIzyxhlKjOsmtRYtdzJhY1Y7pT4roAayW0WD+PsWfHUrs97QjUus4Qrhy+Q6tHNYzdjAKsVehxAGhsL8c2c2cI2KWI3YrJBTrv7M5QJrXLIMBaHQ0HpgWyiUafeB91BFiZ693YPLaE706wzi2elck1FV2AtQrNBd5dmEBgCnGGkF+ez0wg4ANpKEGAtTotjRd/h/0daMjJIeoIsDJXuMrzmnCO/LdHWZlSe9EFWKvQZiUFOnt1dWX9nYgqiDObZWJ+IsXkxDgVkZTZQtsZQYC1nQo0kXx92Ho2uk7Id46JPZ81txgTn4kiu8QtAdYqNKNkr1Yha6uztIcHxGphTpRAgLV6jZFVmkUttragJUHmCcPUK8WjnG/5pzBTSGGO44jDHpVGvSMB1grr1tns1enF6RSRFUGVNc4xIaSwuo1mJ8DaqGoUuTExYCK12d3GKdzBgdUSW89jrqUrUjdnzUSAtQoUqfbYq5WkSIV9EeuqUwqVc9vl6+vLyJhA3wqCq4CAAIN9W1CkGlSLy1yU3H5hZ6OjA3YIw259bmf99f6OLpuS8u0G66VLl9Jjjz1GWVlZFpXLkEBnGgXJN8VYVCFZJGlTDMC6ygJ7NeLLg9IUqdLEYlFFkVyMXcfYgHLvno5HGLsojW2D19/sYolQfX1YksZYHGfqU8bKqOXrGAh8ceALGnhioFNU48jyUNo9V8cp4xQFUqEQhrBTLuYx+Yn+MbYTY1cdWOJcFaytpUj97/9+nK2vBpMdqD6xUxCjUPkORuzq40GRGhQbRJ92+rQeRaqfnx/bSYgdgKAslehK9dvX3Dm2vf/P//wPVVbWNbEIilRzmnON+xvCNrCJRkxgOzpgFyN2M4I/3lWDXWANTgaMrp599lmXMuEQgQAAGpxJREFUBWtrKFIBWgBrrK+WKFIB2unp6dwpUrH5pUOXDuQToFsPK1GkoiODC1pitrOVIhX57N69m9HAGno45CNrQZFqSEPav4aJxte3vk7uNx5R3DqqVqnRucxunRhm2Re+o8ppj1ybwfrIkSM0fryO1EVJsIZHisG+gxX9s8bLhb4ZxBqK1LLScvrvvz5OpYUVBIrUrVu31raNnHWPB0Uqdiw+/rfHmYMBiUEPFKlgEASnCWhdV6xYQbZSpIaFhdGLL75Yy11SW9GHB3KwFhSp+tpxnfNxfuOYn0ZHT2CD1mHNKH+6fOiO6yhXryZmwRqf8fp/hw8fprfeequWbc4cWHt5ebFPcQiDyUQ/yO2LzgTW1lKkFuaVMLDGphhQpBoDa2Ose/p6sZUiFS9R7Fh8/H8eN0rSZA9FanJyMvPcIjk20C83zuVgLShSDWnINa6dSznHTCFnk886vEL7Fl2nA0tdlyfELFgbagGMqv71r38x8weA+ne/+x2jwMTnvrlgSKAcrM2lV/u+fGRtLUVqbkYRM4Ng+R4oUr/44gvmhUWiCOVFkTpq7Ci2Y7Fr9651KFIl+lXJ4wx02alTJ6uc8oJbGzZ4vLBNBUGRako7rnOvqqaKPtz7oVN4QIfX87VjAshZNqMp3cqGsFMuw+QEoxTR3MhaiodfQwKdFaytpUjNSMlnYI16YvLN2ASjsZG1UhSp3476li3Zu59xvw5F6ujRo1lTwCWWrRSpeJnBLZlkWsEviK30g6BI1deI656Dha/51uYOZ3SMD81kdut7d+q7eXMF7RvCTnm9GhxYyytv7lhOkQo3QxnJBVSU69hdVBjpRGRHEDbDNOTgTAMAV2+HlIIUZgrBNnRHBtA8YHNMyGnXJCxTBKytaSBDArX2YBmiSK0s15E3OXrpUHZpNjOBlFU59qVhTZ9QI67W+pQaOuCZ5yDfQdT5YGeH889smX6RTm0I51l1brIMYadcuEUja3kCc8eGBLrCg1VS+JC8qcpx5E2wlcflxdGdPNedETfXv6T7rtCnpLpo4fdg7EE2ug7N0PnPdFSZQeq0Y/YVR4lXVa4h7JQLFGAt14aJY6ytzkotdOjIorSqlI2qc0pzTJS0YdwSYM23nUsqS6j1jtY059IcvoL1pLHNMSP8qKK07u5gvWiaPBVgrVCzZd8toryMEoVysy0b+MaDvRp264YeBFjz7wEzAmfQ2zvfJgwaHBWwKQZ267SYXEcVQTW5AqwVUG0NJheTCqg4r1yB3GzLQg3SJttK4hypBFjzb4eg9CBmCnEkuZM0yRh6xvUmGQVYK9Cn8ckFsC534KdXQXlBg/MGY6rpBFib0o469yQvMkNPDVVHgIW5bp7mmpOMAqwVoEgtzi9nYF1RXkGPP/64hV3KcDRbKVLhXxG7Fg8cOEBLlqhHCn/58uVaEqjmzZsTaAf0A9aYL1y4UP8y13MB1lzVXStsdehq5gHdkUtHj692zUlGAda13Ux3IN/BqHfL6Gl+ZillpxWRRJFqNKLeDX1KUFspUqW11an5qXoSlD8tKSlh9UTO4BX53//9X7YBSC7JWj1IaUF6pVQQYK2UJq3LB4OGpluaEhj5HBUkBr6KMteauxFgrdej9MHaEorUJQs8aPyY7+uAtakdjEpTpI4aP4pat2lNE3+YSOvXr6cJEyawWmGbe7du3VSjSMW2dYC1Psj+8MMP9P/+3/9juxwHDBjAyrJlyxZq3bo1uzZq1CgG8BKo//TTT+weRu3gFJkxYwa9/fbb9OabbxL4sz/99FN64YUXCF8dCGlpadSmTRuWF3ZiXrp0iV2X/xNgLdcG3+P+Pv2py6EuDlsZJU0y3o11rUlGAdZ6/VgfrM1RpGLnYovXW9H1K6F1wJonReonHT+h2JxYVhM5WPfs2ZMksiUlKVIBjo0bN2bbzg2ZQSQQllR7+/ZtwhZ76Uti+PDhtHPnTnYOxxUw3UgBYC2BMpgLW7Rowfi28eJ54oknWLRFixYR/hDwogDNq34QYK2vEX7ne6P3stE1ViY5IsAsiRUhrjbJ6HRgnT5/PiX1H6DoH/K0NOiDtTmK1NCQW/RGy9aM9FwOUrwoUnv36U2L1i4icAsjyMH673//ex0ODyUpUiErPDycsS9WVFTUUa9cD7jh4eFBkC3xibzyyis0d+5cBtZ/+MMf6ozAANYAZgQvLy8Cj4kU/v3vfzNghvOEl156iX7++WfGpy7dl/8KsJZrg+8xPBS13NaSrKEmVrqEm6cG0umNrrWTUYC1Xi+Rg7UlFKnjx06gpQs8qaqyus7ImhdFavde3Wn51uVUWa3zkCEH67/97W+qUKTKVda2bVuS2Pyk6/pgDVInvPT0g3483JdTq8rron8PphCAOcwgO3bs0M+aBFjXUwnXC3Co225PO4c5asYk4845rrWT0enAmmuPMiBMDtaWUKQ+9eRTdOd2KhsdysGHB0Uqtpd/+c2X5LXTq7YmcoD75ptvFKdIBTOgZKPG8f/93/8RaFP1A1bFQB8IoNTFaFpy/QZuFXBiy/UlpbcErDERK5UBPkBhI9cPAqz1NcL33D/Zn5lCzqee5yv4obQrh+4wZwSuRJcqwFqvK8nB2hKK1G+696Kce8UsFzn4mJpgVIoiFVt8O/XoRDv2PhpZysE6MzNTcYrUzZs3M3s1TBrwbm7IZg1lTJo0iRo1akTSBCNs1EjTrFkzli4oKMhmsN64cSMbUcOejZE9wFs/CLDW1wjfc3zptdndhqaen8pX8ENpMdfSmd0aq7RcJQiwtqMlQZF62PsEFWQ7Znvt3aK7bHt5dY1yS97sUIdTJRVg7fjm+OXyL4wvBIMK3iErtYiBdWyQbv6Dt3w15AmwtkGrEkUqPJRj5yK2uPIO0vby1EL111bzrpsS8gRYK6FF+/K4cf+Gw7afw/yxepQ/XTnsOgyUAqzt6I/YXg6wdsTie7G93HTDCbA2rR8edzGg+HTfpzTyzKMVPTzkSjIwwQjKVFcJAqztaMmSh9vMa6r5c1inFKYw1114IESorwEB1vV14ogrHjc86PWtrxOcYvAOvl5htH3mZd5iVZMnwNoO1eo4rPlPYMBGjQ0HsFmLYFgDAqwN64X31djcWGYK2Rm5k7dounYsgVaN9KPKCteY0xFgbUcXyrlb7BAO67zyPMawV1ypW4ViRxVcNqkAa+dp2m5HuhG2oPMOcTcy2CRjZnIhb9GqyBNgbaNascYZ9mpHOMhNKkhiDHsogwiGNSDA2rBeHHEVjnRB7sT7SzA3vZiBddSVe46otuIyBVjbSJGKHYsA69KiRytB5OusbW0pcxSpjGEvy7j38oMHD6pKkSrVCxti/vznP7Ot5NI16VdQpEqaEL/QAOZXANYbb2/kqhDMJa0Z40+X9sdxlauWMAHWepqVb4rRu1XntLykkoF1ZfkjGkZrwRrx5cESitScshxmAjHkOkk/P3neSh937dqVbbgB74d+sFYPUnppV6J0bs+vGFnboz3l0/Y53oe+OfqN8hmbyXH33Gt0bOVNM7G0cVuAtV476YO1MYrUCeMmMrBmb+81a2jKlCl1duSZ2sFoD0Vq09eb0pvvvknR0dGs5P369WO7Bdu3b8/KIN/BqBZF6r59+2j69OkEalNDYC0oUvU6lTilbRHb2Og6IT+BqzZObQinLT9e5CpTLWECrPU0qw/WxihSn3vueUpP1HFigKc5IiKiDlirQZEaFRPFRtXHzh5jHM8oOsAa29fxckCQg7UaFKmFhYX0zjvvMNpSY2CtP7IWFKl6nawBnt4vvs88yKwJXcO19jd8E5nd2hW8nTsdWF/YG0MH3YIV/UOelgZ9sDZGkdqnV3/atdWb0YQCvBDkIKUGRWrTZk3p1SavMrdaYJtDAFjLWefkYK0GRSocG0j805aCtaBIZU3V4P8N9h1MnQ92rkOJq7ZSEm5mMrBOj89XW5Tq+Quw1lOxHKxNUaQeO3CavuzchZkgvLx0rHdysFaDIhWfkHF5dSdLANaHDh2qrYUcrNWgSH333Xfp2WefZX9g1oOMNWvqjpbkekDBBEVqbfM06APJKQF8hfIKefdLXGZFiNOBNa9GNCZHDtbGKFJhp8ZKkGbNmtPTTz9N+fm6t7YcpJSmSIWLK88tnpRZkslMHjdv6iZNTIG1GhSpcr0ZG1kjjqBIlWtKHEMDmBxvvrU5LQ9ezk0h1dWuwxEiwFqv28jB2hhFKrhAANZzZv/MzBBSFnKwNjXBaAtF6vWI6/Re+/cYxehrr71G8+bNY2JNgbUaFKlSXfFrCqwFRapcU+JY0sCwU8Oo08FOXE0h2HJ+8rfbUhE0+yvA2oamw9pqgPVnn31G586dsyEH65PE58XTnTzXYRCzXgPWpRBL96zTF6/Y+2L2sVUhUTlRvETS0RU3ac+8a9zkqSVIgLUNmk26k0YvPP8i9e7d24bU1iepqK5gq0BgAhHBMg0IsLZMT7xj5ZblMmInz2BPbqIv7ImhdePPcR3Nq1E5u8B6xYoVzF0TPF1jnbElwZBArT1Y+RkllH2XH4ETnOGGZ4UTQFsEyzSgtT5lWa1cI9Z3p7+jLw58wQ08wwJS2SQjvJ5rORjCTnl9HpOfyI/9/f0JmzvKy3UKyMjIkN82emxIoNYeLLgKys/k5/1CmECMdiejN7TWp4xWxAVvHIg9wEwhYI7kEZIjshlYp8XU9xXKQ75SMgxhpzxvo2CNlQZY2mZtMCRQSw8WbwInYQKxtofp4mupT9lWQ+2myivLoxZbW9CyG8u4VAJUxqtG+FFEoLYphQ1hp1yBRsEazk9nz55Nb731FrVr147gANWSYEiglh4sQwROltTb1jggbYcJpLxa259wttbf1nRa6lO21lHL6WAK6XigIxdTSE3NA5cgdDKEnfI+8Bh2yun/HT58mF0bN24cU/a1a9foueeeM6p4Ly8vgiD8PfPMM/L82bGWHixDBE71KqTghfh8sQrEFnVqqU/ZUj+tp/GO8WamEF4bZHb+fFXzLr7MgrWxTgHP3gEBAbW3X3jhBcK6XnPBkEBHP1hwgIsvBfw98cQT9J///Kf2vKKi7qSeKVde8nXW5vRg7L6cIrVJ0ya0aucqthHGWHz962pTpMbFxdEf//jHWv2MHj1avwjs3N3dnbBO3VHB0X3KUfXWilx8MWKDzIqQFVyKDF+MAGwtB0PYKa+PUTPI2rVradasWSxuTEwMPfXUU0ZH1vIMDQl0pgdLvilGXm7puDC7jDJTDHuesBasEV8e9ClSEzMS6VTwKSqvsswEop+fPG+ljgHWeKmZC08++STl5eWZi1bnvpLld6Y+VaeS4qRWA9+e/Ja+PPRl7bmaBxf3x9HaMQEEk4hWgyHslNfFKFhjxIndczCRtGzZkvz8/OTpjB4bEuhMD5Y+WOtTpIJrwH3xcpo8eXJtHcGNoQZFqpwLJDY2lm3CadWqFb3//vuEFyQC2gC7BXlRpFoC1uAC+f3vf09NmzZlK4ZQzhMnTjC2PvQVsAEWF+tckgHU586dS++99x55e3tTmzZtaOLEidS2bVtq1KgRXb9+ncCd/dJLLxHaBgHMf59//nktoRUoW/WDM/Up/bKJc50GdkftZqYQHpu9wi+ksUlGTDZqNRjCTnldjIK1PJI1x4YEOtODpQ/W+hSpd8JTKDUhg2D2kUaCalCkDho8iJlAMkp0SyIBxnfu6HYwXrx40WEUqQDrv/zlL9SiRQv64IMP6NKlSwabXz6yxrJOTEKXlOiWO2Kr/Pz581k6xIPJRAoA6xkzZrBTNzc3wn3wcsOk8u9//5uN1kE/O3LkSClJLTdL7QUicqY+JS+XOH6kAWzyaralGa25WZcI7FEM5Y7SonMZWKdE5CiXKeecDGGnvAjcwdp/sxft+Xmaon/I09KgD9b6FKmnjgYwv4uDBw+mo0ePqkaR+tMvP9FTzz5Fc36ZwwBKbieGGcJRFKkATekFhollmL+KiupvEJKDNVgB//nPf9bauTFiHj58OGsSxEtLS6ttHoD11as62+KpU6fYCFq6CcY/cGMDiDGhPW3aNMKLy1AQYG1IK853beCJgQSHumqH4rxyBtbYIKPVIMBar+XkYK1Pkfree23o6L6TVFpYwUDi66+/Vo0iFU5xvU95sxFsbm4uA0W9orJTU0ROalCk6pcB4BoaGqp/mY2IJZs1Jj379zfs3VoO6shEnh/0Lye9kt/DpPC2bdsIAC6N0uWFEGAt14bzHkseZJILklUtJPZHYMu5Ndz2qhbIhsydDqxtqIOiSeRgbYgiFWAteZ3ACFcNilTJKe4iz0W1YAVTC0APAYx+jqJIxYofyVciTCIwTUgUsfKGADNgSkoKuwQzBvQUHx/PzmGvhg0ewRawxkhc2jkLe3X37t1ZXvJ/Aqzl2nDe47SiNGa33nR7k+qF3P2rtv0xCrDW6yJysNanSG3zXls2sq6u1LnQ+vXXX1WhSH35lZfplSav0EeffETwIo4AoAPLX/PmzcmRFKng6QYXDF5UmOw8fvy4ngZ1p5hkfOWVV2onGE+fPk3g5Eb58SelswWsfXx8GFUsyoCXWHBwcL0yCLCupxKnvQBHun19+qpePq0v3xNgbUUXKcorY9So+KRCwFpzNShS8UmIzQKSHCuKKKI+1IAAa+10hXU317HRtTSZrlbJA/fG0rpxAZp9rgRYW9Ez8jNLCSROsJe+/PLLqlCkVtdUEwhu7hXds6JkIqq+BgRY62vEec+xdK/plqaEpXxqhpt+KWySEXNOWgwCrK1otZx7xYR11mqGgvICxgVSXKFbh6ymLFfOW4C1dloXX5BwpAsvMmoGyXnu/YQCNcWolrcAaytUm5VSSAXZ6i6qTy1MJXjRECYQKxrGQFQB1gaU4sSXPG54MCa+/HL1vJBnpRaxkXXs9ftOrAnjRXMasHZ2cMI2VbjyUpPAvOZBDUVlR1Fa4aN1x8abTtwxpgH0JQHWxrTjnNdvZ91mppAjd46oVkCs4gJVavDJJNVkqJmxU4A1VjxkZWU59WiysqKagXVZcaVq7VFUUcRMIDCFiGCbBgDU6EvSKhrbchGpeGsAA5WPvD+i7/2/V1X0+knnKWBntKoy1MrcKcC6srKSPVwYDTnrX9jN23QtMIRuh4WrVsYroVfIL8iPIiIiVJPhrPpVslwAavQpEbSlgV+v/Eqtd7Smsir12Br3zg+ioyvqb+LSgqacAqy1oKjQM8nsE0qtkTVGhB97f0zj/MZpQR2ijEIDimvgUtolZgo5l3JO8bylDH3XhdHOOVekU039CrC2sLnO74qm9RPPWxjb+mjh2eGsox6OO2x9YpFCaMAFNFBZXUnv7HyHZl+arVptLu6LpbVjtbnWWoC1hd3i6IqbhE8otQJI2EHGnlumbaeeaulH5NswNDDl3BRqt6cdYb+BGkHLns4FWFvYI3bMvkL4hFIrfH3kaxrkO0it7EW+QgOa0IBvgi/7wgzJCFGlvIlhWcycmR6v3hJBVQpOxNwimspbcYrUf/zjH7X+GPGmUOoPvh2VystR+Yg6KNcfbG1D0QaObwO0ndbbQY3yAztNBcXB2pQwe+6hgbUeRB0c34KiDRzfBiiB1tvBEeUXYM2x7zqigZWuntbroPXyuwLQuUIdHNGPBFgrjWYm8nNEA5sojk23tF4HrZcfjSbqYFPXVTSRI9pAM2Dt5WW56y5FW0XBzEQdFFSmjVmJNrBRcQon03o7OKL8mgFrhfuKyE5oQGhAaEBTGhBgranmEoUVGhAaaKga0BxYr1ixgrmTguupKVOmaLbdli5dSo899hgjJdJSJSZPnkyvvvoqc7vVtWtX5pldK+X39fVlfefFF1+khQsXaqXYrJzwd9m+fXvm8g1939PTU1PllxcWPj5btGhBnTp1kl/WzDEcRcMvKJ4DuOC7fPkyl7JrCqz9/f2Zzz/JmWpGRgYXJSktBA8e/C1irSYY5LQUTp06RVVVVazIU6dOJfxpIQAgXnjhBebrsqKigvmJBKGWVsK9e/dqfVEWFhYyT0ZaKr9cz+7u7tSnTx/NgvXAgQNp/fr1rEroSwBvHkFTYP3NN9/QmTNneOhFVRl4K8N7+bPPPqs5sJYrBt7Y+/ZV3xGqXKatxxj94AUphQULFhD+tBq++uorgpNirYXU1FT66KOPyM/PT5NgXVBQQM8995xD6J41Bdbwdj179mx66623qF27dhQUpB6Xh1oPwZEjR2j8+PEse62DdefOnWn79u1qqUrRfPft20dDhw6tzXPbtm00ZsyY2nMtHSQmJtLTTz9NAA6tBQxUbty4QQEBAZoE69DQUGrdujUNGjSImXLQp4qL+bjoczqw/vjjj6lJkyb1/g4fPsyujRs3jr3Vrl275rA3nLkHxFQd8KLJz9fxFjgrWJsqv1T3efPmEWzWzu4BSCqvt7d3PbAeO3asdFszv0VFRdSqVSs6cOCAZsosFfTYsWM0atQodqpVsL5+/Tr97ne/o6tXr7J6YOA1c+ZMqYqq/jodWJuqbYcOHdgbWYoDG2RmZqZ06vS/YWFh9K9//YuZPwDUaHSMkNLT052+7PICbtmyhd555x0qKVHXubBcpr3HrmAGgcMFmHJg89VimD59Oj355JOs/z/xxBP0pz/9ifr166epquBZxbMrhQsXLlDHjh2lU1V/NQXWa9eupVmzZjGFxMTE0FNPPaWZkZ2hVnTWkbWhskrXsKKiUaNGmnpJouyYFH3++eeZxyJpgjE8PFyqltP/4gtmwIABNGHCBKcvqyUF1OrIGnVr27YtRUfrXIfNmTOHsEKKR9AUWOMhw5sYZpKWLVuySQoeSlJLhhbBGsve8JLE/AH+RowYoZZ6FM/Xx8eHraLAFxnMOFoKgYGBbKlns2bNanWP+mg1aBmsYbfGdnO0RZcuXSg3lw9HvabAWqsdU5RbaEBoQGjAXg0IsLZXgyK90IDQgNAABw0IsOagZCFCaEBoQGjAXg0IsLZXgyK90IDQgNAABw0IsOagZCFCaEBoQGjAXg0IsLZXgyK90IDQgNAABw0IsOagZCFCaEBoQGjAXg0IsLZXgyK90IDQgNAABw0IsOagZCFCaEBoQGjAXg38/wuJ9FcRviWSAAAAAElFTkSuQmCC)\n",
        "\n",
        "</center></figure>"
      ]
    },
    {
      "cell_type": "markdown",
      "metadata": {
        "id": "pvOzyaHgL2Zg"
      },
      "source": [
        "In this post, we will review how to create a Taylor Series with Python and for loops. Then we will refactor the Taylor Series into functions and compare the output of our Taylor Series functions to functions from Python's Standard Library.\n",
        "\n",
        "A Taylor Series is an infinite series of mathematical terms that when summed together approximate a mathematical function. A Taylor Series can be used to approximate $e^x$, and $cosine$.\n",
        "\n",
        "An example of a Taylor Series that approximates $e^x$ is below.\n",
        "$${e^x} \\approx \\sum\\limits_{n = 0}^\\infty  {\\frac{{{x^n}}}{{n!}}} \\approx 1 + x + \\frac{{{x^2}}}{{2!}} + \\frac{{{x^3}}}{{3!}} + \\frac{{{x^4}}}{{4!}} \\ + \\ ...$$\n",
        "\n",
        "We can see that each term in the Taylor Series expansion is dependent on that term's place in the series. Below is a chart that shows each term of the Taylor Series in a row. The columns of the table represent the term index, the mathematical term and, how to code that term in Python. Note that the `factorial()` function is part of the `math` module in Python's Standard Library.\n",
        "\n",
        "Term Index | Mathematical Term|\tTerm coded in Python\n",
        ":---:|:---:| :---:\n",
        "0|$$\tx^0/0!\t$$|`x**0/math.factorial(0)`\n",
        "1|$$\tx^1/1!\t$$|`x**1/math.factorial(1)`\n",
        "2|$$\tx^2/2!\t$$|`x**2/math.factorial(2)`\n",
        "3|$$\tx^3/3!$$\t|`x**3/math.factorial(3)`\n",
        "4\t|$$ x^4/4!$$\t|`x**4/math.factorial(4)`\n"
      ]
    },
    {
      "cell_type": "markdown",
      "metadata": {
        "id": "KyRfZbUgMCPt"
      },
      "source": [
        "##Code the Taylor Series by writing out each term individually"
      ]
    },
    {
      "cell_type": "markdown",
      "metadata": {
        "id": "PsHdTgZWNCe_"
      },
      "source": [
        "We can combine these terms in a line of Python code to estimate $e^2$. The code below calculates the sum of the first five terms of the Taylor Series expansion of $e^x$, where $x=2$. Note the `math` module needs to be imported before `math.factorial()` can be used."
      ]
    },
    {
      "cell_type": "code",
      "metadata": {
        "colab": {
          "base_uri": "https://localhost:8080/"
        },
        "id": "lXqkW_51NQkB",
        "outputId": "74a1b313-f0b6-42c6-dd11-27a0b92ad5ae"
      },
      "source": [
        "import math\n",
        "\n",
        "x = 2\n",
        "e_to_2 = x**0/math.factorial(0) + x**1/math.factorial(1) + x**2/math.factorial(2) + x**3/math.factorial(3) + x**4/math.factorial(4)\n",
        "print(e_to_2)"
      ],
      "execution_count": 1,
      "outputs": [
        {
          "output_type": "stream",
          "text": [
            "7.0\n"
          ],
          "name": "stdout"
        }
      ]
    },
    {
      "cell_type": "markdown",
      "metadata": {
        "id": "3VHwXQscM_kK"
      },
      "source": [
        "Our Taylor Series approximation of $e^2$ was calculated as `7.0`. Let's compare our Taylor Series approximation to Python's `math.exp()` function. Python's `math.exp()` function raises $e$ to any power. In our case, we want to use `math.exp(2)` because we want to calculate $e^2$."
      ]
    },
    {
      "cell_type": "code",
      "metadata": {
        "colab": {
          "base_uri": "https://localhost:8080/"
        },
        "id": "VY1PkNHNKZ1o",
        "outputId": "60c73e4e-87e8-453c-c376-f70ca11c54b8"
      },
      "source": [
        "print(math.exp(2))\n"
      ],
      "execution_count": 2,
      "outputs": [
        {
          "output_type": "stream",
          "text": [
            "7.38905609893065\n"
          ],
          "name": "stdout"
        }
      ]
    },
    {
      "cell_type": "markdown",
      "metadata": {
        "id": "p3V2Y9slPM4m"
      },
      "source": [
        "Our Taylor Series approximation `7.0` is not that far off the calculated value `7.389056...` using Python's `exp()` function."
      ]
    },
    {
      "cell_type": "markdown",
      "metadata": {
        "id": "I5qW7hGLPY3I"
      },
      "source": [
        "##Use a for loop to calculate a Taylor Series"
      ]
    },
    {
      "cell_type": "markdown",
      "metadata": {
        "id": "Fl_qgtCKPnIq"
      },
      "source": [
        "If we want to get closer to the value of $e^x$, we need to add more terms to our Taylor Series. The problem is coding each individual term is time-consuming and repetitive. Instead of coding each term individually, we can use a *for loop*. A *for loop* is a repetition structure in Python that runs a section of code a specified number of times. The syntax for coding a *for loop* in Python using the `range()` function is below:\n",
        "\n",
        "```\n",
        "for <var> in range(<num>):\n",
        "    <code>\n",
        "```\n",
        "Where `<var>` is any valid Python variable name and `<num>` is an integer to determines how many times the `<code>` in the loop runs.\n",
        "\n",
        "We can recreate our approximation of $e^2$ with 5 terms using a *for loop*. Note we need to set the variable `e_to_2` to `0` before the loop starts. The mathematical operator `+=` in the line `e_to_2 += x**i/math.factorial(i)` is equivalent to `e_to_2 = e_to_2 + x**i/math.factorial(i)`.\n",
        "\n"
      ]
    },
    {
      "cell_type": "code",
      "metadata": {
        "colab": {
          "base_uri": "https://localhost:8080/"
        },
        "id": "0INqfPi2PLQ6",
        "outputId": "49dbdda8-3b4d-473f-f645-6c425d3ebf92"
      },
      "source": [
        "import math\n",
        "\n",
        "x = 2\n",
        "e_to_2 = 0\n",
        "for i in range(5):\n",
        "    e_to_2 += x**i/math.factorial(i)\n",
        "    \n",
        "print(e_to_2)"
      ],
      "execution_count": 3,
      "outputs": [
        {
          "output_type": "stream",
          "text": [
            "7.0\n"
          ],
          "name": "stdout"
        }
      ]
    },
    {
      "cell_type": "markdown",
      "metadata": {
        "id": "ZB6tyNKCQk5Y"
      },
      "source": [
        "The result `7.0` is the same as the result we calculated when we wrote out each term of the Taylor Series individually.\n",
        "\n",
        "An advantage of using a *for loop* is that we can easily increase the number of terms. If we increase the number of times the *for loop* runs, we increase the number of terms in the Taylor Series expansion. Let's try `10` terms. Note how the line `for i in range(10):` now includes `10` passed to the `range()` function."
      ]
    },
    {
      "cell_type": "code",
      "metadata": {
        "colab": {
          "base_uri": "https://localhost:8080/"
        },
        "id": "MFal_mi1Q1Fr",
        "outputId": "f717bee5-f1de-49c6-e80d-9ea1abee9f2d"
      },
      "source": [
        "import math\n",
        "\n",
        "x = 2\n",
        "e_to_2 = 0\n",
        "for i in range(10):\n",
        "    e_to_2 += x**i/math.factorial(i)\n",
        "    \n",
        "print(e_to_2)"
      ],
      "execution_count": 4,
      "outputs": [
        {
          "output_type": "stream",
          "text": [
            "7.3887125220458545\n"
          ],
          "name": "stdout"
        }
      ]
    },
    {
      "cell_type": "markdown",
      "metadata": {
        "id": "mFlmaKGdQobZ"
      },
      "source": [
        "The result is `7.38871....` Let's see how close that is to $e^2$ calculated with Python's `exp()` function."
      ]
    },
    {
      "cell_type": "code",
      "metadata": {
        "colab": {
          "base_uri": "https://localhost:8080/"
        },
        "id": "-kR70DfqQiag",
        "outputId": "4da50def-2b39-4a60-9471-7c4bd35e6d79"
      },
      "source": [
        "print(math.exp(2))\n"
      ],
      "execution_count": 5,
      "outputs": [
        {
          "output_type": "stream",
          "text": [
            "7.38905609893065\n"
          ],
          "name": "stdout"
        }
      ]
    },
    {
      "cell_type": "markdown",
      "metadata": {
        "id": "Fbg6ZmTrRB77"
      },
      "source": [
        "The result is `7.38905....` We get closer to the value of $e^2$ when `10` terms are used in the Taylor Series compared to when `5` terms were used in the Taylor Series."
      ]
    },
    {
      "cell_type": "markdown",
      "metadata": {
        "id": "VgwH3QbFRJCl"
      },
      "source": [
        "##Refactor the for loop into a function\n"
      ]
    },
    {
      "cell_type": "markdown",
      "metadata": {
        "id": "VXxowCedRPhD"
      },
      "source": [
        "Next, let's refactor the code above that contained a *for loop* (which calculated $e^2$) into a function that can compute $e$ raised to any power estimated with any number of terms in the Taylor Series. The general syntax to define a function in Python is below.\n",
        "\n",
        "```\n",
        "def <func name>(<arg 1>, <arg 2>, ...):\n",
        "    <code>\n",
        "    return <output>\n",
        "```\n",
        "Where `def` is the Python keyword that defines a function, `<func name>` is a valid Python variable name, and `<arg 1>, <arg 2>` are the input arguments passed to the function. `<code>` that runs when the function is called must be indented (the standard indentation is 4 spaces). The keyword `return` denotes the `<output>` of the function.\n",
        "\n",
        "Let's code our *for loop* that approximates $e^2$ into a function.\n"
      ]
    },
    {
      "cell_type": "code",
      "metadata": {
        "id": "tAcNt3Z4R1jk"
      },
      "source": [
        "import math\n",
        "\n",
        "def func_e_to_2(n):\n",
        "    x = 2\n",
        "    e_to_2 = 0\n",
        "    for i in range(n):\n",
        "        e_to_2 += x**i/math.factorial(i)\n",
        "    \n",
        "    return e_to_2"
      ],
      "execution_count": 6,
      "outputs": []
    },
    {
      "cell_type": "markdown",
      "metadata": {
        "id": "wiWjisrXRXyg"
      },
      "source": [
        "If we call our function `func_e_to_2()` with the input argument `10`, the result is the same as when we ran the *for loop* `10` times."
      ]
    },
    {
      "cell_type": "code",
      "metadata": {
        "colab": {
          "base_uri": "https://localhost:8080/"
        },
        "id": "r49sbPEORLn1",
        "outputId": "98c7db97-e5a9-41cd-e0f5-0257971cf305"
      },
      "source": [
        "out = func_e_to_2(10)\n",
        "print(out)"
      ],
      "execution_count": 7,
      "outputs": [
        {
          "output_type": "stream",
          "text": [
            "7.3887125220458545\n"
          ],
          "name": "stdout"
        }
      ]
    },
    {
      "cell_type": "markdown",
      "metadata": {
        "id": "crCBn5EoSAAb"
      },
      "source": [
        "The output of our `func_e_to_2()` function is `7.38871....`\n",
        "\n",
        "We can make our function more general by setting `x` (the number that $e$ gets raised to) as an input argument. Note how now there are two input arguments in the function definition `(x, n)`. `x` is the number $e$ is raised to, and `n` is the number of terms in the Taylor Series (which is the number of times the for loop runs on the inside of the function definition)."
      ]
    },
    {
      "cell_type": "code",
      "metadata": {
        "id": "AQz5_uT_SX-r"
      },
      "source": [
        "import math\n",
        "\n",
        "def func_e(x, n):\n",
        "    e_approx = 0\n",
        "    for i in range(n):\n",
        "        e_approx += x**i/math.factorial(i)\n",
        "    \n",
        "    return e_approx"
      ],
      "execution_count": 9,
      "outputs": []
    },
    {
      "cell_type": "markdown",
      "metadata": {
        "id": "C5CBUaTwSFNZ"
      },
      "source": [
        "Let's calculate $e^2$ using `10` terms with our new `func_e()` function."
      ]
    },
    {
      "cell_type": "code",
      "metadata": {
        "colab": {
          "base_uri": "https://localhost:8080/"
        },
        "id": "supDA4pFSk_w",
        "outputId": "facb44c5-7727-4de7-9b90-72888bb1d3d3"
      },
      "source": [
        "out = func_e(2,10)\n",
        "print(out)"
      ],
      "execution_count": 10,
      "outputs": [
        {
          "output_type": "stream",
          "text": [
            "7.3887125220458545\n"
          ],
          "name": "stdout"
        }
      ]
    },
    {
      "cell_type": "markdown",
      "metadata": {
        "id": "pM5BsO_JSFSX"
      },
      "source": [
        "The result is `7.38871...`, the same result as before.\n",
        "\n",
        "An advantage to writing our Taylor Series expansion in a function is that now the Taylor Series approximation calculation is reusable and can be called in one line of code. For instance, we can estimate the value of $e^5$ with `10` terms, by calling our `func_e()` function with the input arguments `(5,10)`."
      ]
    },
    {
      "cell_type": "code",
      "metadata": {
        "colab": {
          "base_uri": "https://localhost:8080/"
        },
        "id": "RV8r6DuyS0YB",
        "outputId": "60d71be4-aba4-4af7-8a54-6bba29eb58ff"
      },
      "source": [
        "out = func_e(5,10)\n",
        "print(out)"
      ],
      "execution_count": 11,
      "outputs": [
        {
          "output_type": "stream",
          "text": [
            "143.68945656966488\n"
          ],
          "name": "stdout"
        }
      ]
    },
    {
      "cell_type": "markdown",
      "metadata": {
        "id": "J4vvhyE2SFWq"
      },
      "source": [
        "The result is `143.68945...`. Let's see how close this value is to Python's `exp()` function when we make the same calculation $e^5$."
      ]
    },
    {
      "cell_type": "code",
      "metadata": {
        "colab": {
          "base_uri": "https://localhost:8080/"
        },
        "id": "G1Jb_zefS_nK",
        "outputId": "b89d29ed-5688-4815-d519-514142f52358"
      },
      "source": [
        "out = math.exp(5)\n",
        "print(out)"
      ],
      "execution_count": 12,
      "outputs": [
        {
          "output_type": "stream",
          "text": [
            "148.4131591025766\n"
          ],
          "name": "stdout"
        }
      ]
    },
    {
      "cell_type": "markdown",
      "metadata": {
        "id": "eXD1S2AVSFiX"
      },
      "source": [
        "The result is `148.41315...`. The Taylor Series approximation calculated by our `func_e()` function is pretty close to the value calculated by Python's `exp()` function."
      ]
    },
    {
      "cell_type": "markdown",
      "metadata": {
        "id": "X76v42h6TKd1"
      },
      "source": [
        "##Use a *for loop* to calculate the difference between the Taylor Series expansion and Python's `exp()` function"
      ]
    },
    {
      "cell_type": "markdown",
      "metadata": {
        "id": "sabAPxkfTUmW"
      },
      "source": [
        "Now let's use a *for loop* to calculate the difference between the Taylor Series expansion as calculated by our `func_e()` function compared to Python's `exp()` function. We'll calculate the difference between the two functions when we use between `1` and `10` terms in the Taylor Series expansion.\n",
        "\n",
        "The code below uses f-strings, which is a Python syntax for inserting the value of a variable in a string. The general syntax for an *f-string* in Python is below.\n",
        "\n",
        "```\n",
        "f'string statment {<var>}'\n",
        "```\n",
        "Where `f` denotes the beginning of an *f-string*, the *f-string* is surrounded by quotes `' '`, and the variable `<var>` is enclosed in curly braces `{ }`. The value of `<var>` will be printed out without the curly braces.\n"
      ]
    },
    {
      "cell_type": "code",
      "metadata": {
        "colab": {
          "base_uri": "https://localhost:8080/"
        },
        "id": "NMasmHsSTSMP",
        "outputId": "7259330d-8285-49a5-926d-56cbe8ab0544"
      },
      "source": [
        "import math\n",
        "\n",
        "x = 5\n",
        "for i in range(1,11):\n",
        "    e_approx = func_e(x,i)\n",
        "    e_exp = math.exp(x)\n",
        "    e_error = abs(e_approx - e_exp)\n",
        "    print(f'{i} terms: Taylor Series approx= {e_approx}, exp calc= {e_exp}, error = {e_error}')"
      ],
      "execution_count": 13,
      "outputs": [
        {
          "output_type": "stream",
          "text": [
            "1 terms: Taylor Series approx= 1.0, exp calc= 148.4131591025766, error = 147.4131591025766\n",
            "2 terms: Taylor Series approx= 6.0, exp calc= 148.4131591025766, error = 142.4131591025766\n",
            "3 terms: Taylor Series approx= 18.5, exp calc= 148.4131591025766, error = 129.9131591025766\n",
            "4 terms: Taylor Series approx= 39.33333333333333, exp calc= 148.4131591025766, error = 109.07982576924327\n",
            "5 terms: Taylor Series approx= 65.375, exp calc= 148.4131591025766, error = 83.0381591025766\n",
            "6 terms: Taylor Series approx= 91.41666666666667, exp calc= 148.4131591025766, error = 56.99649243590993\n",
            "7 terms: Taylor Series approx= 113.11805555555556, exp calc= 148.4131591025766, error = 35.29510354702104\n",
            "8 terms: Taylor Series approx= 128.61904761904762, exp calc= 148.4131591025766, error = 19.79411148352898\n",
            "9 terms: Taylor Series approx= 138.30716765873015, exp calc= 148.4131591025766, error = 10.105991443846449\n",
            "10 terms: Taylor Series approx= 143.68945656966488, exp calc= 148.4131591025766, error = 4.723702532911716\n"
          ],
          "name": "stdout"
        }
      ]
    },
    {
      "cell_type": "markdown",
      "metadata": {
        "id": "vdvM16ptUBbr"
      },
      "source": [
        "Note how the error decreases as we add terms to the Taylor Series. When the Taylor Series only has `1` term, the error is `147.41...`. When `10` terms are used in the Taylor Series, the error goes down to `4.7237...`."
      ]
    },
    {
      "cell_type": "markdown",
      "metadata": {
        "id": "Jjp7hSCqUNyc"
      },
      "source": [
        "##Use a `break` statement to exit a *for loop* early."
      ]
    },
    {
      "cell_type": "markdown",
      "metadata": {
        "id": "sh1uH7IPVIjG"
      },
      "source": [
        "How many terms would it take to produce an error of less than `1`? We can use a `break` statement to drop out of the for loop when the error is less than `1`. The code below calculates how many terms are needed in the Taylor Series, when $e^5$ is calculated, to keep the error less than `1`."
      ]
    },
    {
      "cell_type": "code",
      "metadata": {
        "colab": {
          "base_uri": "https://localhost:8080/"
        },
        "id": "dhV8tUpAVTf4",
        "outputId": "548c7662-e991-44f7-c187-66afecc1e67d"
      },
      "source": [
        "import math\n",
        "\n",
        "x = 5\n",
        "for i in range(1,20):\n",
        "    e_approx = func_e(x,i)\n",
        "    e_exp = math.exp(x)\n",
        "    e_error = abs(e_approx - e_exp)\n",
        "    if e_error < 1:\n",
        "        break\n",
        "        \n",
        "print(f'{i} terms: Taylor Series approx= {e_approx}, exp calc= {e_exp}, error = {e_error}')"
      ],
      "execution_count": 14,
      "outputs": [
        {
          "output_type": "stream",
          "text": [
            "12 terms: Taylor Series approx= 147.60384850489015, exp calc= 148.4131591025766, error = 0.8093105976864479\n"
          ],
          "name": "stdout"
        }
      ]
    },
    {
      "cell_type": "markdown",
      "metadata": {
        "id": "jUrJwezEVfdk"
      },
      "source": [
        "The output shows that it takes `12` terms in the Taylor Series to drop the error below `1`."
      ]
    },
    {
      "cell_type": "markdown",
      "metadata": {
        "id": "yRELw0UJVkHn"
      },
      "source": [
        "##Create a function to estimate the value of $\\cos(x)$ using a Taylor Series"
      ]
    },
    {
      "cell_type": "markdown",
      "metadata": {
        "id": "cpVKCWL0VrB9"
      },
      "source": [
        "Next, let's calculate the value of the cosine function using a Taylor Series. The Taylor Series expansion for cos(x) is below.\n",
        "\n",
        "$$\\cos \\left( x \\right) \\approx \\sum\\limits_{n = 0}^\\infty  {{{\\left( { - 1} \\right)}^n}\\frac{{{x^{2n}}}}{{\\left( {2n} \\right)!}}}  \\approx 1 - \\frac{{{x^2}}}{{2!}} + \\frac{{{x^4}}}{{4!}} - \\frac{{{x^6}}}{{6!}} + \\frac{{{x^8}}}{{8!}} - \\frac{{{x^{10}}}}{{10!}} \\ + \\ ...$$\n",
        "\n",
        "We can code this formula into a function that contains a *for loop*. Note the variable `x` is the value we are trying to find the cosine of, the variable `n` is the number of terms in the Taylor Series, and the variable `i` is the loop index which is also the Taylor Series term number. We are using a separate variable for the coefficient `coef` which is equal to $(−1)^i$, the numerator `num` which is equal to $x^{2i}$ and the denominator `denom` which is equal to $(2i!)$. Breaking the Taylor Series formula into three parts can cut down on coding errors."
      ]
    },
    {
      "cell_type": "code",
      "metadata": {
        "id": "pEsMo4gaWXit"
      },
      "source": [
        "import math\n",
        "\n",
        "def func_cos(x, n):\n",
        "    cos_approx = 0\n",
        "    for i in range(n):\n",
        "        coef = (-1)**i\n",
        "        num = x**(2*i)\n",
        "        denom = math.factorial(2*i)\n",
        "        cos_approx += ( coef ) * ( (num)/(denom) )\n",
        "    \n",
        "    return cos_approx"
      ],
      "execution_count": 15,
      "outputs": []
    },
    {
      "cell_type": "markdown",
      "metadata": {
        "id": "6hBO49OYWYrm"
      },
      "source": [
        "Let's use our `func_cos()` function to estimate the cosine of 45 degrees. Note that `func_cos()` function computes the cosine of an angle in radians. If we want to calculate the cosine of 45 degrees using our function, we first have to convert 45 degrees into radians. Luckily, Python's `math` module has a function called `radians()` that makes the angle conversion early."
      ]
    },
    {
      "cell_type": "code",
      "metadata": {
        "colab": {
          "base_uri": "https://localhost:8080/"
        },
        "id": "QwR8jno8Wxh1",
        "outputId": "94db2883-af13-4838-9150-431d4872fccf"
      },
      "source": [
        "angle_rad = (math.radians(45))\n",
        "out = func_cos(angle_rad,5)\n",
        "print(out)"
      ],
      "execution_count": 16,
      "outputs": [
        {
          "output_type": "stream",
          "text": [
            "0.7071068056832942\n"
          ],
          "name": "stdout"
        }
      ]
    },
    {
      "cell_type": "markdown",
      "metadata": {
        "id": "ZJqkZkuBWnYu"
      },
      "source": [
        "Using our `func_cos()` function and `5` terms in the Taylor Series approximation, we estimate the cosine of 45 degrees is `0.707106805...`. Let's check our `func_cos()` function compared to Python's `cos()` function from the `math` module."
      ]
    },
    {
      "cell_type": "code",
      "metadata": {
        "colab": {
          "base_uri": "https://localhost:8080/"
        },
        "id": "NZ5ioXd3XGHd",
        "outputId": "c0b59412-fa1a-4575-c118-6a5cf60b09a5"
      },
      "source": [
        "out = math.cos(angle_rad)\n",
        "print(out)"
      ],
      "execution_count": 17,
      "outputs": [
        {
          "output_type": "stream",
          "text": [
            "0.7071067811865476\n"
          ],
          "name": "stdout"
        }
      ]
    },
    {
      "cell_type": "markdown",
      "metadata": {
        "id": "V2H8VoEDW67u"
      },
      "source": [
        "Using Python's `cos()` function, the cosine of 45 degrees returns `0.707106781...`. This value is very close to the approximation calculated using our `func_cos()` function."
      ]
    },
    {
      "cell_type": "markdown",
      "metadata": {
        "id": "lMkcVSVXYEh1"
      },
      "source": [
        "##Build a plot to compare the Taylor Series approximation to Python's `cos()` function"
      ]
    },
    {
      "cell_type": "markdown",
      "metadata": {
        "id": "LqWUuz4vYLu6"
      },
      "source": [
        "In the last part of this post, we are going to build a plot that shows how the Taylor Series approximation calculated by our `func_cos()` function compares to Python's `cos()` function.\n",
        "\n",
        "The idea is to make a plot that has one line for Python's `cos()` function and lines for the Taylor Series approximation based on different numbers of terms.\n",
        "\n",
        "For instance, if we use 3 terms in the Taylor Series approximation, our plot has two lines. One line for Python's `cos()` function and one line for our `func_cos()` function with three terms in the Taylor series approximation. We'll calculate the cosine using both functions for angles between $−2π$ radians and $2π$ radians."
      ]
    },
    {
      "cell_type": "code",
      "metadata": {
        "colab": {
          "base_uri": "https://localhost:8080/",
          "height": 265
        },
        "id": "ap85ZuteYg9Z",
        "outputId": "2d664040-02fb-4105-bf78-5f154eac39a8"
      },
      "source": [
        "import math\n",
        "import numpy as np\n",
        "import matplotlib.pyplot as plt\n",
        "# if using a Jupyter notebook, include:\n",
        "#%matplotlib inline\n",
        "\n",
        "angles = np.arange(-2*np.pi,2*np.pi,0.1)  #Devuelve valores espaciados uniformemente dentro de un intervalo dado [-2pi, 2pi]\n",
        "p_cos = np.cos(angles)  #Coseno de Python\n",
        "t_cos = [func_cos(angle,3) for angle in angles] #Coseno nuestro (recorremos los ángulos)\n",
        "\n",
        "fig, ax = plt.subplots()\n",
        "ax.plot(angles,p_cos)\n",
        "ax.plot(angles,t_cos)\n",
        "ax.set_ylim([-5,5])\n",
        "ax.legend(['cos() function','Taylor Series - 3 terms'])\n",
        "\n",
        "plt.show()"
      ],
      "execution_count": 18,
      "outputs": [
        {
          "output_type": "display_data",
          "data": {
            "image/png": "[encoded data removed]",
            "text/plain": [
              "<Figure size 432x288 with 1 Axes>"
            ]
          },
          "metadata": {
            "tags": [],
            "needs_background": "light"
          }
        }
      ]
    },
    {
      "cell_type": "markdown",
      "metadata": {
        "id": "Cc8C9LsdZhxt"
      },
      "source": [
        "We can use a *for loop* to see how much better adding additional terms to our Taylor Series approximation compares to Python's `cos()` function."
      ]
    },
    {
      "cell_type": "code",
      "metadata": {
        "colab": {
          "base_uri": "https://localhost:8080/",
          "height": 269
        },
        "id": "_9NkMD7DZoaC",
        "outputId": "949b0505-4147-4811-ba21-410928bfffde"
      },
      "source": [
        "import math\n",
        "import numpy as np\n",
        "import matplotlib.pyplot as plt\n",
        "# if using a Jupyter notebook, include:\n",
        "#%matplotlib inline\n",
        "\n",
        "angles = np.arange(-2*np.pi,2*np.pi,0.1)\n",
        "p_cos = np.cos(angles)\n",
        "\n",
        "fig, ax = plt.subplots()\n",
        "ax.plot(angles,p_cos)\n",
        "\n",
        "# add lines for between 1 and 6 terms in the Taylor Series\n",
        "for i in range(1,6):\n",
        "    t_cos = [func_cos(angle,i) for angle in angles]\n",
        "    ax.plot(angles,t_cos)\n",
        "\n",
        "ax.set_ylim([-7,4])\n",
        "\n",
        "# set up legend\n",
        "legend_lst = ['cos() function']\n",
        "for i in range(1,6):\n",
        "    legend_lst.append(f'Taylor Series - {i} terms')\n",
        "ax.legend(legend_lst, loc=3)\n",
        "\n",
        "plt.show()"
      ],
      "execution_count": 19,
      "outputs": [
        {
          "output_type": "display_data",
          "data": {
            "image/png": "[encoded data removed]",
            "text/plain": [
              "<Figure size 432x288 with 1 Axes>"
            ]
          },
          "metadata": {
            "tags": [],
            "needs_background": "light"
          }
        }
      ]
    },
    {
      "cell_type": "markdown",
      "metadata": {
        "id": "76nhXQqjZ8Zi"
      },
      "source": [
        "We see the Taylor Series with 5 terms (the brown line) comes closest to approximating Python's `cos()` function. The Taylor Series with 5 terms is a good approximation of the cosine of angles between about $−π$ and $π$ radians. The Taylor Series with 5 terms is a worse approximation for angles less than $−π$ or greater than $\\pi$. As the angle gets further away from zero radians, the estimate of the cosine using a Taylor Series gets worse and worse."
      ]
    },
    {
      "cell_type": "markdown",
      "metadata": {
        "id": "dV8JwxjqaOr-"
      },
      "source": [
        "##Summary"
      ]
    },
    {
      "cell_type": "markdown",
      "metadata": {
        "id": "nWHlhdNxaQd5"
      },
      "source": [
        "In this post, we reviewed how to construct the Taylor Series of $e^x$ and $\\cos(x)$ in Python. First, we coded each term of the Taylor series individually. Next, we used a *for loop* to calculate $n$ terms in the Taylor Series expansion. We then refactored the code with the *for loop* into a function and parameterized our function so that we could calculate e raised to any number calculated out to any number of terms. At the end of the post, we coded the Taylor Series of $\\cos(x)$ into a Python function. Finally, we used our Taylor Series cosine function to build a plot with **Matplotlib** that shows how the Taylor Series approximation compares to Python's `cos()` function for angles between $−2π$ and $2π$ radians."
      ]
    },
    {
      "cell_type": "markdown",
      "metadata": {
        "id": "GRN7IasKasll"
      },
      "source": [
        "#Exercises"
      ]
    },
    {
      "cell_type": "markdown",
      "metadata": {
        "id": "lVfIq1vOddvw"
      },
      "source": [
        "##Taylor Serie for $\\ln(x+1)$"
      ]
    },
    {
      "cell_type": "markdown",
      "metadata": {
        "id": "Lws1dpkbayTb"
      },
      "source": [
        "We go to calculate the Taylor Serie for $\\ln(x+1)$:\n",
        "\n",
        "First, note that:\n",
        "$$\n",
        "\\frac{1}{1+x}=\\sum_{n=0}^{\\infty}(−1)^nx^n $$\n",
        "\n",
        "And, integrating both sides, gives you:\n",
        "\n",
        "$$\\ln(1+x) \\approx \\sum_{n=0}^{\\infty}{\\frac{(-1)^nx^{n+1}}{n+1}} \\approx x-\\frac{x^2}{2}+\\frac{x^3}{3}-\\frac{x^4}{4}+\\cdots \\hspace{3em} \\forall x:|x|<1$$ "
      ]
    },
    {
      "cell_type": "code",
      "metadata": {
        "id": "YHzzFAvhd9FG"
      },
      "source": [
        "import math\n",
        "\n",
        "def func_ln(x, n):\n",
        "    ln_approx = 0\n",
        "    for i in range(n):\n",
        "        coef = (-1)**i\n",
        "        num = x**(i+1)\n",
        "        denom = i+1\n",
        "        ln_approx += (coef*num)/(denom)\n",
        "    \n",
        "    return ln_approx"
      ],
      "execution_count": 63,
      "outputs": []
    },
    {
      "cell_type": "markdown",
      "metadata": {
        "id": "KmQRgIcmed9D"
      },
      "source": [
        "Now, let's try..."
      ]
    },
    {
      "cell_type": "code",
      "metadata": {
        "colab": {
          "base_uri": "https://localhost:8080/"
        },
        "id": "TKED_X9Celdw",
        "outputId": "1804a580-63b9-4217-a64e-41716c8800b4"
      },
      "source": [
        "out=func_ln(0.5,10)\n",
        "print(out)"
      ],
      "execution_count": 69,
      "outputs": [
        {
          "output_type": "stream",
          "text": [
            "0.4054346478174603\n"
          ],
          "name": "stdout"
        }
      ]
    },
    {
      "cell_type": "markdown",
      "metadata": {
        "id": "bwUvM9AIfSK0"
      },
      "source": [
        "And we compare with the `math` function"
      ]
    },
    {
      "cell_type": "code",
      "metadata": {
        "colab": {
          "base_uri": "https://localhost:8080/"
        },
        "id": "Gy93It0bfXgl",
        "outputId": "2840dbbb-2eba-44f5-82a2-eb55c9188650"
      },
      "source": [
        "out= math.log1p(0.5)  #Retorna el logaritmo natural de 1+x\n",
        "print(out);"
      ],
      "execution_count": 66,
      "outputs": [
        {
          "output_type": "stream",
          "text": [
            "0.4054651081081644\n"
          ],
          "name": "stdout"
        }
      ]
    },
    {
      "cell_type": "markdown",
      "metadata": {
        "id": "1PNOlptQj_Tf"
      },
      "source": [
        "That is a good output. So let's continue with the comparative graphic:"
      ]
    },
    {
      "cell_type": "code",
      "metadata": {
        "colab": {
          "base_uri": "https://localhost:8080/",
          "height": 265
        },
        "id": "Z2FhERiSkJfc",
        "outputId": "c6ed0ba7-5267-48e4-bf8b-28fdfccd75de"
      },
      "source": [
        "import math\n",
        "import numpy as np\n",
        "import matplotlib.pyplot as plt\n",
        "# if using a Jupyter notebook, include:\n",
        "#%matplotlib inline\n",
        "\n",
        "recorrido = np.arange(0,3,0.1)  #Devuelve valores espaciados uniformemente dentro de un intervalo dado \n",
        "#p_ln = math.log1p(recorrido)  \n",
        "p_ln = [math.log1p(e) for e in recorrido] #Funcion de Python\n",
        "t_ln = [func_ln(e,10) for e in recorrido] #Funcion nuestra (recorremos los valores)\n",
        "\n",
        "fig, ax = plt.subplots()\n",
        "ax.plot(recorrido,p_ln)\n",
        "ax.plot(recorrido,t_ln)\n",
        "ax.set_ylim([-5,5])\n",
        "ax.legend(['ln(1+x) function','Taylor Series - 10 terms'])\n",
        "\n",
        "plt.show()"
      ],
      "execution_count": 78,
      "outputs": [
        {
          "output_type": "display_data",
          "data": {
            "image/png": "[encoded data removed]",
            "text/plain": [
              "<Figure size 432x288 with 1 Axes>"
            ]
          },
          "metadata": {
            "tags": [],
            "needs_background": "light"
          }
        }
      ]
    },
    {
      "cell_type": "markdown",
      "metadata": {
        "id": "ny7oj122liLJ"
      },
      "source": [
        "We can use a *for loop* to see how much better adding additional terms to our Taylor Series approximation compares to Python's `cos()` function."
      ]
    },
    {
      "cell_type": "code",
      "metadata": {
        "colab": {
          "base_uri": "https://localhost:8080/",
          "height": 265
        },
        "id": "C3Qm_3nylpXn",
        "outputId": "70d3e32a-096f-431b-fb2a-e7e0c1e3dd48"
      },
      "source": [
        "import math\n",
        "import numpy as np\n",
        "import matplotlib.pyplot as plt\n",
        "\n",
        "recorrido = np.arange(0,3,0.1)\n",
        "p_ln = [math.log1p(e) for e in recorrido]\n",
        "\n",
        "fig, ax = plt.subplots()\n",
        "ax.plot(recorrido,p_ln)\n",
        "\n",
        "# add lines for between 1 and 6 terms in the Taylor Series\n",
        "for i in range(5,15):\n",
        "    t_ln = [func_ln(e,i) for e in recorrido] \n",
        "    ax.plot(recorrido,t_ln)\n",
        "\n",
        "ax.set_ylim([-18,18])\n",
        "\n",
        "# set up legend\n",
        "legend_lst = ['ln(1+x) function']\n",
        "for i in range(1,11):\n",
        "    legend_lst.append(f'Taylor Series - {i} terms')\n",
        "ax.legend(legend_lst, loc=3)\n",
        "\n",
        "plt.show()"
      ],
      "execution_count": 114,
      "outputs": [
        {
          "output_type": "display_data",
          "data": {
            "image/png": "[encoded data removed]",
            "text/plain": [
              "<Figure size 432x288 with 1 Axes>"
            ]
          },
          "metadata": {
            "tags": [],
            "needs_background": "light"
          }
        }
      ]
    },
    {
      "cell_type": "markdown",
      "metadata": {
        "id": "QOiSrGiZdrsL"
      },
      "source": [
        "##Taylor Serie for $\\sin(x)$"
      ]
    },
    {
      "cell_type": "markdown",
      "metadata": {
        "id": "llARwaANm67p"
      },
      "source": [
        "We go to calculate the Taylor Serie for $\\sin(x)$:\n",
        "\n",
        "$$\\sin(x)\\approx \\sum _{n=0}^{\\infty \\:}\\left(-1\\right)^n\\frac{x^{2n+1}}{\\left(2n+1\\right)!}\\approx \\frac{x}{1!}-\\frac{x^3}{3!}+\\frac{x^5}{5!}-\\frac{x^7}{7!}+\\frac{x^9}{9!} - \\cdots$$"
      ]
    },
    {
      "cell_type": "code",
      "metadata": {
        "id": "rs4wIuDrorTn"
      },
      "source": [
        "import math\n",
        "\n",
        "def func_sen(x, n):\n",
        "    sen_approx = 0\n",
        "    for i in range(n):\n",
        "        coef = (-1)**i\n",
        "        num = x**((2*i)+1)\n",
        "        denom = math.factorial((2*i)+1)\n",
        "        sen_approx += (coef*num)/(denom)\n",
        "    \n",
        "    return sen_approx"
      ],
      "execution_count": 86,
      "outputs": []
    },
    {
      "cell_type": "markdown",
      "metadata": {
        "id": "fkOxDMTjpC1M"
      },
      "source": [
        "Now, let's try..."
      ]
    },
    {
      "cell_type": "code",
      "metadata": {
        "colab": {
          "base_uri": "https://localhost:8080/"
        },
        "id": "juGzl39XpC1N",
        "outputId": "22cc7a87-c0e4-4bea-a0aa-3d53f350b6fe"
      },
      "source": [
        "out=func_sen(math.radians(50),5)\n",
        "print(out)"
      ],
      "execution_count": 87,
      "outputs": [
        {
          "output_type": "stream",
          "text": [
            "0.7660444486914486\n"
          ],
          "name": "stdout"
        }
      ]
    },
    {
      "cell_type": "markdown",
      "metadata": {
        "id": "BvKshrBqpC1Q"
      },
      "source": [
        "And we compare with the `math` function"
      ]
    },
    {
      "cell_type": "code",
      "metadata": {
        "colab": {
          "base_uri": "https://localhost:8080/"
        },
        "id": "3RsMAMX8pC1R",
        "outputId": "ee1475f0-d8e9-4dc8-95b1-7ecea000e754"
      },
      "source": [
        "out= math.sin(math.radians(50)) \n",
        "print(out);"
      ],
      "execution_count": 89,
      "outputs": [
        {
          "output_type": "stream",
          "text": [
            "0.766044443118978\n"
          ],
          "name": "stdout"
        }
      ]
    },
    {
      "cell_type": "markdown",
      "metadata": {
        "id": "2fFAhhDfpC1S"
      },
      "source": [
        "That is a good output. So let's continue with the comparative graphic:"
      ]
    },
    {
      "cell_type": "code",
      "metadata": {
        "colab": {
          "base_uri": "https://localhost:8080/",
          "height": 269
        },
        "id": "gXpHKYaJpeaM",
        "outputId": "b253f116-190a-4f8d-9214-edbfef2f3d66"
      },
      "source": [
        "import math\n",
        "import numpy as np\n",
        "import matplotlib.pyplot as plt\n",
        "\n",
        "recorrido = np.arange(-2*math.pi, 2*math.pi, 0.1)  #Devuelve valores espaciados uniformemente dentro de un intervalo dado \n",
        "p_sen = [math.sin(e) for e in recorrido] #Funcion de Python\n",
        "t_sen = [func_sen(e,5) for e in recorrido] #Funcion nuestra (recorremos los valores)\n",
        "\n",
        "fig, ax = plt.subplots()\n",
        "ax.plot(recorrido,p_sen)\n",
        "ax.plot(recorrido,t_sen)\n",
        "ax.set_ylim([-2,2])\n",
        "ax.legend(['sin(x) function','Taylor Series - 5 terms'])\n",
        "\n",
        "plt.show()"
      ],
      "execution_count": 107,
      "outputs": [
        {
          "output_type": "display_data",
          "data": {
            "image/png": "[encoded data removed]",
            "text/plain": [
              "<Figure size 432x288 with 1 Axes>"
            ]
          },
          "metadata": {
            "tags": [],
            "needs_background": "light"
          }
        }
      ]
    },
    {
      "cell_type": "markdown",
      "metadata": {
        "id": "arXqDllBpeae"
      },
      "source": [
        "We can use a *for loop* to see how much better adding additional terms to our Taylor Series approximation compares to Python's `cos()` function."
      ]
    },
    {
      "cell_type": "code",
      "metadata": {
        "colab": {
          "base_uri": "https://localhost:8080/",
          "height": 269
        },
        "id": "tGBEErtXpeae",
        "outputId": "0fce3451-e422-4682-f18f-5a16e2063fc6"
      },
      "source": [
        "import math\n",
        "import numpy as np\n",
        "import matplotlib.pyplot as plt\n",
        "\n",
        "recorrido = np.arange(-2*math.pi, 2*math.pi, 0.1)\n",
        "p_sen = [math.sin(e) for e in recorrido]\n",
        "\n",
        "fig, ax = plt.subplots()\n",
        "ax.plot(recorrido,p_sen)\n",
        "\n",
        "for i in range(1,10):\n",
        "    t_sen = [func_sen(e,i) for e in recorrido] \n",
        "    ax.plot(recorrido,t_sen)\n",
        "\n",
        "ax.set_ylim([-15,5])\n",
        "\n",
        "# set up legend\n",
        "legend_lst = ['sin(x) function']\n",
        "for i in range(1,10):\n",
        "    legend_lst.append(f'Taylor Series - {i} terms')\n",
        "ax.legend(legend_lst, loc=3)\n",
        "\n",
        "plt.show()"
      ],
      "execution_count": 120,
      "outputs": [
        {
          "output_type": "display_data",
          "data": {
            "image/png": "[encoded data removed]",
            "text/plain": [
              "<Figure size 432x288 with 1 Axes>"
            ]
          },
          "metadata": {
            "tags": [],
            "needs_background": "light"
          }
        }
      ]
    }
  ]
}